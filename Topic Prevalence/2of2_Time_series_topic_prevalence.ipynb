{
 "cells": [
  {
   "cell_type": "code",
   "execution_count": 1,
   "metadata": {
    "ExecuteTime": {
     "end_time": "2021-02-01T04:05:47.052081Z",
     "start_time": "2021-02-01T04:05:43.666775Z"
    },
    "id": "btQNSiyrQ1UO"
   },
   "outputs": [],
   "source": [
    "import pandas as pd\n",
    "from tqdm.notebook import tqdm\n",
    "import matplotlib.pyplot as plt\n",
    "import seaborn as sns\n",
    "import numpy as np\n",
    "import nltk\n",
    "import gc\n",
    "import swifter\n",
    "from sklearn.feature_extraction.text import TfidfVectorizer\n",
    "import os\n",
    "import gensim\n",
    "from sklearn.decomposition import LatentDirichletAllocation\n",
    "import pyLDAvis.sklearn\n",
    "import sklearn \n",
    "import gensim\n",
    "import warnings\n",
    "warnings.filterwarnings('ignore')\n",
    "\n",
    "%matplotlib inline\n",
    "pyLDAvis.enable_notebook()"
   ]
  },
  {
   "cell_type": "code",
   "execution_count": 3,
   "metadata": {
    "ExecuteTime": {
     "end_time": "2021-02-01T04:06:32.778769Z",
     "start_time": "2021-02-01T04:06:24.775789Z"
    },
    "id": "UTFn5LwHWdY7"
   },
   "outputs": [],
   "source": [
    "df_narr = pd.read_csv('/Volumes/GoogleDrive/My Drive/Spring/practicum/narratives.csv')"
   ]
  },
  {
   "cell_type": "code",
   "execution_count": 4,
   "metadata": {
    "ExecuteTime": {
     "end_time": "2021-02-01T04:08:14.402538Z",
     "start_time": "2021-02-01T04:06:35.217350Z"
    },
    "colab": {
     "base_uri": "https://localhost:8080/",
     "height": 66,
     "referenced_widgets": [
      "4bd53ecc23384d8a8723c09331d10232",
      "439c47aa2a9540a1aaf5d24364c9133e",
      "18eab1d6fc9e42148bce516744925a58",
      "f1cac371a9d84b83a1ebe088f5d59942",
      "dc260c168c43443280b91f91f1708253",
      "92984f1d4710420cb37434cd6cfb2132",
      "ad9768bb6b95466997bf5476471d2ae1",
      "38f8ebaf7bcf40a9bf1e06f61a942cdf"
     ]
    },
    "id": "P1Tx1OSLRXDZ",
    "outputId": "419c77bd-c54c-46ee-ad95-43b043d4cbb8"
   },
   "outputs": [
    {
     "data": {
      "application/vnd.jupyter.widget-view+json": {
       "model_id": "8fd8866a3f85481c89cf5646112016af",
       "version_major": 2,
       "version_minor": 0
      },
      "text/plain": [
       "HBox(children=(FloatProgress(value=1.0, bar_style='info', max=1.0), HTML(value='')))"
      ]
     },
     "metadata": {},
     "output_type": "display_data"
    },
    {
     "name": "stdout",
     "output_type": "stream",
     "text": [
      "\n"
     ]
    }
   ],
   "source": [
    "narr_file_read = pd.read_csv('/Volumes/GoogleDrive/My Drive/Spring/practicum/narratives.csv', usecols=['Consumer complaint narrative'], converters={'Consumer complaint narrative': eval}, chunksize=10000, iterator=True)\n",
    "stringed = pd.Series(dtype='string')\n",
    "\n",
    "for chunk in tqdm(narr_file_read):\n",
    "    stringed = stringed.append(chunk['Consumer complaint narrative'].swifter.progress_bar(False).apply(lambda x: [' '.join(x)]))"
   ]
  },
  {
   "cell_type": "code",
   "execution_count": 5,
   "metadata": {
    "ExecuteTime": {
     "end_time": "2021-02-01T04:08:14.795045Z",
     "start_time": "2021-02-01T04:08:14.404905Z"
    },
    "id": "PitkUGM-WOeY"
   },
   "outputs": [],
   "source": [
    "stringed = pd.Series([string[0] for string in stringed])"
   ]
  },
  {
   "cell_type": "code",
   "execution_count": 24,
   "metadata": {
    "colab": {
     "base_uri": "https://localhost:8080/"
    },
    "id": "gGocdNR7WPYD",
    "outputId": "2336db32-9cd2-4e92-93b9-709848523838"
   },
   "outputs": [
    {
     "name": "stdout",
     "output_type": "stream",
     "text": [
      "transworld system inc try collect debt mine owe inaccurate\n",
      "<class 'str'>\n"
     ]
    }
   ],
   "source": [
    "for sentence in stringed.values:\n",
    "    print(sentence)\n",
    "    print(type(sentence))\n",
    "    break"
   ]
  },
  {
   "cell_type": "code",
   "execution_count": 6,
   "metadata": {
    "ExecuteTime": {
     "end_time": "2021-02-01T04:08:15.168176Z",
     "start_time": "2021-02-01T04:08:14.797355Z"
    },
    "id": "BTV8RaA2WTLr"
   },
   "outputs": [],
   "source": [
    "df_narr['Consumer complaint narrative'] = stringed.values"
   ]
  },
  {
   "cell_type": "code",
   "execution_count": 7,
   "metadata": {
    "ExecuteTime": {
     "end_time": "2021-02-01T04:08:15.416032Z",
     "start_time": "2021-02-01T04:08:15.170410Z"
    },
    "colab": {
     "base_uri": "https://localhost:8080/"
    },
    "id": "ps6X15PFWiud",
    "outputId": "47f49102-9e71-4375-c908-7574ea24d48b"
   },
   "outputs": [
    {
     "data": {
      "text/plain": [
       "203"
      ]
     },
     "execution_count": 7,
     "metadata": {},
     "output_type": "execute_result"
    }
   ],
   "source": [
    "del stringed\n",
    "del chunk\n",
    "gc.collect()"
   ]
  },
  {
   "cell_type": "code",
   "execution_count": 27,
   "metadata": {
    "colab": {
     "base_uri": "https://localhost:8080/",
     "height": 70
    },
    "id": "1IGXVOKDWnjg",
    "outputId": "68c637cf-795f-444c-cdcf-268447471ad0"
   },
   "outputs": [
    {
     "data": {
      "text/plain": [
       "'hi send letter deliver request information report error response receive back company disheartening feel like take advantage company credit bureau go month try fix issue everyone simply ignore disregard request letter send clearly state exactly need prove information may report error however simply reply back state request anything specific prove claim attach letter send request inside letter also response letter come month half later company reputation illegal loan shark transaction account set ridiculous late fee billing cycle set increase likelihood miss payment wit end situation need resolve immediately'"
      ]
     },
     "execution_count": 27,
     "metadata": {},
     "output_type": "execute_result"
    }
   ],
   "source": [
    "df_narr['Consumer complaint narrative'].iloc[100]"
   ]
  },
  {
   "cell_type": "markdown",
   "metadata": {
    "id": "pj6H3wJqWEIN"
   },
   "source": [
    "#Topic Prevalance over time"
   ]
  },
  {
   "cell_type": "markdown",
   "metadata": {},
   "source": [
    "### Computing Topic Prevalence"
   ]
  },
  {
   "cell_type": "code",
   "execution_count": 9,
   "metadata": {
    "ExecuteTime": {
     "end_time": "2021-02-01T04:10:39.676798Z",
     "start_time": "2021-02-01T04:10:39.598844Z"
    }
   },
   "outputs": [],
   "source": [
    "doc_topic_dist=np.load('/Volumes/GoogleDrive/My Drive/Spring/practicum/doc_topic_dist.npy')"
   ]
  },
  {
   "cell_type": "code",
   "execution_count": 10,
   "metadata": {
    "ExecuteTime": {
     "end_time": "2021-02-01T04:10:50.193975Z",
     "start_time": "2021-02-01T04:10:50.187766Z"
    }
   },
   "outputs": [
    {
     "data": {
      "text/plain": [
       "array([[0.02606542, 0.02608642, 0.02606826, ..., 0.48421719, 0.02606972,\n",
       "        0.02606551],\n",
       "       [0.01769284, 0.01769644, 0.01770169, ..., 0.01771046, 0.01769674,\n",
       "        0.01769293],\n",
       "       [0.01535443, 0.01535827, 0.01535894, ..., 0.55257739, 0.01535494,\n",
       "        0.01535456],\n",
       "       ...,\n",
       "       [0.01227167, 0.01227314, 0.01227324, ..., 0.01227543, 0.01227374,\n",
       "        0.02738085],\n",
       "       [0.0272792 , 0.02727985, 0.02728058, ..., 0.02729499, 0.02727946,\n",
       "        0.02729107],\n",
       "       [0.01504453, 0.01504848, 0.01505042, ..., 0.01504837, 0.01504671,\n",
       "        0.01504483]])"
      ]
     },
     "execution_count": 10,
     "metadata": {},
     "output_type": "execute_result"
    }
   ],
   "source": [
    "doc_topic_dist"
   ]
  },
  {
   "cell_type": "code",
   "execution_count": 11,
   "metadata": {
    "ExecuteTime": {
     "end_time": "2021-02-01T04:13:01.916399Z",
     "start_time": "2021-02-01T04:13:01.162395Z"
    }
   },
   "outputs": [],
   "source": [
    "df_topic = pd.DataFrame(doc_topic_dist).idxmax(axis=1)\n",
    "#identify topic "
   ]
  },
  {
   "cell_type": "code",
   "execution_count": 13,
   "metadata": {
    "ExecuteTime": {
     "end_time": "2021-02-01T04:13:34.408097Z",
     "start_time": "2021-02-01T04:13:34.389757Z"
    }
   },
   "outputs": [],
   "source": [
    "df_prob = pd.DataFrame(doc_topic_dist).max(axis=1)\n",
    "#identify probability"
   ]
  },
  {
   "cell_type": "code",
   "execution_count": 14,
   "metadata": {
    "ExecuteTime": {
     "end_time": "2021-02-01T04:14:05.469904Z",
     "start_time": "2021-02-01T04:14:05.467136Z"
    }
   },
   "outputs": [],
   "source": [
    "date_rec = df_narr['Date received']"
   ]
  },
  {
   "cell_type": "code",
   "execution_count": 16,
   "metadata": {
    "ExecuteTime": {
     "end_time": "2021-02-01T04:15:06.323924Z",
     "start_time": "2021-02-01T04:15:06.311021Z"
    }
   },
   "outputs": [],
   "source": [
    "df_max_topics = pd.concat([df_topic, df_prob, date_rec], axis = 1)\n",
    "\n",
    "df_max_topics.columns =['Topic', 'max_prob', 'date_rec'] "
   ]
  },
  {
   "cell_type": "code",
   "execution_count": 19,
   "metadata": {
    "ExecuteTime": {
     "end_time": "2021-02-01T04:16:59.019376Z",
     "start_time": "2021-02-01T04:16:58.886920Z"
    }
   },
   "outputs": [],
   "source": [
    "df_max_topics['date_rec'] = pd.to_datetime(df_max_topics['date_rec'])\n",
    "df_max_topics['year'] = pd.DatetimeIndex(df_max_topics['date_rec']).year"
   ]
  },
  {
   "cell_type": "code",
   "execution_count": 27,
   "metadata": {
    "ExecuteTime": {
     "end_time": "2021-02-01T04:22:42.242046Z",
     "start_time": "2021-02-01T04:22:42.222186Z"
    }
   },
   "outputs": [
    {
     "data": {
      "text/html": [
       "<div>\n",
       "<style scoped>\n",
       "    .dataframe tbody tr th:only-of-type {\n",
       "        vertical-align: middle;\n",
       "    }\n",
       "\n",
       "    .dataframe tbody tr th {\n",
       "        vertical-align: top;\n",
       "    }\n",
       "\n",
       "    .dataframe thead th {\n",
       "        text-align: right;\n",
       "    }\n",
       "</style>\n",
       "<table border=\"1\" class=\"dataframe\">\n",
       "  <thead>\n",
       "    <tr style=\"text-align: right;\">\n",
       "      <th></th>\n",
       "      <th>year</th>\n",
       "      <th>total_docs</th>\n",
       "    </tr>\n",
       "  </thead>\n",
       "  <tbody>\n",
       "    <tr>\n",
       "      <th>0</th>\n",
       "      <td>2015</td>\n",
       "      <td>54751</td>\n",
       "    </tr>\n",
       "    <tr>\n",
       "      <th>1</th>\n",
       "      <td>2016</td>\n",
       "      <td>77819</td>\n",
       "    </tr>\n",
       "    <tr>\n",
       "      <th>2</th>\n",
       "      <td>2017</td>\n",
       "      <td>115171</td>\n",
       "    </tr>\n",
       "    <tr>\n",
       "      <th>3</th>\n",
       "      <td>2018</td>\n",
       "      <td>118480</td>\n",
       "    </tr>\n",
       "    <tr>\n",
       "      <th>4</th>\n",
       "      <td>2019</td>\n",
       "      <td>124790</td>\n",
       "    </tr>\n",
       "    <tr>\n",
       "      <th>5</th>\n",
       "      <td>2020</td>\n",
       "      <td>164020</td>\n",
       "    </tr>\n",
       "    <tr>\n",
       "      <th>6</th>\n",
       "      <td>2021</td>\n",
       "      <td>2688</td>\n",
       "    </tr>\n",
       "  </tbody>\n",
       "</table>\n",
       "</div>"
      ],
      "text/plain": [
       "   year  total_docs\n",
       "0  2015       54751\n",
       "1  2016       77819\n",
       "2  2017      115171\n",
       "3  2018      118480\n",
       "4  2019      124790\n",
       "5  2020      164020\n",
       "6  2021        2688"
      ]
     },
     "execution_count": 27,
     "metadata": {},
     "output_type": "execute_result"
    }
   ],
   "source": [
    "total = df_max_topics.groupby('year').agg({'Topic':'count'}).reset_index()\n",
    "total.columns = ['year','total_docs']\n",
    "total\n",
    "#total count of documents per year"
   ]
  },
  {
   "cell_type": "code",
   "execution_count": 36,
   "metadata": {
    "ExecuteTime": {
     "end_time": "2021-02-01T04:30:38.648736Z",
     "start_time": "2021-02-01T04:30:38.610680Z"
    }
   },
   "outputs": [
    {
     "data": {
      "text/html": [
       "<div>\n",
       "<style scoped>\n",
       "    .dataframe tbody tr th:only-of-type {\n",
       "        vertical-align: middle;\n",
       "    }\n",
       "\n",
       "    .dataframe tbody tr th {\n",
       "        vertical-align: top;\n",
       "    }\n",
       "\n",
       "    .dataframe thead th {\n",
       "        text-align: right;\n",
       "    }\n",
       "</style>\n",
       "<table border=\"1\" class=\"dataframe\">\n",
       "  <thead>\n",
       "    <tr style=\"text-align: right;\">\n",
       "      <th></th>\n",
       "      <th>year</th>\n",
       "      <th>Topic</th>\n",
       "      <th>Max_Count</th>\n",
       "    </tr>\n",
       "  </thead>\n",
       "  <tbody>\n",
       "    <tr>\n",
       "      <th>0</th>\n",
       "      <td>2015</td>\n",
       "      <td>0</td>\n",
       "      <td>7</td>\n",
       "    </tr>\n",
       "    <tr>\n",
       "      <th>1</th>\n",
       "      <td>2015</td>\n",
       "      <td>1</td>\n",
       "      <td>724</td>\n",
       "    </tr>\n",
       "    <tr>\n",
       "      <th>2</th>\n",
       "      <td>2015</td>\n",
       "      <td>2</td>\n",
       "      <td>2159</td>\n",
       "    </tr>\n",
       "    <tr>\n",
       "      <th>3</th>\n",
       "      <td>2015</td>\n",
       "      <td>3</td>\n",
       "      <td>232</td>\n",
       "    </tr>\n",
       "    <tr>\n",
       "      <th>4</th>\n",
       "      <td>2015</td>\n",
       "      <td>4</td>\n",
       "      <td>37430</td>\n",
       "    </tr>\n",
       "    <tr>\n",
       "      <th>...</th>\n",
       "      <td>...</td>\n",
       "      <td>...</td>\n",
       "      <td>...</td>\n",
       "    </tr>\n",
       "    <tr>\n",
       "      <th>65</th>\n",
       "      <td>2021</td>\n",
       "      <td>5</td>\n",
       "      <td>884</td>\n",
       "    </tr>\n",
       "    <tr>\n",
       "      <th>66</th>\n",
       "      <td>2021</td>\n",
       "      <td>6</td>\n",
       "      <td>8</td>\n",
       "    </tr>\n",
       "    <tr>\n",
       "      <th>67</th>\n",
       "      <td>2021</td>\n",
       "      <td>7</td>\n",
       "      <td>343</td>\n",
       "    </tr>\n",
       "    <tr>\n",
       "      <th>68</th>\n",
       "      <td>2021</td>\n",
       "      <td>8</td>\n",
       "      <td>16</td>\n",
       "    </tr>\n",
       "    <tr>\n",
       "      <th>69</th>\n",
       "      <td>2021</td>\n",
       "      <td>9</td>\n",
       "      <td>1</td>\n",
       "    </tr>\n",
       "  </tbody>\n",
       "</table>\n",
       "<p>70 rows × 3 columns</p>\n",
       "</div>"
      ],
      "text/plain": [
       "    year  Topic  Max_Count\n",
       "0   2015      0          7\n",
       "1   2015      1        724\n",
       "2   2015      2       2159\n",
       "3   2015      3        232\n",
       "4   2015      4      37430\n",
       "..   ...    ...        ...\n",
       "65  2021      5        884\n",
       "66  2021      6          8\n",
       "67  2021      7        343\n",
       "68  2021      8         16\n",
       "69  2021      9          1\n",
       "\n",
       "[70 rows x 3 columns]"
      ]
     },
     "execution_count": 36,
     "metadata": {},
     "output_type": "execute_result"
    }
   ],
   "source": [
    "maxcount = df_max_topics.groupby(['year','Topic']).agg({'max_prob':'count'}).reset_index()\n",
    "maxcount.columns = ['year', 'Topic', 'Max_Count']\n",
    "maxcount\n",
    "#count of documents per topic per year"
   ]
  },
  {
   "cell_type": "code",
   "execution_count": 37,
   "metadata": {
    "ExecuteTime": {
     "end_time": "2021-02-01T04:30:39.802575Z",
     "start_time": "2021-02-01T04:30:39.788028Z"
    }
   },
   "outputs": [
    {
     "data": {
      "text/html": [
       "<div>\n",
       "<style scoped>\n",
       "    .dataframe tbody tr th:only-of-type {\n",
       "        vertical-align: middle;\n",
       "    }\n",
       "\n",
       "    .dataframe tbody tr th {\n",
       "        vertical-align: top;\n",
       "    }\n",
       "\n",
       "    .dataframe thead th {\n",
       "        text-align: right;\n",
       "    }\n",
       "</style>\n",
       "<table border=\"1\" class=\"dataframe\">\n",
       "  <thead>\n",
       "    <tr style=\"text-align: right;\">\n",
       "      <th></th>\n",
       "      <th>year</th>\n",
       "      <th>Topic</th>\n",
       "      <th>Max_Count</th>\n",
       "      <th>total_docs</th>\n",
       "    </tr>\n",
       "  </thead>\n",
       "  <tbody>\n",
       "    <tr>\n",
       "      <th>0</th>\n",
       "      <td>2015</td>\n",
       "      <td>0</td>\n",
       "      <td>7</td>\n",
       "      <td>54751</td>\n",
       "    </tr>\n",
       "    <tr>\n",
       "      <th>1</th>\n",
       "      <td>2015</td>\n",
       "      <td>1</td>\n",
       "      <td>724</td>\n",
       "      <td>54751</td>\n",
       "    </tr>\n",
       "    <tr>\n",
       "      <th>2</th>\n",
       "      <td>2015</td>\n",
       "      <td>2</td>\n",
       "      <td>2159</td>\n",
       "      <td>54751</td>\n",
       "    </tr>\n",
       "    <tr>\n",
       "      <th>3</th>\n",
       "      <td>2015</td>\n",
       "      <td>3</td>\n",
       "      <td>232</td>\n",
       "      <td>54751</td>\n",
       "    </tr>\n",
       "    <tr>\n",
       "      <th>4</th>\n",
       "      <td>2015</td>\n",
       "      <td>4</td>\n",
       "      <td>37430</td>\n",
       "      <td>54751</td>\n",
       "    </tr>\n",
       "    <tr>\n",
       "      <th>...</th>\n",
       "      <td>...</td>\n",
       "      <td>...</td>\n",
       "      <td>...</td>\n",
       "      <td>...</td>\n",
       "    </tr>\n",
       "    <tr>\n",
       "      <th>65</th>\n",
       "      <td>2021</td>\n",
       "      <td>5</td>\n",
       "      <td>884</td>\n",
       "      <td>2688</td>\n",
       "    </tr>\n",
       "    <tr>\n",
       "      <th>66</th>\n",
       "      <td>2021</td>\n",
       "      <td>6</td>\n",
       "      <td>8</td>\n",
       "      <td>2688</td>\n",
       "    </tr>\n",
       "    <tr>\n",
       "      <th>67</th>\n",
       "      <td>2021</td>\n",
       "      <td>7</td>\n",
       "      <td>343</td>\n",
       "      <td>2688</td>\n",
       "    </tr>\n",
       "    <tr>\n",
       "      <th>68</th>\n",
       "      <td>2021</td>\n",
       "      <td>8</td>\n",
       "      <td>16</td>\n",
       "      <td>2688</td>\n",
       "    </tr>\n",
       "    <tr>\n",
       "      <th>69</th>\n",
       "      <td>2021</td>\n",
       "      <td>9</td>\n",
       "      <td>1</td>\n",
       "      <td>2688</td>\n",
       "    </tr>\n",
       "  </tbody>\n",
       "</table>\n",
       "<p>70 rows × 4 columns</p>\n",
       "</div>"
      ],
      "text/plain": [
       "    year  Topic  Max_Count  total_docs\n",
       "0   2015      0          7       54751\n",
       "1   2015      1        724       54751\n",
       "2   2015      2       2159       54751\n",
       "3   2015      3        232       54751\n",
       "4   2015      4      37430       54751\n",
       "..   ...    ...        ...         ...\n",
       "65  2021      5        884        2688\n",
       "66  2021      6          8        2688\n",
       "67  2021      7        343        2688\n",
       "68  2021      8         16        2688\n",
       "69  2021      9          1        2688\n",
       "\n",
       "[70 rows x 4 columns]"
      ]
     },
     "execution_count": 37,
     "metadata": {},
     "output_type": "execute_result"
    }
   ],
   "source": [
    "max_counts = maxcount.merge(total, on='year', how='left')\n",
    "max_counts"
   ]
  },
  {
   "cell_type": "code",
   "execution_count": 38,
   "metadata": {
    "ExecuteTime": {
     "end_time": "2021-02-01T04:31:07.482728Z",
     "start_time": "2021-02-01T04:31:07.470497Z"
    }
   },
   "outputs": [
    {
     "data": {
      "text/html": [
       "<div>\n",
       "<style scoped>\n",
       "    .dataframe tbody tr th:only-of-type {\n",
       "        vertical-align: middle;\n",
       "    }\n",
       "\n",
       "    .dataframe tbody tr th {\n",
       "        vertical-align: top;\n",
       "    }\n",
       "\n",
       "    .dataframe thead th {\n",
       "        text-align: right;\n",
       "    }\n",
       "</style>\n",
       "<table border=\"1\" class=\"dataframe\">\n",
       "  <thead>\n",
       "    <tr style=\"text-align: right;\">\n",
       "      <th></th>\n",
       "      <th>year</th>\n",
       "      <th>Topic</th>\n",
       "      <th>Max_Count</th>\n",
       "      <th>total_docs</th>\n",
       "      <th>prevalence</th>\n",
       "    </tr>\n",
       "  </thead>\n",
       "  <tbody>\n",
       "    <tr>\n",
       "      <th>0</th>\n",
       "      <td>2015</td>\n",
       "      <td>0</td>\n",
       "      <td>7</td>\n",
       "      <td>54751</td>\n",
       "      <td>0.000128</td>\n",
       "    </tr>\n",
       "    <tr>\n",
       "      <th>1</th>\n",
       "      <td>2015</td>\n",
       "      <td>1</td>\n",
       "      <td>724</td>\n",
       "      <td>54751</td>\n",
       "      <td>0.013224</td>\n",
       "    </tr>\n",
       "    <tr>\n",
       "      <th>2</th>\n",
       "      <td>2015</td>\n",
       "      <td>2</td>\n",
       "      <td>2159</td>\n",
       "      <td>54751</td>\n",
       "      <td>0.039433</td>\n",
       "    </tr>\n",
       "    <tr>\n",
       "      <th>3</th>\n",
       "      <td>2015</td>\n",
       "      <td>3</td>\n",
       "      <td>232</td>\n",
       "      <td>54751</td>\n",
       "      <td>0.004237</td>\n",
       "    </tr>\n",
       "    <tr>\n",
       "      <th>4</th>\n",
       "      <td>2015</td>\n",
       "      <td>4</td>\n",
       "      <td>37430</td>\n",
       "      <td>54751</td>\n",
       "      <td>0.683640</td>\n",
       "    </tr>\n",
       "    <tr>\n",
       "      <th>...</th>\n",
       "      <td>...</td>\n",
       "      <td>...</td>\n",
       "      <td>...</td>\n",
       "      <td>...</td>\n",
       "      <td>...</td>\n",
       "    </tr>\n",
       "    <tr>\n",
       "      <th>65</th>\n",
       "      <td>2021</td>\n",
       "      <td>5</td>\n",
       "      <td>884</td>\n",
       "      <td>2688</td>\n",
       "      <td>0.328869</td>\n",
       "    </tr>\n",
       "    <tr>\n",
       "      <th>66</th>\n",
       "      <td>2021</td>\n",
       "      <td>6</td>\n",
       "      <td>8</td>\n",
       "      <td>2688</td>\n",
       "      <td>0.002976</td>\n",
       "    </tr>\n",
       "    <tr>\n",
       "      <th>67</th>\n",
       "      <td>2021</td>\n",
       "      <td>7</td>\n",
       "      <td>343</td>\n",
       "      <td>2688</td>\n",
       "      <td>0.127604</td>\n",
       "    </tr>\n",
       "    <tr>\n",
       "      <th>68</th>\n",
       "      <td>2021</td>\n",
       "      <td>8</td>\n",
       "      <td>16</td>\n",
       "      <td>2688</td>\n",
       "      <td>0.005952</td>\n",
       "    </tr>\n",
       "    <tr>\n",
       "      <th>69</th>\n",
       "      <td>2021</td>\n",
       "      <td>9</td>\n",
       "      <td>1</td>\n",
       "      <td>2688</td>\n",
       "      <td>0.000372</td>\n",
       "    </tr>\n",
       "  </tbody>\n",
       "</table>\n",
       "<p>70 rows × 5 columns</p>\n",
       "</div>"
      ],
      "text/plain": [
       "    year  Topic  Max_Count  total_docs  prevalence\n",
       "0   2015      0          7       54751    0.000128\n",
       "1   2015      1        724       54751    0.013224\n",
       "2   2015      2       2159       54751    0.039433\n",
       "3   2015      3        232       54751    0.004237\n",
       "4   2015      4      37430       54751    0.683640\n",
       "..   ...    ...        ...         ...         ...\n",
       "65  2021      5        884        2688    0.328869\n",
       "66  2021      6          8        2688    0.002976\n",
       "67  2021      7        343        2688    0.127604\n",
       "68  2021      8         16        2688    0.005952\n",
       "69  2021      9          1        2688    0.000372\n",
       "\n",
       "[70 rows x 5 columns]"
      ]
     },
     "execution_count": 38,
     "metadata": {},
     "output_type": "execute_result"
    }
   ],
   "source": [
    "max_counts['prevalence'] = max_counts['Max_Count']/max_counts['total_docs']\n",
    "max_counts"
   ]
  },
  {
   "cell_type": "code",
   "execution_count": 40,
   "metadata": {
    "ExecuteTime": {
     "end_time": "2021-02-01T04:33:42.624726Z",
     "start_time": "2021-02-01T04:33:42.620752Z"
    }
   },
   "outputs": [],
   "source": [
    "topic_words = pickle.load( open('/Volumes/GoogleDrive/My Drive/Spring/practicum/lda_topic_keywords.pkl','rb'))"
   ]
  },
  {
   "cell_type": "code",
   "execution_count": 49,
   "metadata": {
    "ExecuteTime": {
     "end_time": "2021-02-01T04:40:11.382149Z",
     "start_time": "2021-02-01T04:40:11.370692Z"
    }
   },
   "outputs": [
    {
     "data": {
      "text/html": [
       "<div>\n",
       "<style scoped>\n",
       "    .dataframe tbody tr th:only-of-type {\n",
       "        vertical-align: middle;\n",
       "    }\n",
       "\n",
       "    .dataframe tbody tr th {\n",
       "        vertical-align: top;\n",
       "    }\n",
       "\n",
       "    .dataframe thead th {\n",
       "        text-align: right;\n",
       "    }\n",
       "</style>\n",
       "<table border=\"1\" class=\"dataframe\">\n",
       "  <thead>\n",
       "    <tr style=\"text-align: right;\">\n",
       "      <th></th>\n",
       "      <th>Topic</th>\n",
       "      <th>Words</th>\n",
       "    </tr>\n",
       "  </thead>\n",
       "  <tbody>\n",
       "    <tr>\n",
       "      <th>0</th>\n",
       "      <td>0</td>\n",
       "      <td>ditech, insurance, navy, union, repossession</td>\n",
       "    </tr>\n",
       "    <tr>\n",
       "      <th>1</th>\n",
       "      <td>1</td>\n",
       "      <td>account, report, credit, open, mine</td>\n",
       "    </tr>\n",
       "    <tr>\n",
       "      <th>2</th>\n",
       "      <td>2</td>\n",
       "      <td>credit, report, inquiry, remove, account</td>\n",
       "    </tr>\n",
       "    <tr>\n",
       "      <th>3</th>\n",
       "      <td>3</td>\n",
       "      <td>theft, identity, victim, block, fraudulent</td>\n",
       "    </tr>\n",
       "    <tr>\n",
       "      <th>4</th>\n",
       "      <td>4</td>\n",
       "      <td>payment, loan, account, pay, call</td>\n",
       "    </tr>\n",
       "    <tr>\n",
       "      <th>5</th>\n",
       "      <td>5</td>\n",
       "      <td>report, account, credit, information, dispute</td>\n",
       "    </tr>\n",
       "    <tr>\n",
       "      <th>6</th>\n",
       "      <td>6</td>\n",
       "      <td>call, number, phone, stop, social</td>\n",
       "    </tr>\n",
       "    <tr>\n",
       "      <th>7</th>\n",
       "      <td>7</td>\n",
       "      <td>debt, collection, report, credit, account</td>\n",
       "    </tr>\n",
       "    <tr>\n",
       "      <th>8</th>\n",
       "      <td>8</td>\n",
       "      <td>late, report, usaa, understanding, mistake</td>\n",
       "    </tr>\n",
       "    <tr>\n",
       "      <th>9</th>\n",
       "      <td>9</td>\n",
       "      <td>loan, student, school, deferment, education</td>\n",
       "    </tr>\n",
       "  </tbody>\n",
       "</table>\n",
       "</div>"
      ],
      "text/plain": [
       "   Topic                                          Words\n",
       "0      0   ditech, insurance, navy, union, repossession\n",
       "1      1            account, report, credit, open, mine\n",
       "2      2       credit, report, inquiry, remove, account\n",
       "3      3     theft, identity, victim, block, fraudulent\n",
       "4      4              payment, loan, account, pay, call\n",
       "5      5  report, account, credit, information, dispute\n",
       "6      6              call, number, phone, stop, social\n",
       "7      7      debt, collection, report, credit, account\n",
       "8      8     late, report, usaa, understanding, mistake\n",
       "9      9    loan, student, school, deferment, education"
      ]
     },
     "execution_count": 49,
     "metadata": {},
     "output_type": "execute_result"
    }
   ],
   "source": [
    "words_df = pd.DataFrame(topic_words)\n",
    "words_df = words_df.iloc[:,0:5]\n",
    "words_df1 = words_df.apply(lambda x: ', '.join(x), axis=1).reset_index()\n",
    "words_df1.columns = ['Topic', 'Words']\n",
    "words_df1\n",
    "#top five words per topic"
   ]
  },
  {
   "cell_type": "code",
   "execution_count": 50,
   "metadata": {
    "ExecuteTime": {
     "end_time": "2021-02-01T04:40:59.189434Z",
     "start_time": "2021-02-01T04:40:59.168914Z"
    }
   },
   "outputs": [
    {
     "data": {
      "text/html": [
       "<div>\n",
       "<style scoped>\n",
       "    .dataframe tbody tr th:only-of-type {\n",
       "        vertical-align: middle;\n",
       "    }\n",
       "\n",
       "    .dataframe tbody tr th {\n",
       "        vertical-align: top;\n",
       "    }\n",
       "\n",
       "    .dataframe thead th {\n",
       "        text-align: right;\n",
       "    }\n",
       "</style>\n",
       "<table border=\"1\" class=\"dataframe\">\n",
       "  <thead>\n",
       "    <tr style=\"text-align: right;\">\n",
       "      <th></th>\n",
       "      <th>year</th>\n",
       "      <th>Topic</th>\n",
       "      <th>Max_Count</th>\n",
       "      <th>total_docs</th>\n",
       "      <th>prevalence</th>\n",
       "      <th>Words</th>\n",
       "    </tr>\n",
       "  </thead>\n",
       "  <tbody>\n",
       "    <tr>\n",
       "      <th>0</th>\n",
       "      <td>2015</td>\n",
       "      <td>0</td>\n",
       "      <td>7</td>\n",
       "      <td>54751</td>\n",
       "      <td>0.000128</td>\n",
       "      <td>ditech, insurance, navy, union, repossession</td>\n",
       "    </tr>\n",
       "    <tr>\n",
       "      <th>1</th>\n",
       "      <td>2016</td>\n",
       "      <td>0</td>\n",
       "      <td>6</td>\n",
       "      <td>77819</td>\n",
       "      <td>0.000077</td>\n",
       "      <td>ditech, insurance, navy, union, repossession</td>\n",
       "    </tr>\n",
       "    <tr>\n",
       "      <th>2</th>\n",
       "      <td>2017</td>\n",
       "      <td>0</td>\n",
       "      <td>26</td>\n",
       "      <td>115171</td>\n",
       "      <td>0.000226</td>\n",
       "      <td>ditech, insurance, navy, union, repossession</td>\n",
       "    </tr>\n",
       "    <tr>\n",
       "      <th>3</th>\n",
       "      <td>2018</td>\n",
       "      <td>0</td>\n",
       "      <td>13</td>\n",
       "      <td>118480</td>\n",
       "      <td>0.000110</td>\n",
       "      <td>ditech, insurance, navy, union, repossession</td>\n",
       "    </tr>\n",
       "    <tr>\n",
       "      <th>4</th>\n",
       "      <td>2019</td>\n",
       "      <td>0</td>\n",
       "      <td>31</td>\n",
       "      <td>124790</td>\n",
       "      <td>0.000248</td>\n",
       "      <td>ditech, insurance, navy, union, repossession</td>\n",
       "    </tr>\n",
       "    <tr>\n",
       "      <th>...</th>\n",
       "      <td>...</td>\n",
       "      <td>...</td>\n",
       "      <td>...</td>\n",
       "      <td>...</td>\n",
       "      <td>...</td>\n",
       "      <td>...</td>\n",
       "    </tr>\n",
       "    <tr>\n",
       "      <th>65</th>\n",
       "      <td>2017</td>\n",
       "      <td>9</td>\n",
       "      <td>72</td>\n",
       "      <td>115171</td>\n",
       "      <td>0.000625</td>\n",
       "      <td>loan, student, school, deferment, education</td>\n",
       "    </tr>\n",
       "    <tr>\n",
       "      <th>66</th>\n",
       "      <td>2018</td>\n",
       "      <td>9</td>\n",
       "      <td>61</td>\n",
       "      <td>118480</td>\n",
       "      <td>0.000515</td>\n",
       "      <td>loan, student, school, deferment, education</td>\n",
       "    </tr>\n",
       "    <tr>\n",
       "      <th>67</th>\n",
       "      <td>2019</td>\n",
       "      <td>9</td>\n",
       "      <td>52</td>\n",
       "      <td>124790</td>\n",
       "      <td>0.000417</td>\n",
       "      <td>loan, student, school, deferment, education</td>\n",
       "    </tr>\n",
       "    <tr>\n",
       "      <th>68</th>\n",
       "      <td>2020</td>\n",
       "      <td>9</td>\n",
       "      <td>60</td>\n",
       "      <td>164020</td>\n",
       "      <td>0.000366</td>\n",
       "      <td>loan, student, school, deferment, education</td>\n",
       "    </tr>\n",
       "    <tr>\n",
       "      <th>69</th>\n",
       "      <td>2021</td>\n",
       "      <td>9</td>\n",
       "      <td>1</td>\n",
       "      <td>2688</td>\n",
       "      <td>0.000372</td>\n",
       "      <td>loan, student, school, deferment, education</td>\n",
       "    </tr>\n",
       "  </tbody>\n",
       "</table>\n",
       "<p>70 rows × 6 columns</p>\n",
       "</div>"
      ],
      "text/plain": [
       "    year  Topic  Max_Count  total_docs  prevalence  \\\n",
       "0   2015      0          7       54751    0.000128   \n",
       "1   2016      0          6       77819    0.000077   \n",
       "2   2017      0         26      115171    0.000226   \n",
       "3   2018      0         13      118480    0.000110   \n",
       "4   2019      0         31      124790    0.000248   \n",
       "..   ...    ...        ...         ...         ...   \n",
       "65  2017      9         72      115171    0.000625   \n",
       "66  2018      9         61      118480    0.000515   \n",
       "67  2019      9         52      124790    0.000417   \n",
       "68  2020      9         60      164020    0.000366   \n",
       "69  2021      9          1        2688    0.000372   \n",
       "\n",
       "                                           Words  \n",
       "0   ditech, insurance, navy, union, repossession  \n",
       "1   ditech, insurance, navy, union, repossession  \n",
       "2   ditech, insurance, navy, union, repossession  \n",
       "3   ditech, insurance, navy, union, repossession  \n",
       "4   ditech, insurance, navy, union, repossession  \n",
       "..                                           ...  \n",
       "65   loan, student, school, deferment, education  \n",
       "66   loan, student, school, deferment, education  \n",
       "67   loan, student, school, deferment, education  \n",
       "68   loan, student, school, deferment, education  \n",
       "69   loan, student, school, deferment, education  \n",
       "\n",
       "[70 rows x 6 columns]"
      ]
     },
     "execution_count": 50,
     "metadata": {},
     "output_type": "execute_result"
    }
   ],
   "source": [
    "max_counts = max_counts.merge(words_df1, on=\"Topic\")\n",
    "max_counts"
   ]
  },
  {
   "cell_type": "code",
   "execution_count": 78,
   "metadata": {
    "ExecuteTime": {
     "end_time": "2021-02-01T05:11:23.364629Z",
     "start_time": "2021-02-01T05:11:22.567604Z"
    }
   },
   "outputs": [
    {
     "data": {
      "text/plain": [
       "Text(0.5, 0.98, 'Percentage of Documents where Topic is Most Significant per Year')"
      ]
     },
     "execution_count": 78,
     "metadata": {},
     "output_type": "execute_result"
    },
    {
     "data": {
      "image/png": "[encoded data removed]",
      "text/plain": [
       "<Figure size 906.125x432 with 1 Axes>"
      ]
     },
     "metadata": {
      "needs_background": "light"
     },
     "output_type": "display_data"
    }
   ],
   "source": [
    "p = sns.factorplot(data=max_counts, x=\"year\", y='prevalence', kind='point', hue='Words', col_wrap=None, \n",
    "                   size=6, aspect=1.5)\n",
    "p.fig.suptitle('Percentage of Documents where Topic is Most Significant per Year', fontsize=14)\n",
    "    "
   ]
  },
  {
   "cell_type": "markdown",
   "metadata": {},
   "source": [
    "### Normalizing Weights to Proportion of Total"
   ]
  },
  {
   "cell_type": "code",
   "execution_count": 71,
   "metadata": {
    "ExecuteTime": {
     "end_time": "2021-02-01T05:06:08.806266Z",
     "start_time": "2021-02-01T05:06:08.483530Z"
    }
   },
   "outputs": [],
   "source": [
    "topic_dis = pd.DataFrame(doc_topic_dist).reset_index()\n",
    "topic_dis.rename(columns={'index':'doc_id'}, inplace=True)\n",
    "topic_dis = topic_dis.melt(id_vars=['doc_id'], \n",
    "        var_name=\"Topic\", \n",
    "        value_name=\"Topic_prob\")\n",
    "#probabilities of each topic of each document"
   ]
  },
  {
   "cell_type": "code",
   "execution_count": 72,
   "metadata": {
    "ExecuteTime": {
     "end_time": "2021-02-01T05:06:16.808917Z",
     "start_time": "2021-02-01T05:06:15.485615Z"
    }
   },
   "outputs": [
    {
     "data": {
      "text/html": [
       "<div>\n",
       "<style scoped>\n",
       "    .dataframe tbody tr th:only-of-type {\n",
       "        vertical-align: middle;\n",
       "    }\n",
       "\n",
       "    .dataframe tbody tr th {\n",
       "        vertical-align: top;\n",
       "    }\n",
       "\n",
       "    .dataframe thead th {\n",
       "        text-align: right;\n",
       "    }\n",
       "</style>\n",
       "<table border=\"1\" class=\"dataframe\">\n",
       "  <thead>\n",
       "    <tr style=\"text-align: right;\">\n",
       "      <th></th>\n",
       "      <th>doc_id</th>\n",
       "      <th>Topic</th>\n",
       "      <th>Topic_prob</th>\n",
       "      <th>year</th>\n",
       "    </tr>\n",
       "  </thead>\n",
       "  <tbody>\n",
       "    <tr>\n",
       "      <th>0</th>\n",
       "      <td>0</td>\n",
       "      <td>0</td>\n",
       "      <td>0.026065</td>\n",
       "      <td>2019</td>\n",
       "    </tr>\n",
       "    <tr>\n",
       "      <th>1</th>\n",
       "      <td>1</td>\n",
       "      <td>0</td>\n",
       "      <td>0.017693</td>\n",
       "      <td>2019</td>\n",
       "    </tr>\n",
       "    <tr>\n",
       "      <th>2</th>\n",
       "      <td>2</td>\n",
       "      <td>0</td>\n",
       "      <td>0.015354</td>\n",
       "      <td>2019</td>\n",
       "    </tr>\n",
       "    <tr>\n",
       "      <th>3</th>\n",
       "      <td>3</td>\n",
       "      <td>0</td>\n",
       "      <td>0.015017</td>\n",
       "      <td>2019</td>\n",
       "    </tr>\n",
       "    <tr>\n",
       "      <th>4</th>\n",
       "      <td>4</td>\n",
       "      <td>0</td>\n",
       "      <td>0.012220</td>\n",
       "      <td>2019</td>\n",
       "    </tr>\n",
       "    <tr>\n",
       "      <th>...</th>\n",
       "      <td>...</td>\n",
       "      <td>...</td>\n",
       "      <td>...</td>\n",
       "      <td>...</td>\n",
       "    </tr>\n",
       "    <tr>\n",
       "      <th>6577185</th>\n",
       "      <td>657714</td>\n",
       "      <td>9</td>\n",
       "      <td>0.015794</td>\n",
       "      <td>2016</td>\n",
       "    </tr>\n",
       "    <tr>\n",
       "      <th>6577186</th>\n",
       "      <td>657715</td>\n",
       "      <td>9</td>\n",
       "      <td>0.015324</td>\n",
       "      <td>2017</td>\n",
       "    </tr>\n",
       "    <tr>\n",
       "      <th>6577187</th>\n",
       "      <td>657716</td>\n",
       "      <td>9</td>\n",
       "      <td>0.027381</td>\n",
       "      <td>2015</td>\n",
       "    </tr>\n",
       "    <tr>\n",
       "      <th>6577188</th>\n",
       "      <td>657717</td>\n",
       "      <td>9</td>\n",
       "      <td>0.027291</td>\n",
       "      <td>2015</td>\n",
       "    </tr>\n",
       "    <tr>\n",
       "      <th>6577189</th>\n",
       "      <td>657718</td>\n",
       "      <td>9</td>\n",
       "      <td>0.015045</td>\n",
       "      <td>2016</td>\n",
       "    </tr>\n",
       "  </tbody>\n",
       "</table>\n",
       "<p>6577190 rows × 4 columns</p>\n",
       "</div>"
      ],
      "text/plain": [
       "         doc_id Topic  Topic_prob  year\n",
       "0             0     0    0.026065  2019\n",
       "1             1     0    0.017693  2019\n",
       "2             2     0    0.015354  2019\n",
       "3             3     0    0.015017  2019\n",
       "4             4     0    0.012220  2019\n",
       "...         ...   ...         ...   ...\n",
       "6577185  657714     9    0.015794  2016\n",
       "6577186  657715     9    0.015324  2017\n",
       "6577187  657716     9    0.027381  2015\n",
       "6577188  657717     9    0.027291  2015\n",
       "6577189  657718     9    0.015045  2016\n",
       "\n",
       "[6577190 rows x 4 columns]"
      ]
     },
     "execution_count": 72,
     "metadata": {},
     "output_type": "execute_result"
    }
   ],
   "source": [
    "docyears = df_max_topics[['year']].reset_index()\n",
    "docyears.rename(columns={'index':'doc_id'}, inplace=True)\n",
    "topic_dis = topic_dis.merge(docyears, on='doc_id', how='left')\n",
    "topic_dis"
   ]
  },
  {
   "cell_type": "code",
   "execution_count": 80,
   "metadata": {
    "ExecuteTime": {
     "end_time": "2021-02-01T05:12:17.196060Z",
     "start_time": "2021-02-01T05:12:16.575580Z"
    }
   },
   "outputs": [
    {
     "data": {
      "text/html": [
       "<div>\n",
       "<style scoped>\n",
       "    .dataframe tbody tr th:only-of-type {\n",
       "        vertical-align: middle;\n",
       "    }\n",
       "\n",
       "    .dataframe tbody tr th {\n",
       "        vertical-align: top;\n",
       "    }\n",
       "\n",
       "    .dataframe thead th {\n",
       "        text-align: right;\n",
       "    }\n",
       "</style>\n",
       "<table border=\"1\" class=\"dataframe\">\n",
       "  <thead>\n",
       "    <tr style=\"text-align: right;\">\n",
       "      <th></th>\n",
       "      <th>year</th>\n",
       "      <th>Topic</th>\n",
       "      <th>Normalized_weight</th>\n",
       "      <th>Words</th>\n",
       "    </tr>\n",
       "  </thead>\n",
       "  <tbody>\n",
       "    <tr>\n",
       "      <th>0</th>\n",
       "      <td>2015</td>\n",
       "      <td>0</td>\n",
       "      <td>0.020336</td>\n",
       "      <td>ditech, insurance, navy, union, repossession</td>\n",
       "    </tr>\n",
       "    <tr>\n",
       "      <th>1</th>\n",
       "      <td>2016</td>\n",
       "      <td>0</td>\n",
       "      <td>0.020412</td>\n",
       "      <td>ditech, insurance, navy, union, repossession</td>\n",
       "    </tr>\n",
       "    <tr>\n",
       "      <th>2</th>\n",
       "      <td>2017</td>\n",
       "      <td>0</td>\n",
       "      <td>0.019435</td>\n",
       "      <td>ditech, insurance, navy, union, repossession</td>\n",
       "    </tr>\n",
       "    <tr>\n",
       "      <th>3</th>\n",
       "      <td>2018</td>\n",
       "      <td>0</td>\n",
       "      <td>0.019493</td>\n",
       "      <td>ditech, insurance, navy, union, repossession</td>\n",
       "    </tr>\n",
       "    <tr>\n",
       "      <th>4</th>\n",
       "      <td>2019</td>\n",
       "      <td>0</td>\n",
       "      <td>0.020609</td>\n",
       "      <td>ditech, insurance, navy, union, repossession</td>\n",
       "    </tr>\n",
       "    <tr>\n",
       "      <th>...</th>\n",
       "      <td>...</td>\n",
       "      <td>...</td>\n",
       "      <td>...</td>\n",
       "      <td>...</td>\n",
       "    </tr>\n",
       "    <tr>\n",
       "      <th>65</th>\n",
       "      <td>2017</td>\n",
       "      <td>9</td>\n",
       "      <td>0.022699</td>\n",
       "      <td>loan, student, school, deferment, education</td>\n",
       "    </tr>\n",
       "    <tr>\n",
       "      <th>66</th>\n",
       "      <td>2018</td>\n",
       "      <td>9</td>\n",
       "      <td>0.021532</td>\n",
       "      <td>loan, student, school, deferment, education</td>\n",
       "    </tr>\n",
       "    <tr>\n",
       "      <th>67</th>\n",
       "      <td>2019</td>\n",
       "      <td>9</td>\n",
       "      <td>0.021717</td>\n",
       "      <td>loan, student, school, deferment, education</td>\n",
       "    </tr>\n",
       "    <tr>\n",
       "      <th>68</th>\n",
       "      <td>2020</td>\n",
       "      <td>9</td>\n",
       "      <td>0.022196</td>\n",
       "      <td>loan, student, school, deferment, education</td>\n",
       "    </tr>\n",
       "    <tr>\n",
       "      <th>69</th>\n",
       "      <td>2021</td>\n",
       "      <td>9</td>\n",
       "      <td>0.021723</td>\n",
       "      <td>loan, student, school, deferment, education</td>\n",
       "    </tr>\n",
       "  </tbody>\n",
       "</table>\n",
       "<p>70 rows × 4 columns</p>\n",
       "</div>"
      ],
      "text/plain": [
       "    year  Topic  Normalized_weight  \\\n",
       "0   2015      0           0.020336   \n",
       "1   2016      0           0.020412   \n",
       "2   2017      0           0.019435   \n",
       "3   2018      0           0.019493   \n",
       "4   2019      0           0.020609   \n",
       "..   ...    ...                ...   \n",
       "65  2017      9           0.022699   \n",
       "66  2018      9           0.021532   \n",
       "67  2019      9           0.021717   \n",
       "68  2020      9           0.022196   \n",
       "69  2021      9           0.021723   \n",
       "\n",
       "                                           Words  \n",
       "0   ditech, insurance, navy, union, repossession  \n",
       "1   ditech, insurance, navy, union, repossession  \n",
       "2   ditech, insurance, navy, union, repossession  \n",
       "3   ditech, insurance, navy, union, repossession  \n",
       "4   ditech, insurance, navy, union, repossession  \n",
       "..                                           ...  \n",
       "65   loan, student, school, deferment, education  \n",
       "66   loan, student, school, deferment, education  \n",
       "67   loan, student, school, deferment, education  \n",
       "68   loan, student, school, deferment, education  \n",
       "69   loan, student, school, deferment, education  \n",
       "\n",
       "[70 rows x 4 columns]"
      ]
     },
     "execution_count": 80,
     "metadata": {},
     "output_type": "execute_result"
    }
   ],
   "source": [
    "y_df = topic_dis.groupby(['year', 'Topic']).agg({'Topic_prob': 'sum'})\n",
    "ny_df = y_df.groupby(level=0).apply(lambda x: x / x.sum()).reset_index()\n",
    "ny_df.columns = ['year', 'Topic', 'Normalized_weight']\n",
    "ny_df = ny_df.merge(words_df1, on=\"Topic\")\n",
    "ny_df\n",
    "#aggregate probabilities - sum up all of the values for each topic in a given time frame\n",
    "#normalize those values by dividing by the sum of all the weights in that period\n",
    "#proportion of the total weight held by each individual topic "
   ]
  },
  {
   "cell_type": "code",
   "execution_count": 81,
   "metadata": {
    "ExecuteTime": {
     "end_time": "2021-02-01T05:12:29.985593Z",
     "start_time": "2021-02-01T05:12:29.449165Z"
    }
   },
   "outputs": [
    {
     "data": {
      "text/plain": [
       "Text(0.5, 0.98, 'Proportion of Total Topic Weight by Topic per year')"
      ]
     },
     "execution_count": 81,
     "metadata": {},
     "output_type": "execute_result"
    },
    {
     "data": {
      "image/png": "[encoded data removed]",
      "text/plain": [
       "<Figure size 906.125x432 with 1 Axes>"
      ]
     },
     "metadata": {
      "needs_background": "light"
     },
     "output_type": "display_data"
    }
   ],
   "source": [
    "p1 = sns.factorplot(data=ny_df, x=\"year\", y='Normalized_weight', kind='point', hue='Words', col_wrap=None, \n",
    "                   size=6, aspect=1.5)\n",
    "p1.fig.suptitle('Proportion of Total Topic Weight by Topic per year', fontsize=14)"
   ]
  },
  {
   "cell_type": "code",
   "execution_count": null,
   "metadata": {
    "id": "mImv8qRYhcG5"
   },
   "outputs": [],
   "source": []
  }
 ],
 "metadata": {
  "colab": {
   "collapsed_sections": [],
   "name": "Time-Series/Prevalence Analyses.ipynb",
   "provenance": []
  },
  "kernelspec": {
   "display_name": "Python 3",
   "language": "python",
   "name": "python3"
  },
  "language_info": {
   "codemirror_mode": {
    "name": "ipython",
    "version": 3
   },
   "file_extension": ".py",
   "mimetype": "text/x-python",
   "name": "python",
   "nbconvert_exporter": "python",
   "pygments_lexer": "ipython3",
   "version": "3.8.3"
  },
  "widgets": {
   "application/vnd.jupyter.widget-state+json": {
    "18eab1d6fc9e42148bce516744925a58": {
     "model_module": "@jupyter-widgets/controls",
     "model_name": "FloatProgressModel",
     "state": {
      "_dom_classes": [],
      "_model_module": "@jupyter-widgets/controls",
      "_model_module_version": "1.5.0",
      "_model_name": "FloatProgressModel",
      "_view_count": null,
      "_view_module": "@jupyter-widgets/controls",
      "_view_module_version": "1.5.0",
      "_view_name": "ProgressView",
      "bar_style": "success",
      "description": "",
      "description_tooltip": null,
      "layout": "IPY_MODEL_92984f1d4710420cb37434cd6cfb2132",
      "max": 1,
      "min": 0,
      "orientation": "horizontal",
      "style": "IPY_MODEL_dc260c168c43443280b91f91f1708253",
      "value": 1
     }
    },
    "38f8ebaf7bcf40a9bf1e06f61a942cdf": {
     "model_module": "@jupyter-widgets/base",
     "model_name": "LayoutModel",
     "state": {
      "_model_module": "@jupyter-widgets/base",
      "_model_module_version": "1.2.0",
      "_model_name": "LayoutModel",
      "_view_count": null,
      "_view_module": "@jupyter-widgets/base",
      "_view_module_version": "1.2.0",
      "_view_name": "LayoutView",
      "align_content": null,
      "align_items": null,
      "align_self": null,
      "border": null,
      "bottom": null,
      "display": null,
      "flex": null,
      "flex_flow": null,
      "grid_area": null,
      "grid_auto_columns": null,
      "grid_auto_flow": null,
      "grid_auto_rows": null,
      "grid_column": null,
      "grid_gap": null,
      "grid_row": null,
      "grid_template_areas": null,
      "grid_template_columns": null,
      "grid_template_rows": null,
      "height": null,
      "justify_content": null,
      "justify_items": null,
      "left": null,
      "margin": null,
      "max_height": null,
      "max_width": null,
      "min_height": null,
      "min_width": null,
      "object_fit": null,
      "object_position": null,
      "order": null,
      "overflow": null,
      "overflow_x": null,
      "overflow_y": null,
      "padding": null,
      "right": null,
      "top": null,
      "visibility": null,
      "width": null
     }
    },
    "439c47aa2a9540a1aaf5d24364c9133e": {
     "model_module": "@jupyter-widgets/base",
     "model_name": "LayoutModel",
     "state": {
      "_model_module": "@jupyter-widgets/base",
      "_model_module_version": "1.2.0",
      "_model_name": "LayoutModel",
      "_view_count": null,
      "_view_module": "@jupyter-widgets/base",
      "_view_module_version": "1.2.0",
      "_view_name": "LayoutView",
      "align_content": null,
      "align_items": null,
      "align_self": null,
      "border": null,
      "bottom": null,
      "display": null,
      "flex": null,
      "flex_flow": null,
      "grid_area": null,
      "grid_auto_columns": null,
      "grid_auto_flow": null,
      "grid_auto_rows": null,
      "grid_column": null,
      "grid_gap": null,
      "grid_row": null,
      "grid_template_areas": null,
      "grid_template_columns": null,
      "grid_template_rows": null,
      "height": null,
      "justify_content": null,
      "justify_items": null,
      "left": null,
      "margin": null,
      "max_height": null,
      "max_width": null,
      "min_height": null,
      "min_width": null,
      "object_fit": null,
      "object_position": null,
      "order": null,
      "overflow": null,
      "overflow_x": null,
      "overflow_y": null,
      "padding": null,
      "right": null,
      "top": null,
      "visibility": null,
      "width": null
     }
    },
    "4bd53ecc23384d8a8723c09331d10232": {
     "model_module": "@jupyter-widgets/controls",
     "model_name": "HBoxModel",
     "state": {
      "_dom_classes": [],
      "_model_module": "@jupyter-widgets/controls",
      "_model_module_version": "1.5.0",
      "_model_name": "HBoxModel",
      "_view_count": null,
      "_view_module": "@jupyter-widgets/controls",
      "_view_module_version": "1.5.0",
      "_view_name": "HBoxView",
      "box_style": "",
      "children": [
       "IPY_MODEL_18eab1d6fc9e42148bce516744925a58",
       "IPY_MODEL_f1cac371a9d84b83a1ebe088f5d59942"
      ],
      "layout": "IPY_MODEL_439c47aa2a9540a1aaf5d24364c9133e"
     }
    },
    "92984f1d4710420cb37434cd6cfb2132": {
     "model_module": "@jupyter-widgets/base",
     "model_name": "LayoutModel",
     "state": {
      "_model_module": "@jupyter-widgets/base",
      "_model_module_version": "1.2.0",
      "_model_name": "LayoutModel",
      "_view_count": null,
      "_view_module": "@jupyter-widgets/base",
      "_view_module_version": "1.2.0",
      "_view_name": "LayoutView",
      "align_content": null,
      "align_items": null,
      "align_self": null,
      "border": null,
      "bottom": null,
      "display": null,
      "flex": null,
      "flex_flow": null,
      "grid_area": null,
      "grid_auto_columns": null,
      "grid_auto_flow": null,
      "grid_auto_rows": null,
      "grid_column": null,
      "grid_gap": null,
      "grid_row": null,
      "grid_template_areas": null,
      "grid_template_columns": null,
      "grid_template_rows": null,
      "height": null,
      "justify_content": null,
      "justify_items": null,
      "left": null,
      "margin": null,
      "max_height": null,
      "max_width": null,
      "min_height": null,
      "min_width": null,
      "object_fit": null,
      "object_position": null,
      "order": null,
      "overflow": null,
      "overflow_x": null,
      "overflow_y": null,
      "padding": null,
      "right": null,
      "top": null,
      "visibility": null,
      "width": null
     }
    },
    "ad9768bb6b95466997bf5476471d2ae1": {
     "model_module": "@jupyter-widgets/controls",
     "model_name": "DescriptionStyleModel",
     "state": {
      "_model_module": "@jupyter-widgets/controls",
      "_model_module_version": "1.5.0",
      "_model_name": "DescriptionStyleModel",
      "_view_count": null,
      "_view_module": "@jupyter-widgets/base",
      "_view_module_version": "1.2.0",
      "_view_name": "StyleView",
      "description_width": ""
     }
    },
    "dc260c168c43443280b91f91f1708253": {
     "model_module": "@jupyter-widgets/controls",
     "model_name": "ProgressStyleModel",
     "state": {
      "_model_module": "@jupyter-widgets/controls",
      "_model_module_version": "1.5.0",
      "_model_name": "ProgressStyleModel",
      "_view_count": null,
      "_view_module": "@jupyter-widgets/base",
      "_view_module_version": "1.2.0",
      "_view_name": "StyleView",
      "bar_color": null,
      "description_width": "initial"
     }
    },
    "f1cac371a9d84b83a1ebe088f5d59942": {
     "model_module": "@jupyter-widgets/controls",
     "model_name": "HTMLModel",
     "state": {
      "_dom_classes": [],
      "_model_module": "@jupyter-widgets/controls",
      "_model_module_version": "1.5.0",
      "_model_name": "HTMLModel",
      "_view_count": null,
      "_view_module": "@jupyter-widgets/controls",
      "_view_module_version": "1.5.0",
      "_view_name": "HTMLView",
      "description": "",
      "description_tooltip": null,
      "layout": "IPY_MODEL_38f8ebaf7bcf40a9bf1e06f61a942cdf",
      "placeholder": "​",
      "style": "IPY_MODEL_ad9768bb6b95466997bf5476471d2ae1",
      "value": " 66/? [01:30&lt;00:00,  1.38s/it]"
     }
    }
   }
  }
 },
 "nbformat": 4,
 "nbformat_minor": 4
}
