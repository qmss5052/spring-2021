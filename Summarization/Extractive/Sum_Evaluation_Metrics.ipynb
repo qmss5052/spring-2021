{
 "cells": [
  {
   "cell_type": "code",
   "execution_count": null,
   "metadata": {
    "colab": {
     "base_uri": "https://localhost:8080/"
    },
    "id": "S1RXu-Xk5yMM",
    "outputId": "af1b450a-cec4-4cd6-fb1a-b702802eeebf"
   },
   "outputs": [
    {
     "name": "stdout",
     "output_type": "stream",
     "text": [
      "Requirement already satisfied: pickle5 in /Users/kagenlim/opt/anaconda3/lib/python3.7/site-packages (0.0.11)\n",
      "Note: you may need to restart the kernel to use updated packages.\n"
     ]
    }
   ],
   "source": [
    "pip install pickle5"
   ]
  },
  {
   "cell_type": "code",
   "execution_count": 206,
   "metadata": {
    "id": "LgnNwHS95r9q"
   },
   "outputs": [],
   "source": [
    "import pickle\n",
    "import pickle5\n",
    "import swifter\n",
    "import pandas as pd\n",
    "from sklearn.feature_extraction.text import TfidfVectorizer, CountVectorizer\n",
    "from sklearn.metrics.pairwise import cosine_similarity\n",
    "from tqdm import tqdm"
   ]
  },
  {
   "cell_type": "markdown",
   "metadata": {
    "id": "1kvmzI9rfiCA"
   },
   "source": [
    "# Loading Data in and Preprocessing Abstractive and Extractive"
   ]
  },
  {
   "cell_type": "code",
   "execution_count": 412,
   "metadata": {
    "id": "fupWK5N14_a1"
   },
   "outputs": [],
   "source": [
    "with open ('extractive_summaries.pkl', 'rb') as fp:\n",
    "    extractive = pickle.load(fp)"
   ]
  },
  {
   "cell_type": "code",
   "execution_count": 286,
   "metadata": {
    "id": "AVpLb5fw5SBW"
   },
   "outputs": [],
   "source": [
    "with open ('abs_sum_1000.pkl', 'rb') as fp:\n",
    "    abstractive_1000 = pickle5.load(fp)"
   ]
  },
  {
   "cell_type": "code",
   "execution_count": 209,
   "metadata": {},
   "outputs": [],
   "source": [
    "original_reading_in = pd.read_csv('narrs_cleaned_sent_tokenized.csv')"
   ]
  },
  {
   "cell_type": "code",
   "execution_count": 210,
   "metadata": {},
   "outputs": [
    {
     "data": {
      "text/plain": [
       "\"['transworld systems inc. is trying to collect a debt that is not mine, not owed and is inaccurate.']\""
      ]
     },
     "execution_count": 210,
     "metadata": {},
     "output_type": "execute_result"
    }
   ],
   "source": [
    "original_uncleaned = original_reading_in['Consumer complaint narrative']\n",
    "original_uncleaned[0]"
   ]
  },
  {
   "cell_type": "code",
   "execution_count": 211,
   "metadata": {},
   "outputs": [],
   "source": [
    "def string_to_list(doc):\n",
    "  import ast\n",
    "  lists = ast.literal_eval(doc) #Resolve unicode errors \n",
    "  return lists"
   ]
  },
  {
   "cell_type": "code",
   "execution_count": 212,
   "metadata": {},
   "outputs": [
    {
     "data": {
      "application/vnd.jupyter.widget-view+json": {
       "model_id": "1d87f260154a4e77895c7f415ab76a5e",
       "version_major": 2,
       "version_minor": 0
      },
      "text/plain": [
       "HBox(children=(FloatProgress(value=0.0, description='Pandas Apply', max=657719.0, style=ProgressStyle(descript…"
      ]
     },
     "metadata": {},
     "output_type": "display_data"
    },
    {
     "name": "stdout",
     "output_type": "stream",
     "text": [
      "\n"
     ]
    }
   ],
   "source": [
    "original_cleaned1 = original_uncleaned.swifter.apply(string_to_list)"
   ]
  },
  {
   "cell_type": "code",
   "execution_count": 213,
   "metadata": {},
   "outputs": [
    {
     "data": {
      "text/plain": [
       "['transworld systems inc. is trying to collect a debt that is not mine, not owed and is inaccurate.']"
      ]
     },
     "execution_count": 213,
     "metadata": {},
     "output_type": "execute_result"
    }
   ],
   "source": [
    "original_cleaned1[0]"
   ]
  },
  {
   "cell_type": "code",
   "execution_count": 214,
   "metadata": {},
   "outputs": [],
   "source": [
    "def lowering(doc):\n",
    "    lowered = \" \".join([sentence.lower() for sentence in doc])\n",
    "    return lowered"
   ]
  },
  {
   "cell_type": "code",
   "execution_count": 215,
   "metadata": {},
   "outputs": [
    {
     "data": {
      "application/vnd.jupyter.widget-view+json": {
       "model_id": "d3e322171472499a8013b21c17d79a54",
       "version_major": 2,
       "version_minor": 0
      },
      "text/plain": [
       "HBox(children=(FloatProgress(value=0.0, description='Pandas Apply', max=657719.0, style=ProgressStyle(descript…"
      ]
     },
     "metadata": {},
     "output_type": "display_data"
    },
    {
     "name": "stdout",
     "output_type": "stream",
     "text": [
      "\n"
     ]
    }
   ],
   "source": [
    "original_cleaned2 = original_cleaned1.progress_apply(lowering)"
   ]
  },
  {
   "cell_type": "code",
   "execution_count": 216,
   "metadata": {},
   "outputs": [
    {
     "data": {
      "text/plain": [
       "'transworld systems inc. is trying to collect a debt that is not mine, not owed and is inaccurate.'"
      ]
     },
     "execution_count": 216,
     "metadata": {},
     "output_type": "execute_result"
    }
   ],
   "source": [
    "original_cleaned2[0]"
   ]
  },
  {
   "cell_type": "code",
   "execution_count": 217,
   "metadata": {},
   "outputs": [
    {
     "name": "stderr",
     "output_type": "stream",
     "text": [
      "[nltk_data] Downloading package punkt to /Users/kagenlim/nltk_data...\n",
      "[nltk_data]   Package punkt is already up-to-date!\n",
      "[nltk_data] Downloading package stopwords to\n",
      "[nltk_data]     /Users/kagenlim/nltk_data...\n",
      "[nltk_data]   Package stopwords is already up-to-date!\n"
     ]
    }
   ],
   "source": [
    "import nltk \n",
    "nltk.download('punkt')\n",
    "nltk.download('stopwords')\n",
    "from nltk.corpus import stopwords\n",
    "\n",
    "def stop_free(doc): \n",
    "  stop_words = set(stopwords.words('english'))\n",
    "  stop_rem = \" \".join([word for word in doc.split() if word not in stop_words])\n",
    "  return stop_rem"
   ]
  },
  {
   "cell_type": "code",
   "execution_count": 218,
   "metadata": {},
   "outputs": [
    {
     "data": {
      "application/vnd.jupyter.widget-view+json": {
       "model_id": "d28ce748a8a64756b98afe64bcb8dab4",
       "version_major": 2,
       "version_minor": 0
      },
      "text/plain": [
       "HBox(children=(FloatProgress(value=0.0, description='Pandas Apply', max=657719.0, style=ProgressStyle(descript…"
      ]
     },
     "metadata": {},
     "output_type": "display_data"
    },
    {
     "name": "stdout",
     "output_type": "stream",
     "text": [
      "\n"
     ]
    }
   ],
   "source": [
    "original_cleaned3 = original_cleaned2.progress_apply(stop_free)"
   ]
  },
  {
   "cell_type": "code",
   "execution_count": 219,
   "metadata": {},
   "outputs": [
    {
     "data": {
      "text/plain": [
       "'transworld systems inc. trying collect debt mine, owed inaccurate.'"
      ]
     },
     "execution_count": 219,
     "metadata": {},
     "output_type": "execute_result"
    }
   ],
   "source": [
    "original_cleaned3[0]"
   ]
  },
  {
   "cell_type": "code",
   "execution_count": 287,
   "metadata": {
    "colab": {
     "base_uri": "https://localhost:8080/"
    },
    "id": "R3-CrE_M5uSL",
    "outputId": "c7b411be-d629-4224-c0d3-8c3c060faa16"
   },
   "outputs": [
    {
     "data": {
      "text/plain": [
       "1000"
      ]
     },
     "execution_count": 287,
     "metadata": {},
     "output_type": "execute_result"
    }
   ],
   "source": [
    "len(extractive[0:1000])"
   ]
  },
  {
   "cell_type": "code",
   "execution_count": 288,
   "metadata": {
    "id": "NXZ6DPIe6JCn"
   },
   "outputs": [],
   "source": [
    "extractive_1000 = pd.Series(extractive[0:1000])"
   ]
  },
  {
   "cell_type": "code",
   "execution_count": 289,
   "metadata": {
    "colab": {
     "base_uri": "https://localhost:8080/"
    },
    "id": "OlgOOcVv6HYp",
    "outputId": "00ad45f2-8d7a-4e1f-d9ec-e9220268913c"
   },
   "outputs": [
    {
     "data": {
      "text/plain": [
       "1000"
      ]
     },
     "execution_count": 289,
     "metadata": {},
     "output_type": "execute_result"
    }
   ],
   "source": [
    "len(abstractive_1000)"
   ]
  },
  {
   "cell_type": "code",
   "execution_count": 290,
   "metadata": {
    "id": "uG0qdXjFCY5f"
   },
   "outputs": [],
   "source": [
    "def full_stop_space(doc):\n",
    "  import re\n",
    "  rx = r\"\\.(?=\\S)\"\n",
    "  result = re.sub(rx, \". \", doc)\n",
    "  return result"
   ]
  },
  {
   "cell_type": "code",
   "execution_count": 291,
   "metadata": {
    "colab": {
     "base_uri": "https://localhost:8080/",
     "height": 53
    },
    "id": "NI-aUkoE6ayG",
    "outputId": "eb2295bf-b59d-479c-946c-86773ec60ce3"
   },
   "outputs": [
    {
     "data": {
      "text/plain": [
       "'The company does not have the right to harass me at work and I want this to stop.It is extremely distracting to be told 5 times a day that I have a call from this collection agency while at work.'"
      ]
     },
     "execution_count": 291,
     "metadata": {},
     "output_type": "execute_result"
    }
   ],
   "source": [
    "extractive_1000[1]\n",
    "\n",
    "#full stop is a problem"
   ]
  },
  {
   "cell_type": "code",
   "execution_count": 292,
   "metadata": {
    "colab": {
     "base_uri": "https://localhost:8080/",
     "height": 66,
     "referenced_widgets": [
      "294639677bd74a08852a2f4951d8ab7e",
      "1e1d8c0ad54449a692548e0a2edfbf25",
      "4f14b52100de4cb7b4de285f3069c338",
      "9c00e61aadf140a8964f12c077cbdbd2",
      "26ffeb27b6ab4db8833998f28370e928",
      "c84d84c309cf4cf8b7d9668cdc436f2f",
      "319c0a94819648c8bb798094934e99ab",
      "5d23ab81870648ad8fdf5312cd2eacc5",
      "407326f96126497cab4d9b5ed514d160"
     ]
    },
    "id": "ahyP9svvCO9p",
    "outputId": "47dc692b-041c-4424-d85f-989ad6c0df13"
   },
   "outputs": [
    {
     "data": {
      "application/vnd.jupyter.widget-view+json": {
       "model_id": "7866f45221e949fc8e3840e742b82c1d",
       "version_major": 2,
       "version_minor": 0
      },
      "text/plain": [
       "HBox(children=(FloatProgress(value=0.0, description='Pandas Apply', max=1000.0, style=ProgressStyle(descriptio…"
      ]
     },
     "metadata": {},
     "output_type": "display_data"
    },
    {
     "name": "stdout",
     "output_type": "stream",
     "text": [
      "\n"
     ]
    }
   ],
   "source": [
    "extractive_1000 = extractive_1000.swifter.apply(full_stop_space)"
   ]
  },
  {
   "cell_type": "code",
   "execution_count": 293,
   "metadata": {
    "colab": {
     "base_uri": "https://localhost:8080/",
     "height": 53
    },
    "id": "W_jJwNOnC120",
    "outputId": "04bc139c-2f24-4bdb-d22e-e229013dea95"
   },
   "outputs": [
    {
     "data": {
      "text/plain": [
       "'The company does not have the right to harass me at work and I want this to stop. It is extremely distracting to be told 5 times a day that I have a call from this collection agency while at work.'"
      ]
     },
     "execution_count": 293,
     "metadata": {},
     "output_type": "execute_result"
    }
   ],
   "source": [
    "extractive_1000[1]\n",
    "\n",
    "#full stop is no longer a problem"
   ]
  },
  {
   "cell_type": "code",
   "execution_count": 294,
   "metadata": {
    "id": "_sIDDJ1hFtmT"
   },
   "outputs": [],
   "source": [
    "def odd_tokens_free(doc):\n",
    "  import re\n",
    "  processed = re.sub(\"(xx|xxxx|XX|XXXX|XX/XX/XXXX)\",\"\",doc)\n",
    "  return processed"
   ]
  },
  {
   "cell_type": "code",
   "execution_count": 295,
   "metadata": {
    "colab": {
     "base_uri": "https://localhost:8080/",
     "height": 66,
     "referenced_widgets": [
      "91e9d20872cc4beb82babed6793d0d36",
      "7cfc253ad4c14810bb72ba91a7478f76",
      "a55842bedbac45cb9180ffd5a952bad3",
      "3942c82cf94943089a9df6954f51f338",
      "d4cb56fc6fab433cb6d5f309dbc84d2e",
      "6b213cdfe8c347bda0f620ad737a97a8",
      "da477ac87e944e9ab39d27fab4809aef",
      "329ec9e2609447e2979000b0731d47df",
      "95513154da0d42f9bf249ca5c8fbf9dc"
     ]
    },
    "id": "ih-HwOxWFvES",
    "outputId": "2ded6071-a2d5-420b-ad95-928c543ff985"
   },
   "outputs": [
    {
     "data": {
      "application/vnd.jupyter.widget-view+json": {
       "model_id": "2e069c4e52c549f49a5317bd8a884ad0",
       "version_major": 2,
       "version_minor": 0
      },
      "text/plain": [
       "HBox(children=(FloatProgress(value=0.0, description='Pandas Apply', max=1000.0, style=ProgressStyle(descriptio…"
      ]
     },
     "metadata": {},
     "output_type": "display_data"
    },
    {
     "name": "stdout",
     "output_type": "stream",
     "text": [
      "\n"
     ]
    }
   ],
   "source": [
    "extractive_1000 = extractive_1000.swifter.apply(odd_tokens_free)"
   ]
  },
  {
   "cell_type": "code",
   "execution_count": 296,
   "metadata": {
    "colab": {
     "base_uri": "https://localhost:8080/",
     "height": 66,
     "referenced_widgets": [
      "df0fec0e01044623a24fb010c9f3b4ad",
      "6846d8e3b933428399c9e12b0f6fadd9",
      "913f3505afac42cf8ab751ba349bb19a",
      "97720ec826a24e15a59648f4915efeb0",
      "1adf9f5b9a9c4430b9654743fa0deb28",
      "07e78b9a7ad14fb2aa929b18e9722583",
      "10621ffc4b7d443081ec82d320e82fff",
      "9013aef34e5a4e3499baafee7a64e1b4",
      "4917ee5d69d04ccba5d89e1378f5c188"
     ]
    },
    "id": "AZhCPvrxG0C9",
    "outputId": "9cce9303-9a22-4847-8f43-e3b38c07b069"
   },
   "outputs": [
    {
     "data": {
      "application/vnd.jupyter.widget-view+json": {
       "model_id": "30e5b6bf14084aaabc243a36b22cd04a",
       "version_major": 2,
       "version_minor": 0
      },
      "text/plain": [
       "HBox(children=(FloatProgress(value=0.0, description='Pandas Apply', max=1000.0, style=ProgressStyle(descriptio…"
      ]
     },
     "metadata": {},
     "output_type": "display_data"
    },
    {
     "name": "stdout",
     "output_type": "stream",
     "text": [
      "\n"
     ]
    }
   ],
   "source": [
    "abstractive_1000['Consumer complaint narrative'] = abstractive_1000['Consumer complaint narrative'].swifter.apply(odd_tokens_free)"
   ]
  },
  {
   "cell_type": "code",
   "execution_count": 297,
   "metadata": {
    "id": "dEhB537L6TRM"
   },
   "outputs": [],
   "source": [
    "abstractive_1000.rename(columns = {'Consumer complaint narrative':'abstractive'}, inplace = True) "
   ]
  },
  {
   "cell_type": "code",
   "execution_count": 298,
   "metadata": {
    "colab": {
     "base_uri": "https://localhost:8080/",
     "height": 206
    },
    "id": "exMZCtoo67ZU",
    "outputId": "52ad0012-4e36-489d-98aa-4f0d6820306a"
   },
   "outputs": [
    {
     "data": {
      "text/html": [
       "<div>\n",
       "<style scoped>\n",
       "    .dataframe tbody tr th:only-of-type {\n",
       "        vertical-align: middle;\n",
       "    }\n",
       "\n",
       "    .dataframe tbody tr th {\n",
       "        vertical-align: top;\n",
       "    }\n",
       "\n",
       "    .dataframe thead th {\n",
       "        text-align: right;\n",
       "    }\n",
       "</style>\n",
       "<table border=\"1\" class=\"dataframe\">\n",
       "  <thead>\n",
       "    <tr style=\"text-align: right;\">\n",
       "      <th></th>\n",
       "      <th>abstractive</th>\n",
       "    </tr>\n",
       "  </thead>\n",
       "  <tbody>\n",
       "    <tr>\n",
       "      <th>0</th>\n",
       "      <td>transworld systems is trying to collect a debt...</td>\n",
       "    </tr>\n",
       "    <tr>\n",
       "      <th>1</th>\n",
       "      <td>the company listed in this complaint does not ...</td>\n",
       "    </tr>\n",
       "    <tr>\n",
       "      <th>2</th>\n",
       "      <td>each violation is a statutory cost of $1000.00...</td>\n",
       "    </tr>\n",
       "    <tr>\n",
       "      <th>3</th>\n",
       "      <td>experian failed to send me a copy of the verif...</td>\n",
       "    </tr>\n",
       "    <tr>\n",
       "      <th>4</th>\n",
       "      <td>a bankruptcy and two accounts show discrepanci...</td>\n",
       "    </tr>\n",
       "  </tbody>\n",
       "</table>\n",
       "</div>"
      ],
      "text/plain": [
       "                                         abstractive\n",
       "0  transworld systems is trying to collect a debt...\n",
       "1  the company listed in this complaint does not ...\n",
       "2  each violation is a statutory cost of $1000.00...\n",
       "3  experian failed to send me a copy of the verif...\n",
       "4  a bankruptcy and two accounts show discrepanci..."
      ]
     },
     "execution_count": 298,
     "metadata": {},
     "output_type": "execute_result"
    }
   ],
   "source": [
    "abstractive_1000.head()"
   ]
  },
  {
   "cell_type": "code",
   "execution_count": 299,
   "metadata": {},
   "outputs": [],
   "source": [
    "def lowering(doc):\n",
    "    lowered = \"\".join([sentence.lower() for sentence in doc])\n",
    "    return lowered"
   ]
  },
  {
   "cell_type": "code",
   "execution_count": 300,
   "metadata": {},
   "outputs": [
    {
     "data": {
      "application/vnd.jupyter.widget-view+json": {
       "model_id": "17413fe0de63425187011f3c58741e5e",
       "version_major": 2,
       "version_minor": 0
      },
      "text/plain": [
       "HBox(children=(FloatProgress(value=0.0, description='Pandas Apply', max=1000.0, style=ProgressStyle(descriptio…"
      ]
     },
     "metadata": {},
     "output_type": "display_data"
    },
    {
     "name": "stdout",
     "output_type": "stream",
     "text": [
      "\n"
     ]
    }
   ],
   "source": [
    "extractive_1000 = extractive_1000.swifter.apply(lowering)"
   ]
  },
  {
   "cell_type": "code",
   "execution_count": 301,
   "metadata": {},
   "outputs": [
    {
     "data": {
      "text/plain": [
       "0                                                       \n",
       "1      the company does not have the right to harass ...\n",
       "2      violations committed against me include but no...\n",
       "3      previously, on //, //, and // i requested that...\n",
       "4      i then notified the three credit agencies prev...\n",
       "                             ...                        \n",
       "995    when i received my  credit card statement the ...\n",
       "996    i requested that i would like some type of ver...\n",
       "997    tuesday, //2019 i received a call from a gentl...\n",
       "998    on //2018, i invested money into     through a...\n",
       "999     and transunion are reporting an incorrect cod...\n",
       "Length: 1000, dtype: object"
      ]
     },
     "execution_count": 301,
     "metadata": {},
     "output_type": "execute_result"
    }
   ],
   "source": [
    "extractive_1000"
   ]
  },
  {
   "cell_type": "code",
   "execution_count": 302,
   "metadata": {},
   "outputs": [
    {
     "data": {
      "application/vnd.jupyter.widget-view+json": {
       "model_id": "9a3e539be72b4c958def2625c796d8c3",
       "version_major": 2,
       "version_minor": 0
      },
      "text/plain": [
       "HBox(children=(FloatProgress(value=0.0, description='Pandas Apply', max=1000.0, style=ProgressStyle(descriptio…"
      ]
     },
     "metadata": {},
     "output_type": "display_data"
    },
    {
     "name": "stdout",
     "output_type": "stream",
     "text": [
      "\n"
     ]
    }
   ],
   "source": [
    "abstractive_1000 = abstractive_1000.abstractive.swifter.apply(lowering)"
   ]
  },
  {
   "cell_type": "code",
   "execution_count": 309,
   "metadata": {},
   "outputs": [
    {
     "data": {
      "text/plain": [
       "0      transworld systems is trying to collect a debt...\n",
       "1      the company listed in this complaint does not ...\n",
       "2      each violation is a statutory cost of $1000.00...\n",
       "3      experian failed to send me a copy of the verif...\n",
       "4      a bankruptcy and two accounts show discrepanci...\n",
       "                             ...                        \n",
       "995    the balance due was $120.00. i elected to use ...\n",
       "996    the debt is still there, causing a negative ef...\n",
       "997    a gentleman called to say he owed money from a...\n",
       "998    i was scammed of $210.00 and never heard from ...\n",
       "999    this account actually needs to be coded as an ...\n",
       "Name: abstractive, Length: 1000, dtype: object"
      ]
     },
     "execution_count": 309,
     "metadata": {},
     "output_type": "execute_result"
    }
   ],
   "source": [
    "abstractive_1000"
   ]
  },
  {
   "cell_type": "code",
   "execution_count": 306,
   "metadata": {},
   "outputs": [],
   "source": [
    "def stop_free(doc): \n",
    "  stop_words = set(stopwords.words('english'))\n",
    "  stop_rem = \" \".join([word for word in doc.split() if word not in stop_words])\n",
    "  return stop_rem"
   ]
  },
  {
   "cell_type": "code",
   "execution_count": 307,
   "metadata": {},
   "outputs": [
    {
     "data": {
      "application/vnd.jupyter.widget-view+json": {
       "model_id": "f48b662c562f4ce483affaf9049b670c",
       "version_major": 2,
       "version_minor": 0
      },
      "text/plain": [
       "HBox(children=(FloatProgress(value=0.0, description='Pandas Apply', max=1000.0, style=ProgressStyle(descriptio…"
      ]
     },
     "metadata": {},
     "output_type": "display_data"
    },
    {
     "name": "stdout",
     "output_type": "stream",
     "text": [
      "\n"
     ]
    }
   ],
   "source": [
    "extractive_1000_1 = extractive_1000.swifter.apply(stop_free)"
   ]
  },
  {
   "cell_type": "code",
   "execution_count": 308,
   "metadata": {},
   "outputs": [
    {
     "data": {
      "text/plain": [
       "0                                                       \n",
       "1      company right harass work want stop. extremely...\n",
       "2      violations committed include limited : ( 1 ) v...\n",
       "3      previously, //, //, // requested experian send...\n",
       "4      notified three credit agencies previously stat...\n",
       "                             ...                        \n",
       "995    received credit card statement balance due {$1...\n",
       "996    requested would like type verification suppose...\n",
       "997    tuesday, //2019 received call gentleman name h...\n",
       "998    //2018, invested money broker found online. ti...\n",
       "999    transunion reporting incorrect coding / partia...\n",
       "Length: 1000, dtype: object"
      ]
     },
     "execution_count": 308,
     "metadata": {},
     "output_type": "execute_result"
    }
   ],
   "source": [
    "extractive_1000_1"
   ]
  },
  {
   "cell_type": "code",
   "execution_count": 310,
   "metadata": {},
   "outputs": [
    {
     "data": {
      "application/vnd.jupyter.widget-view+json": {
       "model_id": "d9331516b9164ce38214130471167911",
       "version_major": 2,
       "version_minor": 0
      },
      "text/plain": [
       "HBox(children=(FloatProgress(value=0.0, description='Pandas Apply', max=1000.0, style=ProgressStyle(descriptio…"
      ]
     },
     "metadata": {},
     "output_type": "display_data"
    },
    {
     "name": "stdout",
     "output_type": "stream",
     "text": [
      "\n"
     ]
    }
   ],
   "source": [
    "abstractive_1000 = abstractive_1000.swifter.apply(stop_free)"
   ]
  },
  {
   "cell_type": "code",
   "execution_count": 311,
   "metadata": {},
   "outputs": [],
   "source": [
    "abstractive_1000 = pd.DataFrame(abstractive_1000)"
   ]
  },
  {
   "cell_type": "code",
   "execution_count": 312,
   "metadata": {},
   "outputs": [
    {
     "data": {
      "text/plain": [
       "\"balance due $120.00. elected use rewards '$130.00' make payment month left credit $5.00. also showed account late payment fee $25.00\""
      ]
     },
     "execution_count": 312,
     "metadata": {},
     "output_type": "execute_result"
    }
   ],
   "source": [
    "abstractive_1000.abstractive[995]"
   ]
  },
  {
   "cell_type": "code",
   "execution_count": 335,
   "metadata": {
    "id": "Fx9v_GQs6-GX"
   },
   "outputs": [],
   "source": [
    "abstractive_1000['extractive'] = extractive_1000_1"
   ]
  },
  {
   "cell_type": "code",
   "execution_count": 336,
   "metadata": {},
   "outputs": [],
   "source": [
    "original_1000 = original_cleaned3[0:1000]"
   ]
  },
  {
   "cell_type": "code",
   "execution_count": 337,
   "metadata": {},
   "outputs": [],
   "source": [
    "abstractive_1000['original'] = original_cleaned3"
   ]
  },
  {
   "cell_type": "code",
   "execution_count": 338,
   "metadata": {
    "colab": {
     "base_uri": "https://localhost:8080/",
     "height": 206
    },
    "id": "Km3XzkXb7GZX",
    "outputId": "f2a1a04d-6fa7-40ec-8ab2-a65d506419f8"
   },
   "outputs": [
    {
     "data": {
      "text/html": [
       "<div>\n",
       "<style scoped>\n",
       "    .dataframe tbody tr th:only-of-type {\n",
       "        vertical-align: middle;\n",
       "    }\n",
       "\n",
       "    .dataframe tbody tr th {\n",
       "        vertical-align: top;\n",
       "    }\n",
       "\n",
       "    .dataframe thead th {\n",
       "        text-align: right;\n",
       "    }\n",
       "</style>\n",
       "<table border=\"1\" class=\"dataframe\">\n",
       "  <thead>\n",
       "    <tr style=\"text-align: right;\">\n",
       "      <th></th>\n",
       "      <th>abstractive</th>\n",
       "      <th>extractive</th>\n",
       "      <th>original</th>\n",
       "    </tr>\n",
       "  </thead>\n",
       "  <tbody>\n",
       "    <tr>\n",
       "      <th>0</th>\n",
       "      <td>transworld systems trying collect debt mine, o...</td>\n",
       "      <td></td>\n",
       "      <td>transworld systems inc. trying collect debt mi...</td>\n",
       "    </tr>\n",
       "    <tr>\n",
       "      <th>1</th>\n",
       "      <td>company listed complaint right harass work. ex...</td>\n",
       "      <td>company right harass work want stop. extremely...</td>\n",
       "      <td>past 2 weeks, receiving excessive amounts tele...</td>\n",
       "    </tr>\n",
       "    <tr>\n",
       "      <th>2</th>\n",
       "      <td>violation statutory cost $1000.00 each, includ...</td>\n",
       "      <td>violations committed include limited : ( 1 ) v...</td>\n",
       "      <td>pioneer committed several federal violations m...</td>\n",
       "    </tr>\n",
       "    <tr>\n",
       "      <th>3</th>\n",
       "      <td>experian failed send copy verifiable proof fil...</td>\n",
       "      <td>previously, //, //, // requested experian send...</td>\n",
       "      <td>previously, xx/xx/xxxx, xx/xx/xxxx, xx/xx/xxxx...</td>\n",
       "    </tr>\n",
       "    <tr>\n",
       "      <th>4</th>\n",
       "      <td>bankruptcy two accounts show discrepancies cre...</td>\n",
       "      <td>notified three credit agencies previously stat...</td>\n",
       "      <td>hello complaint three credit reporting compani...</td>\n",
       "    </tr>\n",
       "  </tbody>\n",
       "</table>\n",
       "</div>"
      ],
      "text/plain": [
       "                                         abstractive  \\\n",
       "0  transworld systems trying collect debt mine, o...   \n",
       "1  company listed complaint right harass work. ex...   \n",
       "2  violation statutory cost $1000.00 each, includ...   \n",
       "3  experian failed send copy verifiable proof fil...   \n",
       "4  bankruptcy two accounts show discrepancies cre...   \n",
       "\n",
       "                                          extractive  \\\n",
       "0                                                      \n",
       "1  company right harass work want stop. extremely...   \n",
       "2  violations committed include limited : ( 1 ) v...   \n",
       "3  previously, //, //, // requested experian send...   \n",
       "4  notified three credit agencies previously stat...   \n",
       "\n",
       "                                            original  \n",
       "0  transworld systems inc. trying collect debt mi...  \n",
       "1  past 2 weeks, receiving excessive amounts tele...  \n",
       "2  pioneer committed several federal violations m...  \n",
       "3  previously, xx/xx/xxxx, xx/xx/xxxx, xx/xx/xxxx...  \n",
       "4  hello complaint three credit reporting compani...  "
      ]
     },
     "execution_count": 338,
     "metadata": {},
     "output_type": "execute_result"
    }
   ],
   "source": [
    "df_compare = abstractive_1000\n",
    "df_compare.head()"
   ]
  },
  {
   "cell_type": "markdown",
   "metadata": {
    "id": "D4AvsMToA1dA"
   },
   "source": [
    "There are some empty rows for extractive, because no extractive summaries were generated for one-sentence complaints. Let's remove them."
   ]
  },
  {
   "cell_type": "code",
   "execution_count": 339,
   "metadata": {
    "colab": {
     "base_uri": "https://localhost:8080/"
    },
    "id": "Ot2AddO87_ix",
    "outputId": "fb23d911-4cd6-4fa6-b068-624f08834ef0"
   },
   "outputs": [
    {
     "data": {
      "text/plain": [
       "0      False\n",
       "1       True\n",
       "2       True\n",
       "3       True\n",
       "4       True\n",
       "       ...  \n",
       "995     True\n",
       "996     True\n",
       "997     True\n",
       "998     True\n",
       "999     True\n",
       "Name: extractive, Length: 1000, dtype: bool"
      ]
     },
     "execution_count": 339,
     "metadata": {},
     "output_type": "execute_result"
    }
   ],
   "source": [
    "more_than_one_liners = df_compare.extractive != ''\n",
    "\n",
    "more_than_one_liners"
   ]
  },
  {
   "cell_type": "code",
   "execution_count": 340,
   "metadata": {
    "id": "nE2z_lWW7HfJ"
   },
   "outputs": [],
   "source": [
    "df_compare_full = df_compare[more_than_one_liners]"
   ]
  },
  {
   "cell_type": "code",
   "execution_count": 341,
   "metadata": {
    "colab": {
     "base_uri": "https://localhost:8080/",
     "height": 424
    },
    "id": "IynhDLFO7vqg",
    "outputId": "e8f095ae-58f1-42f0-82a4-79985844737f"
   },
   "outputs": [
    {
     "data": {
      "text/html": [
       "<div>\n",
       "<style scoped>\n",
       "    .dataframe tbody tr th:only-of-type {\n",
       "        vertical-align: middle;\n",
       "    }\n",
       "\n",
       "    .dataframe tbody tr th {\n",
       "        vertical-align: top;\n",
       "    }\n",
       "\n",
       "    .dataframe thead th {\n",
       "        text-align: right;\n",
       "    }\n",
       "</style>\n",
       "<table border=\"1\" class=\"dataframe\">\n",
       "  <thead>\n",
       "    <tr style=\"text-align: right;\">\n",
       "      <th></th>\n",
       "      <th>abstractive</th>\n",
       "      <th>extractive</th>\n",
       "      <th>original</th>\n",
       "    </tr>\n",
       "  </thead>\n",
       "  <tbody>\n",
       "    <tr>\n",
       "      <th>1</th>\n",
       "      <td>company listed complaint right harass work. ex...</td>\n",
       "      <td>company right harass work want stop. extremely...</td>\n",
       "      <td>past 2 weeks, receiving excessive amounts tele...</td>\n",
       "    </tr>\n",
       "    <tr>\n",
       "      <th>2</th>\n",
       "      <td>violation statutory cost $1000.00 each, includ...</td>\n",
       "      <td>violations committed include limited : ( 1 ) v...</td>\n",
       "      <td>pioneer committed several federal violations m...</td>\n",
       "    </tr>\n",
       "    <tr>\n",
       "      <th>3</th>\n",
       "      <td>experian failed send copy verifiable proof fil...</td>\n",
       "      <td>previously, //, //, // requested experian send...</td>\n",
       "      <td>previously, xx/xx/xxxx, xx/xx/xxxx, xx/xx/xxxx...</td>\n",
       "    </tr>\n",
       "    <tr>\n",
       "      <th>4</th>\n",
       "      <td>bankruptcy two accounts show discrepancies cre...</td>\n",
       "      <td>notified three credit agencies previously stat...</td>\n",
       "      <td>hello complaint three credit reporting compani...</td>\n",
       "    </tr>\n",
       "    <tr>\n",
       "      <th>6</th>\n",
       "      <td>account 7 years old credit report. incorrect r...</td>\n",
       "      <td>account 7 years old therefore credit report. i...</td>\n",
       "      <td>xxxx reporting incorrectly equifax xxxx accoun...</td>\n",
       "    </tr>\n",
       "  </tbody>\n",
       "</table>\n",
       "</div>"
      ],
      "text/plain": [
       "                                         abstractive  \\\n",
       "1  company listed complaint right harass work. ex...   \n",
       "2  violation statutory cost $1000.00 each, includ...   \n",
       "3  experian failed send copy verifiable proof fil...   \n",
       "4  bankruptcy two accounts show discrepancies cre...   \n",
       "6  account 7 years old credit report. incorrect r...   \n",
       "\n",
       "                                          extractive  \\\n",
       "1  company right harass work want stop. extremely...   \n",
       "2  violations committed include limited : ( 1 ) v...   \n",
       "3  previously, //, //, // requested experian send...   \n",
       "4  notified three credit agencies previously stat...   \n",
       "6  account 7 years old therefore credit report. i...   \n",
       "\n",
       "                                            original  \n",
       "1  past 2 weeks, receiving excessive amounts tele...  \n",
       "2  pioneer committed several federal violations m...  \n",
       "3  previously, xx/xx/xxxx, xx/xx/xxxx, xx/xx/xxxx...  \n",
       "4  hello complaint three credit reporting compani...  \n",
       "6  xxxx reporting incorrectly equifax xxxx accoun...  "
      ]
     },
     "execution_count": 341,
     "metadata": {},
     "output_type": "execute_result"
    }
   ],
   "source": [
    "df_compare_full.head()"
   ]
  },
  {
   "cell_type": "markdown",
   "metadata": {
    "id": "OIx7_SZ2fb4R"
   },
   "source": [
    "Need to lower for extractive."
   ]
  },
  {
   "cell_type": "code",
   "execution_count": 342,
   "metadata": {
    "id": "TuwqThnAfb4R"
   },
   "outputs": [],
   "source": [
    "extractive_cl = [complaint.lower() for complaint in df_compare_full.extractive]"
   ]
  },
  {
   "cell_type": "code",
   "execution_count": 343,
   "metadata": {
    "id": "Wucm9vIzfb4S",
    "outputId": "177076df-0739-4c88-e652-c323abea3192"
   },
   "outputs": [
    {
     "data": {
      "text/plain": [
       "1      company right harass work want stop. extremely...\n",
       "2      violations committed include limited : ( 1 ) v...\n",
       "3      previously, //, //, // requested experian send...\n",
       "4      notified three credit agencies previously stat...\n",
       "6      account 7 years old therefore credit report. i...\n",
       "                             ...                        \n",
       "995    received credit card statement balance due {$1...\n",
       "996    requested would like type verification suppose...\n",
       "997    tuesday, //2019 received call gentleman name h...\n",
       "998    //2018, invested money broker found online. ti...\n",
       "999    transunion reporting incorrect coding / partia...\n",
       "Length: 929, dtype: object"
      ]
     },
     "execution_count": 343,
     "metadata": {},
     "output_type": "execute_result"
    }
   ],
   "source": [
    "extractive = pd.Series(extractive_cl, index = df_compare_full.index)\n",
    "\n",
    "extractive"
   ]
  },
  {
   "cell_type": "code",
   "execution_count": 344,
   "metadata": {
    "id": "r_OtB0iFfb4S",
    "outputId": "b2959d24-9ddb-45e5-a880-a81d8708a30b"
   },
   "outputs": [
    {
     "data": {
      "text/html": [
       "<div>\n",
       "<style scoped>\n",
       "    .dataframe tbody tr th:only-of-type {\n",
       "        vertical-align: middle;\n",
       "    }\n",
       "\n",
       "    .dataframe tbody tr th {\n",
       "        vertical-align: top;\n",
       "    }\n",
       "\n",
       "    .dataframe thead th {\n",
       "        text-align: right;\n",
       "    }\n",
       "</style>\n",
       "<table border=\"1\" class=\"dataframe\">\n",
       "  <thead>\n",
       "    <tr style=\"text-align: right;\">\n",
       "      <th></th>\n",
       "      <th>abstractive</th>\n",
       "      <th>original</th>\n",
       "    </tr>\n",
       "  </thead>\n",
       "  <tbody>\n",
       "    <tr>\n",
       "      <th>1</th>\n",
       "      <td>company listed complaint right harass work. ex...</td>\n",
       "      <td>past 2 weeks, receiving excessive amounts tele...</td>\n",
       "    </tr>\n",
       "    <tr>\n",
       "      <th>2</th>\n",
       "      <td>violation statutory cost $1000.00 each, includ...</td>\n",
       "      <td>pioneer committed several federal violations m...</td>\n",
       "    </tr>\n",
       "    <tr>\n",
       "      <th>3</th>\n",
       "      <td>experian failed send copy verifiable proof fil...</td>\n",
       "      <td>previously, xx/xx/xxxx, xx/xx/xxxx, xx/xx/xxxx...</td>\n",
       "    </tr>\n",
       "    <tr>\n",
       "      <th>4</th>\n",
       "      <td>bankruptcy two accounts show discrepancies cre...</td>\n",
       "      <td>hello complaint three credit reporting compani...</td>\n",
       "    </tr>\n",
       "    <tr>\n",
       "      <th>6</th>\n",
       "      <td>account 7 years old credit report. incorrect r...</td>\n",
       "      <td>xxxx reporting incorrectly equifax xxxx accoun...</td>\n",
       "    </tr>\n",
       "  </tbody>\n",
       "</table>\n",
       "</div>"
      ],
      "text/plain": [
       "                                         abstractive  \\\n",
       "1  company listed complaint right harass work. ex...   \n",
       "2  violation statutory cost $1000.00 each, includ...   \n",
       "3  experian failed send copy verifiable proof fil...   \n",
       "4  bankruptcy two accounts show discrepancies cre...   \n",
       "6  account 7 years old credit report. incorrect r...   \n",
       "\n",
       "                                            original  \n",
       "1  past 2 weeks, receiving excessive amounts tele...  \n",
       "2  pioneer committed several federal violations m...  \n",
       "3  previously, xx/xx/xxxx, xx/xx/xxxx, xx/xx/xxxx...  \n",
       "4  hello complaint three credit reporting compani...  \n",
       "6  xxxx reporting incorrectly equifax xxxx accoun...  "
      ]
     },
     "execution_count": 344,
     "metadata": {},
     "output_type": "execute_result"
    }
   ],
   "source": [
    "df_compare_full = df_compare_full.drop('extractive', axis = 1)\n",
    "\n",
    "df_compare_full.head()"
   ]
  },
  {
   "cell_type": "code",
   "execution_count": 345,
   "metadata": {
    "id": "CwEXLvGhfb4T"
   },
   "outputs": [],
   "source": [
    "df_compare_full['extractive'] = extractive"
   ]
  },
  {
   "cell_type": "code",
   "execution_count": 346,
   "metadata": {},
   "outputs": [
    {
     "data": {
      "text/html": [
       "<div>\n",
       "<style scoped>\n",
       "    .dataframe tbody tr th:only-of-type {\n",
       "        vertical-align: middle;\n",
       "    }\n",
       "\n",
       "    .dataframe tbody tr th {\n",
       "        vertical-align: top;\n",
       "    }\n",
       "\n",
       "    .dataframe thead th {\n",
       "        text-align: right;\n",
       "    }\n",
       "</style>\n",
       "<table border=\"1\" class=\"dataframe\">\n",
       "  <thead>\n",
       "    <tr style=\"text-align: right;\">\n",
       "      <th></th>\n",
       "      <th>abstractive</th>\n",
       "      <th>original</th>\n",
       "      <th>extractive</th>\n",
       "    </tr>\n",
       "  </thead>\n",
       "  <tbody>\n",
       "    <tr>\n",
       "      <th>1</th>\n",
       "      <td>company listed complaint right harass work. ex...</td>\n",
       "      <td>past 2 weeks, receiving excessive amounts tele...</td>\n",
       "      <td>company right harass work want stop. extremely...</td>\n",
       "    </tr>\n",
       "    <tr>\n",
       "      <th>2</th>\n",
       "      <td>violation statutory cost $1000.00 each, includ...</td>\n",
       "      <td>pioneer committed several federal violations m...</td>\n",
       "      <td>violations committed include limited : ( 1 ) v...</td>\n",
       "    </tr>\n",
       "    <tr>\n",
       "      <th>3</th>\n",
       "      <td>experian failed send copy verifiable proof fil...</td>\n",
       "      <td>previously, xx/xx/xxxx, xx/xx/xxxx, xx/xx/xxxx...</td>\n",
       "      <td>previously, //, //, // requested experian send...</td>\n",
       "    </tr>\n",
       "    <tr>\n",
       "      <th>4</th>\n",
       "      <td>bankruptcy two accounts show discrepancies cre...</td>\n",
       "      <td>hello complaint three credit reporting compani...</td>\n",
       "      <td>notified three credit agencies previously stat...</td>\n",
       "    </tr>\n",
       "    <tr>\n",
       "      <th>6</th>\n",
       "      <td>account 7 years old credit report. incorrect r...</td>\n",
       "      <td>xxxx reporting incorrectly equifax xxxx accoun...</td>\n",
       "      <td>account 7 years old therefore credit report. i...</td>\n",
       "    </tr>\n",
       "  </tbody>\n",
       "</table>\n",
       "</div>"
      ],
      "text/plain": [
       "                                         abstractive  \\\n",
       "1  company listed complaint right harass work. ex...   \n",
       "2  violation statutory cost $1000.00 each, includ...   \n",
       "3  experian failed send copy verifiable proof fil...   \n",
       "4  bankruptcy two accounts show discrepancies cre...   \n",
       "6  account 7 years old credit report. incorrect r...   \n",
       "\n",
       "                                            original  \\\n",
       "1  past 2 weeks, receiving excessive amounts tele...   \n",
       "2  pioneer committed several federal violations m...   \n",
       "3  previously, xx/xx/xxxx, xx/xx/xxxx, xx/xx/xxxx...   \n",
       "4  hello complaint three credit reporting compani...   \n",
       "6  xxxx reporting incorrectly equifax xxxx accoun...   \n",
       "\n",
       "                                          extractive  \n",
       "1  company right harass work want stop. extremely...  \n",
       "2  violations committed include limited : ( 1 ) v...  \n",
       "3  previously, //, //, // requested experian send...  \n",
       "4  notified three credit agencies previously stat...  \n",
       "6  account 7 years old therefore credit report. i...  "
      ]
     },
     "execution_count": 346,
     "metadata": {},
     "output_type": "execute_result"
    }
   ],
   "source": [
    "df_compare_full.head()"
   ]
  },
  {
   "cell_type": "code",
   "execution_count": 347,
   "metadata": {},
   "outputs": [],
   "source": [
    "def odd_tokens_free(doc):\n",
    "  import re\n",
    "  processed = re.sub(\"(xx|xxxx|XX|XXXX|XX/XX/XXXX)\",\"\",doc)\n",
    "  return processed"
   ]
  },
  {
   "cell_type": "code",
   "execution_count": 348,
   "metadata": {},
   "outputs": [
    {
     "data": {
      "application/vnd.jupyter.widget-view+json": {
       "model_id": "703e2b912be84077844db6c7b73c18c4",
       "version_major": 2,
       "version_minor": 0
      },
      "text/plain": [
       "HBox(children=(FloatProgress(value=0.0, description='Pandas Apply', max=929.0, style=ProgressStyle(description…"
      ]
     },
     "metadata": {},
     "output_type": "display_data"
    },
    {
     "name": "stdout",
     "output_type": "stream",
     "text": [
      "\n"
     ]
    }
   ],
   "source": [
    "original_odd_free = df_compare_full.original.swifter.apply(odd_tokens_free)"
   ]
  },
  {
   "cell_type": "code",
   "execution_count": 349,
   "metadata": {},
   "outputs": [
    {
     "data": {
      "text/html": [
       "<div>\n",
       "<style scoped>\n",
       "    .dataframe tbody tr th:only-of-type {\n",
       "        vertical-align: middle;\n",
       "    }\n",
       "\n",
       "    .dataframe tbody tr th {\n",
       "        vertical-align: top;\n",
       "    }\n",
       "\n",
       "    .dataframe thead th {\n",
       "        text-align: right;\n",
       "    }\n",
       "</style>\n",
       "<table border=\"1\" class=\"dataframe\">\n",
       "  <thead>\n",
       "    <tr style=\"text-align: right;\">\n",
       "      <th></th>\n",
       "      <th>abstractive</th>\n",
       "      <th>extractive</th>\n",
       "    </tr>\n",
       "  </thead>\n",
       "  <tbody>\n",
       "    <tr>\n",
       "      <th>1</th>\n",
       "      <td>company listed complaint right harass work. ex...</td>\n",
       "      <td>company right harass work want stop. extremely...</td>\n",
       "    </tr>\n",
       "    <tr>\n",
       "      <th>2</th>\n",
       "      <td>violation statutory cost $1000.00 each, includ...</td>\n",
       "      <td>violations committed include limited : ( 1 ) v...</td>\n",
       "    </tr>\n",
       "    <tr>\n",
       "      <th>3</th>\n",
       "      <td>experian failed send copy verifiable proof fil...</td>\n",
       "      <td>previously, //, //, // requested experian send...</td>\n",
       "    </tr>\n",
       "    <tr>\n",
       "      <th>4</th>\n",
       "      <td>bankruptcy two accounts show discrepancies cre...</td>\n",
       "      <td>notified three credit agencies previously stat...</td>\n",
       "    </tr>\n",
       "    <tr>\n",
       "      <th>6</th>\n",
       "      <td>account 7 years old credit report. incorrect r...</td>\n",
       "      <td>account 7 years old therefore credit report. i...</td>\n",
       "    </tr>\n",
       "  </tbody>\n",
       "</table>\n",
       "</div>"
      ],
      "text/plain": [
       "                                         abstractive  \\\n",
       "1  company listed complaint right harass work. ex...   \n",
       "2  violation statutory cost $1000.00 each, includ...   \n",
       "3  experian failed send copy verifiable proof fil...   \n",
       "4  bankruptcy two accounts show discrepancies cre...   \n",
       "6  account 7 years old credit report. incorrect r...   \n",
       "\n",
       "                                          extractive  \n",
       "1  company right harass work want stop. extremely...  \n",
       "2  violations committed include limited : ( 1 ) v...  \n",
       "3  previously, //, //, // requested experian send...  \n",
       "4  notified three credit agencies previously stat...  \n",
       "6  account 7 years old therefore credit report. i...  "
      ]
     },
     "execution_count": 349,
     "metadata": {},
     "output_type": "execute_result"
    }
   ],
   "source": [
    "df_compare_full = df_compare_full.drop('original', axis = 1)\n",
    "\n",
    "df_compare_full.head()"
   ]
  },
  {
   "cell_type": "code",
   "execution_count": 350,
   "metadata": {},
   "outputs": [
    {
     "data": {
      "text/html": [
       "<div>\n",
       "<style scoped>\n",
       "    .dataframe tbody tr th:only-of-type {\n",
       "        vertical-align: middle;\n",
       "    }\n",
       "\n",
       "    .dataframe tbody tr th {\n",
       "        vertical-align: top;\n",
       "    }\n",
       "\n",
       "    .dataframe thead th {\n",
       "        text-align: right;\n",
       "    }\n",
       "</style>\n",
       "<table border=\"1\" class=\"dataframe\">\n",
       "  <thead>\n",
       "    <tr style=\"text-align: right;\">\n",
       "      <th></th>\n",
       "      <th>abstractive</th>\n",
       "      <th>extractive</th>\n",
       "      <th>original</th>\n",
       "    </tr>\n",
       "  </thead>\n",
       "  <tbody>\n",
       "    <tr>\n",
       "      <th>1</th>\n",
       "      <td>company listed complaint right harass work. ex...</td>\n",
       "      <td>company right harass work want stop. extremely...</td>\n",
       "      <td>past 2 weeks, receiving excessive amounts tele...</td>\n",
       "    </tr>\n",
       "    <tr>\n",
       "      <th>2</th>\n",
       "      <td>violation statutory cost $1000.00 each, includ...</td>\n",
       "      <td>violations committed include limited : ( 1 ) v...</td>\n",
       "      <td>pioneer committed several federal violations m...</td>\n",
       "    </tr>\n",
       "    <tr>\n",
       "      <th>3</th>\n",
       "      <td>experian failed send copy verifiable proof fil...</td>\n",
       "      <td>previously, //, //, // requested experian send...</td>\n",
       "      <td>previously, //, //, // requested experian send...</td>\n",
       "    </tr>\n",
       "    <tr>\n",
       "      <th>4</th>\n",
       "      <td>bankruptcy two accounts show discrepancies cre...</td>\n",
       "      <td>notified three credit agencies previously stat...</td>\n",
       "      <td>hello complaint three credit reporting compani...</td>\n",
       "    </tr>\n",
       "    <tr>\n",
       "      <th>6</th>\n",
       "      <td>account 7 years old credit report. incorrect r...</td>\n",
       "      <td>account 7 years old therefore credit report. i...</td>\n",
       "      <td>reporting incorrectly equifax  account balanc...</td>\n",
       "    </tr>\n",
       "  </tbody>\n",
       "</table>\n",
       "</div>"
      ],
      "text/plain": [
       "                                         abstractive  \\\n",
       "1  company listed complaint right harass work. ex...   \n",
       "2  violation statutory cost $1000.00 each, includ...   \n",
       "3  experian failed send copy verifiable proof fil...   \n",
       "4  bankruptcy two accounts show discrepancies cre...   \n",
       "6  account 7 years old credit report. incorrect r...   \n",
       "\n",
       "                                          extractive  \\\n",
       "1  company right harass work want stop. extremely...   \n",
       "2  violations committed include limited : ( 1 ) v...   \n",
       "3  previously, //, //, // requested experian send...   \n",
       "4  notified three credit agencies previously stat...   \n",
       "6  account 7 years old therefore credit report. i...   \n",
       "\n",
       "                                            original  \n",
       "1  past 2 weeks, receiving excessive amounts tele...  \n",
       "2  pioneer committed several federal violations m...  \n",
       "3  previously, //, //, // requested experian send...  \n",
       "4  hello complaint three credit reporting compani...  \n",
       "6   reporting incorrectly equifax  account balanc...  "
      ]
     },
     "execution_count": 350,
     "metadata": {},
     "output_type": "execute_result"
    }
   ],
   "source": [
    "df_compare_full['original'] = original_odd_free\n",
    "\n",
    "df_compare_full.head()"
   ]
  },
  {
   "cell_type": "markdown",
   "metadata": {
    "id": "P2vB9N7-foXk"
   },
   "source": [
    "# Eyeballing Some Key Examples"
   ]
  },
  {
   "cell_type": "code",
   "execution_count": 351,
   "metadata": {
    "id": "CiGwWWObfb4T",
    "outputId": "9383f08c-d945-4086-caf4-8686f8517c76"
   },
   "outputs": [
    {
     "data": {
      "text/html": [
       "<div>\n",
       "<style scoped>\n",
       "    .dataframe tbody tr th:only-of-type {\n",
       "        vertical-align: middle;\n",
       "    }\n",
       "\n",
       "    .dataframe tbody tr th {\n",
       "        vertical-align: top;\n",
       "    }\n",
       "\n",
       "    .dataframe thead th {\n",
       "        text-align: right;\n",
       "    }\n",
       "</style>\n",
       "<table border=\"1\" class=\"dataframe\">\n",
       "  <thead>\n",
       "    <tr style=\"text-align: right;\">\n",
       "      <th></th>\n",
       "      <th>abstractive</th>\n",
       "      <th>extractive</th>\n",
       "      <th>original</th>\n",
       "    </tr>\n",
       "  </thead>\n",
       "  <tbody>\n",
       "    <tr>\n",
       "      <th>1</th>\n",
       "      <td>company listed complaint right harass work. ex...</td>\n",
       "      <td>company right harass work want stop. extremely...</td>\n",
       "      <td>past 2 weeks, receiving excessive amounts tele...</td>\n",
       "    </tr>\n",
       "    <tr>\n",
       "      <th>2</th>\n",
       "      <td>violation statutory cost $1000.00 each, includ...</td>\n",
       "      <td>violations committed include limited : ( 1 ) v...</td>\n",
       "      <td>pioneer committed several federal violations m...</td>\n",
       "    </tr>\n",
       "    <tr>\n",
       "      <th>3</th>\n",
       "      <td>experian failed send copy verifiable proof fil...</td>\n",
       "      <td>previously, //, //, // requested experian send...</td>\n",
       "      <td>previously, //, //, // requested experian send...</td>\n",
       "    </tr>\n",
       "    <tr>\n",
       "      <th>4</th>\n",
       "      <td>bankruptcy two accounts show discrepancies cre...</td>\n",
       "      <td>notified three credit agencies previously stat...</td>\n",
       "      <td>hello complaint three credit reporting compani...</td>\n",
       "    </tr>\n",
       "    <tr>\n",
       "      <th>6</th>\n",
       "      <td>account 7 years old credit report. incorrect r...</td>\n",
       "      <td>account 7 years old therefore credit report. i...</td>\n",
       "      <td>reporting incorrectly equifax  account balanc...</td>\n",
       "    </tr>\n",
       "  </tbody>\n",
       "</table>\n",
       "</div>"
      ],
      "text/plain": [
       "                                         abstractive  \\\n",
       "1  company listed complaint right harass work. ex...   \n",
       "2  violation statutory cost $1000.00 each, includ...   \n",
       "3  experian failed send copy verifiable proof fil...   \n",
       "4  bankruptcy two accounts show discrepancies cre...   \n",
       "6  account 7 years old credit report. incorrect r...   \n",
       "\n",
       "                                          extractive  \\\n",
       "1  company right harass work want stop. extremely...   \n",
       "2  violations committed include limited : ( 1 ) v...   \n",
       "3  previously, //, //, // requested experian send...   \n",
       "4  notified three credit agencies previously stat...   \n",
       "6  account 7 years old therefore credit report. i...   \n",
       "\n",
       "                                            original  \n",
       "1  past 2 weeks, receiving excessive amounts tele...  \n",
       "2  pioneer committed several federal violations m...  \n",
       "3  previously, //, //, // requested experian send...  \n",
       "4  hello complaint three credit reporting compani...  \n",
       "6   reporting incorrectly equifax  account balanc...  "
      ]
     },
     "execution_count": 351,
     "metadata": {},
     "output_type": "execute_result"
    }
   ],
   "source": [
    "df_compare_full.head()"
   ]
  },
  {
   "cell_type": "code",
   "execution_count": 361,
   "metadata": {},
   "outputs": [
    {
     "data": {
      "text/plain": [
       "\"//2018, day mother died, made purchase amount {$100.00}. due stress attention required settle mother 's estate, three days late paying amount full. asked leniency due circumstances. continued ask late fee reversed ; charged fees interest original late fee. getting least half dozen phone calls day - consider harrassment -  . paid balance owed. could easily forgiven original late fee. new account made one purchase it.\""
      ]
     },
     "execution_count": 361,
     "metadata": {},
     "output_type": "execute_result"
    }
   ],
   "source": [
    "df_compare_full.original[500]"
   ]
  },
  {
   "cell_type": "code",
   "execution_count": 362,
   "metadata": {},
   "outputs": [
    {
     "data": {
      "text/plain": [
       "\"//2018, day mother died, made purchase amount {$100. 00}. due stress attention required settle mother 's estate, three days late paying amount full. could easily forgiven original late fee. new account made one purchase it.\""
      ]
     },
     "execution_count": 362,
     "metadata": {},
     "output_type": "execute_result"
    }
   ],
   "source": [
    "df_compare_full.extractive[500]"
   ]
  },
  {
   "cell_type": "code",
   "execution_count": 363,
   "metadata": {},
   "outputs": [
    {
     "data": {
      "text/plain": [
       "\"day mother died, made purchase amount $100.00. due stress attention required settle mother's estate, three days late paying sum full - asked leniency circumstances dictated ; charged fees interest original late fee!\""
      ]
     },
     "execution_count": 363,
     "metadata": {},
     "output_type": "execute_result"
    }
   ],
   "source": [
    "df_compare_full.abstractive[500]"
   ]
  },
  {
   "cell_type": "markdown",
   "metadata": {
    "id": "-ZvmykWZKY68"
   },
   "source": [
    "# Cosine Similarity between Abstractive and Extractive"
   ]
  },
  {
   "cell_type": "code",
   "execution_count": 364,
   "metadata": {
    "colab": {
     "base_uri": "https://localhost:8080/",
     "height": 53
    },
    "id": "3WTo9qP_9PcF",
    "outputId": "db3069e4-7b4e-4bcd-820a-94abaa6d2284"
   },
   "outputs": [
    {
     "data": {
      "text/plain": [
       "\"company listed complaint right harass work. extremely distracting told 5 times day excessive amount phone calls collection agency, says michael o'neill-mcdonald jr.\""
      ]
     },
     "execution_count": 364,
     "metadata": {},
     "output_type": "execute_result"
    }
   ],
   "source": [
    "df_compare_full.abstractive[1]"
   ]
  },
  {
   "cell_type": "code",
   "execution_count": 365,
   "metadata": {
    "colab": {
     "base_uri": "https://localhost:8080/",
     "height": 53
    },
    "id": "z1SfvfvJ9Vnz",
    "outputId": "d152b193-fbd7-48e3-94ce-a44e9a1af51b"
   },
   "outputs": [
    {
     "data": {
      "text/plain": [
       "'company right harass work want stop. extremely distracting told 5 times day call collection agency work.'"
      ]
     },
     "execution_count": 365,
     "metadata": {},
     "output_type": "execute_result"
    }
   ],
   "source": [
    "df_compare_full.extractive[1]"
   ]
  },
  {
   "cell_type": "code",
   "execution_count": 366,
   "metadata": {
    "colab": {
     "base_uri": "https://localhost:8080/"
    },
    "id": "vMn_zXeP9b9Y",
    "outputId": "e4322277-c867-4983-ac4a-f1962f7dba7c"
   },
   "outputs": [
    {
     "data": {
      "text/plain": [
       "[\"company listed complaint right harass work. extremely distracting told 5 times day excessive amount phone calls collection agency, says michael o'neill-mcdonald jr.\",\n",
       " 'company right harass work want stop. extremely distracting told 5 times day call collection agency work.']"
      ]
     },
     "execution_count": 366,
     "metadata": {},
     "output_type": "execute_result"
    }
   ],
   "source": [
    "test_documents = list()\n",
    "\n",
    "test_documents.append(df_compare_full.abstractive[1])\n",
    "test_documents.append(df_compare_full.extractive[1])\n",
    "\n",
    "test_documents"
   ]
  },
  {
   "cell_type": "code",
   "execution_count": 367,
   "metadata": {
    "id": "sm2-6w-97zK2"
   },
   "outputs": [],
   "source": [
    "# Create the Document Term Matrix\n",
    "tfidf_vectorizer = TfidfVectorizer()\n",
    "sparse_matrix = tfidf_vectorizer.fit_transform(test_documents)"
   ]
  },
  {
   "cell_type": "code",
   "execution_count": 368,
   "metadata": {
    "colab": {
     "base_uri": "https://localhost:8080/"
    },
    "id": "UXY4C2NP91RF",
    "outputId": "4028d15d-56da-49db-a132-bab672c70085"
   },
   "outputs": [
    {
     "name": "stdout",
     "output_type": "stream",
     "text": [
      "[[1.         0.46990184]\n",
      " [0.46990184 1.        ]]\n"
     ]
    }
   ],
   "source": [
    "print(cosine_similarity(sparse_matrix))"
   ]
  },
  {
   "cell_type": "code",
   "execution_count": 369,
   "metadata": {
    "colab": {
     "base_uri": "https://localhost:8080/"
    },
    "id": "vv4wF-LE-BvQ",
    "outputId": "dd712149-d7fa-4019-fa35-4a3aee00322e"
   },
   "outputs": [
    {
     "data": {
      "text/plain": [
       "0.46990184423194137"
      ]
     },
     "execution_count": 369,
     "metadata": {},
     "output_type": "execute_result"
    }
   ],
   "source": [
    "cosine_similarity(sparse_matrix)[0][1]"
   ]
  },
  {
   "cell_type": "code",
   "execution_count": 370,
   "metadata": {
    "colab": {
     "base_uri": "https://localhost:8080/"
    },
    "id": "ngi7XwRQ-MRW",
    "outputId": "fffdee51-131c-45f5-ff54-3113e2c976b6"
   },
   "outputs": [
    {
     "data": {
      "text/plain": [
       "Int64Index([  1,   2,   3,   4,   6,   9,  10,  11,  12,  13,\n",
       "            ...\n",
       "            990, 991, 992, 993, 994, 995, 996, 997, 998, 999],\n",
       "           dtype='int64', length=929)"
      ]
     },
     "execution_count": 370,
     "metadata": {},
     "output_type": "execute_result"
    }
   ],
   "source": [
    "df_compare_full.index"
   ]
  },
  {
   "cell_type": "code",
   "execution_count": 371,
   "metadata": {
    "id": "dreXd1aU_Itt"
   },
   "outputs": [],
   "source": [
    "scores = []"
   ]
  },
  {
   "cell_type": "code",
   "execution_count": 372,
   "metadata": {
    "colab": {
     "base_uri": "https://localhost:8080/"
    },
    "id": "f8N6SYFh-d9_",
    "outputId": "98f62312-231f-4123-887e-3c41981c7e39"
   },
   "outputs": [
    {
     "name": "stderr",
     "output_type": "stream",
     "text": [
      "100%|██████████| 929/929 [00:02<00:00, 442.44it/s]\n"
     ]
    }
   ],
   "source": [
    "for row in tqdm(df_compare_full.index):\n",
    "  abstractive_compare = df_compare_full.abstractive[row]\n",
    "  extractive_compare = df_compare_full.extractive[row]\n",
    "  compare_documents = list()\n",
    "  compare_documents.append(abstractive_compare)\n",
    "  compare_documents.append(extractive_compare)\n",
    "  tfidf_vectorizer = TfidfVectorizer(stop_words='english')\n",
    "  tfidf_vectorizer = TfidfVectorizer()\n",
    "  sparse_matrix = tfidf_vectorizer.fit_transform(compare_documents)\n",
    "  single_score_row = cosine_similarity(sparse_matrix)[0][1]\n",
    "  scores.append(single_score_row)"
   ]
  },
  {
   "cell_type": "code",
   "execution_count": 373,
   "metadata": {
    "id": "kVkMC1Cx_ZsS"
   },
   "outputs": [],
   "source": [
    "scores_series = pd.Series(scores)"
   ]
  },
  {
   "cell_type": "code",
   "execution_count": 374,
   "metadata": {
    "colab": {
     "base_uri": "https://localhost:8080/"
    },
    "id": "FifACHx0_bdM",
    "outputId": "c8ba31ac-3388-4f49-b236-91de65714199"
   },
   "outputs": [
    {
     "data": {
      "text/plain": [
       "count    929.000000\n",
       "mean       0.393145\n",
       "std        0.175121\n",
       "min        0.000000\n",
       "25%        0.275937\n",
       "50%        0.386838\n",
       "75%        0.499941\n",
       "max        1.000000\n",
       "dtype: float64"
      ]
     },
     "execution_count": 374,
     "metadata": {},
     "output_type": "execute_result"
    }
   ],
   "source": [
    "scores_series.describe()"
   ]
  },
  {
   "cell_type": "markdown",
   "metadata": {
    "id": "VPwakZnvKdw0"
   },
   "source": [
    "# Soft Cosine Similarity between Abstractive and Extractive"
   ]
  },
  {
   "cell_type": "markdown",
   "metadata": {
    "id": "-uw2DuUNfb4T"
   },
   "source": [
    "https://notebook.community/piskvorky/gensim/docs/notebooks/soft_cosine_tutorial "
   ]
  },
  {
   "cell_type": "code",
   "execution_count": 375,
   "metadata": {
    "colab": {
     "base_uri": "https://localhost:8080/",
     "height": 364
    },
    "id": "20DZVZRlKgTC",
    "outputId": "de7e1fbc-a320-4266-a74c-de03425ad7e1"
   },
   "outputs": [
    {
     "name": "stdout",
     "output_type": "stream",
     "text": [
      "3.8.3\n"
     ]
    }
   ],
   "source": [
    "import gensim\n",
    "# upgrade gensim if you can't import softcossim\n",
    "from gensim.matutils import softcossim \n",
    "from gensim import corpora\n",
    "import gensim.downloader as api\n",
    "from gensim.utils import simple_preprocess\n",
    "print(gensim.__version__)\n",
    "# Download the FastText model\n",
    "fasttext_model300 = api.load('fasttext-wiki-news-subwords-300') #https://fasttext.cc/docs/en/pretrained-vectors.html#"
   ]
  },
  {
   "cell_type": "code",
   "execution_count": 376,
   "metadata": {
    "id": "Kr8M____fb4U"
   },
   "outputs": [],
   "source": [
    "abs_list = df_compare_full.abstractive.tolist()"
   ]
  },
  {
   "cell_type": "code",
   "execution_count": 377,
   "metadata": {
    "id": "mKyWZxc7fb4V"
   },
   "outputs": [],
   "source": [
    "ext_list = df_compare_full.extractive.tolist()"
   ]
  },
  {
   "cell_type": "code",
   "execution_count": 378,
   "metadata": {
    "id": "xq84pke_fb4V"
   },
   "outputs": [],
   "source": [
    "documents = abs_list + ext_list"
   ]
  },
  {
   "cell_type": "code",
   "execution_count": 379,
   "metadata": {
    "id": "oFbo8iulKku-"
   },
   "outputs": [],
   "source": [
    "# Prepare a dictionary and a corpus.\n",
    "dictionary = corpora.Dictionary([simple_preprocess(doc) for doc in documents])"
   ]
  },
  {
   "cell_type": "code",
   "execution_count": 380,
   "metadata": {
    "id": "zIHgNNiKfb4X"
   },
   "outputs": [],
   "source": [
    "from gensim.models.keyedvectors import WordEmbeddingSimilarityIndex\n",
    "from gensim.similarities.termsim import SparseTermSimilarityMatrix\n",
    "\n",
    "# Prepare the similarity matrix\n",
    "similarity_index = WordEmbeddingSimilarityIndex(fasttext_model300)\n",
    "similarity_matrix = SparseTermSimilarityMatrix(similarity_index, dictionary)"
   ]
  },
  {
   "cell_type": "code",
   "execution_count": 381,
   "metadata": {
    "id": "UMcMhBTRfb4Y"
   },
   "outputs": [],
   "source": [
    "test_sent_1 = dictionary.doc2bow(simple_preprocess(df_compare_full.abstractive[1]))"
   ]
  },
  {
   "cell_type": "code",
   "execution_count": 382,
   "metadata": {
    "id": "MDa3-xpxfb4Z"
   },
   "outputs": [],
   "source": [
    "test_sent_2 = dictionary.doc2bow(simple_preprocess(df_compare_full.extractive[1]))"
   ]
  },
  {
   "cell_type": "code",
   "execution_count": 383,
   "metadata": {
    "id": "Uybd93sOfb4Z",
    "outputId": "f66fa420-ff04-42d8-efd0-7ff3bf6f5204"
   },
   "outputs": [
    {
     "name": "stdout",
     "output_type": "stream",
     "text": [
      "0.6817356\n"
     ]
    }
   ],
   "source": [
    "print(similarity_matrix.inner_product(test_sent_1, test_sent_2, normalized=True))"
   ]
  },
  {
   "cell_type": "code",
   "execution_count": 384,
   "metadata": {
    "id": "tXH1tH3nfb4a"
   },
   "outputs": [],
   "source": [
    "# Convert all abstractive summarized complaints into bag-of-words vectors.\n",
    "bag_of_words_abs_list = []\n",
    "for complaint in abs_list:\n",
    "    processed_abs_sent = dictionary.doc2bow(simple_preprocess(complaint))\n",
    "    bag_of_words_abs_list.append(processed_abs_sent)"
   ]
  },
  {
   "cell_type": "code",
   "execution_count": 385,
   "metadata": {
    "id": "7fr849bhfb4a",
    "outputId": "e021ff49-f155-43a2-8ea5-a1b4f1dd3e0c"
   },
   "outputs": [
    {
     "data": {
      "text/plain": [
       "[(40, 1),\n",
       " (44, 1),\n",
       " (47, 2),\n",
       " (53, 1),\n",
       " (65, 1),\n",
       " (75, 1),\n",
       " (107, 1),\n",
       " (108, 1),\n",
       " (110, 1),\n",
       " (824, 1),\n",
       " (991, 1),\n",
       " (1335, 1),\n",
       " (2212, 1),\n",
       " (2213, 1)]"
      ]
     },
     "execution_count": 385,
     "metadata": {},
     "output_type": "execute_result"
    }
   ],
   "source": [
    "bag_of_words_abs_list[928]"
   ]
  },
  {
   "cell_type": "code",
   "execution_count": 386,
   "metadata": {
    "id": "1CwobHQSfb4a"
   },
   "outputs": [],
   "source": [
    "# Convert all extractive summarized complaints into bag-of-words vectors.\n",
    "bag_of_words_ext_list = []\n",
    "for complaint in ext_list:\n",
    "    processed_ext_sent = dictionary.doc2bow(simple_preprocess(complaint))\n",
    "    bag_of_words_ext_list.append(processed_ext_sent)"
   ]
  },
  {
   "cell_type": "code",
   "execution_count": 387,
   "metadata": {
    "id": "PAcWu55Pfb4b",
    "outputId": "5ba31064-6332-4477-f736-8755d227decf"
   },
   "outputs": [
    {
     "data": {
      "text/plain": [
       "[(50, 1),\n",
       " (65, 1),\n",
       " (75, 2),\n",
       " (76, 1),\n",
       " (91, 1),\n",
       " (108, 1),\n",
       " (140, 1),\n",
       " (257, 1),\n",
       " (260, 1),\n",
       " (261, 1),\n",
       " (265, 1),\n",
       " (349, 2),\n",
       " (396, 1),\n",
       " (824, 1),\n",
       " (991, 1),\n",
       " (1499, 1),\n",
       " (2212, 1),\n",
       " (2213, 1),\n",
       " (2328, 1),\n",
       " (2473, 1)]"
      ]
     },
     "execution_count": 387,
     "metadata": {},
     "output_type": "execute_result"
    }
   ],
   "source": [
    "bag_of_words_ext_list[928]"
   ]
  },
  {
   "cell_type": "markdown",
   "metadata": {
    "id": "jBcxD5PQfb4b"
   },
   "source": [
    "## Now for all"
   ]
  },
  {
   "cell_type": "code",
   "execution_count": 388,
   "metadata": {
    "id": "FPsZfIGufb4c"
   },
   "outputs": [],
   "source": [
    "score_list = []\n",
    "for i in range (0, 929):\n",
    "    scores = similarity_matrix.inner_product(bag_of_words_abs_list[i], bag_of_words_ext_list[i], normalized=True)\n",
    "    score_list.append(scores)"
   ]
  },
  {
   "cell_type": "code",
   "execution_count": 389,
   "metadata": {
    "id": "TanrJY3Ifb4c"
   },
   "outputs": [],
   "source": [
    "score_series = pd.Series(score_list)"
   ]
  },
  {
   "cell_type": "code",
   "execution_count": 390,
   "metadata": {
    "id": "JjtPn73nfb4d",
    "outputId": "e6ff6737-547b-4084-9988-42dceb0b3ff5"
   },
   "outputs": [
    {
     "data": {
      "text/plain": [
       "count    929.000000\n",
       "mean       0.590324\n",
       "std        0.171344\n",
       "min        0.000000\n",
       "25%        0.490324\n",
       "50%        0.605708\n",
       "75%        0.710848\n",
       "max        1.000000\n",
       "dtype: float64"
      ]
     },
     "execution_count": 390,
     "metadata": {},
     "output_type": "execute_result"
    }
   ],
   "source": [
    "score_series.describe()"
   ]
  },
  {
   "cell_type": "markdown",
   "metadata": {},
   "source": [
    "# Soft Cosine Similarity between Abstractive and Original"
   ]
  },
  {
   "cell_type": "code",
   "execution_count": 391,
   "metadata": {},
   "outputs": [],
   "source": [
    "abs_list = df_compare_full.abstractive.tolist()"
   ]
  },
  {
   "cell_type": "code",
   "execution_count": 392,
   "metadata": {},
   "outputs": [],
   "source": [
    "org_list = df_compare_full.original.tolist()"
   ]
  },
  {
   "cell_type": "code",
   "execution_count": 393,
   "metadata": {},
   "outputs": [],
   "source": [
    "documents_comp = abs_list + org_list"
   ]
  },
  {
   "cell_type": "code",
   "execution_count": 394,
   "metadata": {},
   "outputs": [],
   "source": [
    "# Prepare a dictionary and a corpus.\n",
    "dictionary = corpora.Dictionary([simple_preprocess(doc) for doc in documents_comp])"
   ]
  },
  {
   "cell_type": "code",
   "execution_count": 395,
   "metadata": {},
   "outputs": [],
   "source": [
    "from gensim.models.keyedvectors import WordEmbeddingSimilarityIndex\n",
    "from gensim.similarities.termsim import SparseTermSimilarityMatrix\n",
    "\n",
    "# Prepare the similarity matrix\n",
    "similarity_index = WordEmbeddingSimilarityIndex(fasttext_model300)\n",
    "similarity_matrix = SparseTermSimilarityMatrix(similarity_index, dictionary)"
   ]
  },
  {
   "cell_type": "code",
   "execution_count": 396,
   "metadata": {},
   "outputs": [],
   "source": [
    "test_sent_1 = dictionary.doc2bow(simple_preprocess(df_compare_full.abstractive[1]))"
   ]
  },
  {
   "cell_type": "code",
   "execution_count": 397,
   "metadata": {},
   "outputs": [],
   "source": [
    "test_sent_2 = dictionary.doc2bow(simple_preprocess(df_compare_full.original[1]))"
   ]
  },
  {
   "cell_type": "code",
   "execution_count": 398,
   "metadata": {},
   "outputs": [
    {
     "name": "stdout",
     "output_type": "stream",
     "text": [
      "0.7594595\n"
     ]
    }
   ],
   "source": [
    "print(similarity_matrix.inner_product(test_sent_1, test_sent_2, normalized=True))"
   ]
  },
  {
   "cell_type": "code",
   "execution_count": 399,
   "metadata": {},
   "outputs": [],
   "source": [
    "# Convert all abstractive summarized complaints into bag-of-words vectors.\n",
    "bag_of_words_abs_list = []\n",
    "for complaint in abs_list:\n",
    "    processed_abs_sent = dictionary.doc2bow(simple_preprocess(complaint))\n",
    "    bag_of_words_abs_list.append(processed_abs_sent)"
   ]
  },
  {
   "cell_type": "code",
   "execution_count": 400,
   "metadata": {},
   "outputs": [
    {
     "data": {
      "text/plain": [
       "[(40, 1),\n",
       " (44, 1),\n",
       " (47, 2),\n",
       " (53, 1),\n",
       " (65, 1),\n",
       " (75, 1),\n",
       " (107, 1),\n",
       " (108, 1),\n",
       " (110, 1),\n",
       " (824, 1),\n",
       " (991, 1),\n",
       " (1335, 1),\n",
       " (2212, 1),\n",
       " (2213, 1)]"
      ]
     },
     "execution_count": 400,
     "metadata": {},
     "output_type": "execute_result"
    }
   ],
   "source": [
    "bag_of_words_abs_list[928]"
   ]
  },
  {
   "cell_type": "code",
   "execution_count": 401,
   "metadata": {},
   "outputs": [],
   "source": [
    "# Convert all extractive summarized complaints into bag-of-words vectors.\n",
    "bag_of_words_org_list = []\n",
    "for complaint in org_list:\n",
    "    processed_org_sent = dictionary.doc2bow(simple_preprocess(complaint))\n",
    "    bag_of_words_org_list.append(processed_org_sent)"
   ]
  },
  {
   "cell_type": "code",
   "execution_count": 402,
   "metadata": {},
   "outputs": [
    {
     "data": {
      "text/plain": [
       "[(40, 1),\n",
       " (44, 1),\n",
       " (47, 3),\n",
       " (50, 2),\n",
       " (53, 1),\n",
       " (65, 2),\n",
       " (75, 2),\n",
       " (76, 2),\n",
       " (91, 2),\n",
       " (94, 2),\n",
       " (107, 1),\n",
       " (108, 2),\n",
       " (110, 1),\n",
       " (114, 1),\n",
       " (140, 1),\n",
       " (257, 1),\n",
       " (260, 1),\n",
       " (261, 2),\n",
       " (265, 1),\n",
       " (349, 2),\n",
       " (396, 1),\n",
       " (574, 1),\n",
       " (824, 1),\n",
       " (991, 1),\n",
       " (1216, 1),\n",
       " (1499, 1),\n",
       " (2212, 1),\n",
       " (2213, 2),\n",
       " (2328, 1),\n",
       " (2473, 1),\n",
       " (2925, 1)]"
      ]
     },
     "execution_count": 402,
     "metadata": {},
     "output_type": "execute_result"
    }
   ],
   "source": [
    "bag_of_words_org_list[928]"
   ]
  },
  {
   "cell_type": "markdown",
   "metadata": {},
   "source": [
    "## Now for all"
   ]
  },
  {
   "cell_type": "code",
   "execution_count": 403,
   "metadata": {},
   "outputs": [],
   "source": [
    "score_list = []\n",
    "for i in range (0, 929):\n",
    "    scores = similarity_matrix.inner_product(bag_of_words_abs_list[i], bag_of_words_org_list[i], normalized=True)\n",
    "    score_list.append(scores)"
   ]
  },
  {
   "cell_type": "code",
   "execution_count": 404,
   "metadata": {},
   "outputs": [],
   "source": [
    "score_series = pd.Series(score_list)"
   ]
  },
  {
   "cell_type": "code",
   "execution_count": 405,
   "metadata": {},
   "outputs": [
    {
     "data": {
      "text/plain": [
       "count    929.000000\n",
       "mean       0.687210\n",
       "std        0.121787\n",
       "min        0.108089\n",
       "25%        0.620937\n",
       "50%        0.698846\n",
       "75%        0.766243\n",
       "max        1.000000\n",
       "dtype: float64"
      ]
     },
     "execution_count": 405,
     "metadata": {},
     "output_type": "execute_result"
    }
   ],
   "source": [
    "score_series.describe()"
   ]
  },
  {
   "cell_type": "markdown",
   "metadata": {},
   "source": [
    "# Soft Cosine Similarity between Extractive (all) and Original"
   ]
  },
  {
   "cell_type": "code",
   "execution_count": 406,
   "metadata": {},
   "outputs": [],
   "source": [
    "original_all = original_cleaned3"
   ]
  },
  {
   "cell_type": "code",
   "execution_count": 407,
   "metadata": {},
   "outputs": [],
   "source": [
    "def full_stop_space(doc):\n",
    "  import re\n",
    "  rx = r\"\\.(?=\\S)\"\n",
    "  result = re.sub(rx, \". \", doc)\n",
    "  return result\n",
    "\n",
    "def odd_tokens_free(doc):\n",
    "  import re\n",
    "  processed = re.sub(\"(xx|xxxx|XX|XXXX|XX/XX/XXXX)\",\"\",doc)\n",
    "  return processed\n",
    "\n",
    "def lowering(doc):\n",
    "    lowered = \"\".join([sentence.lower() for sentence in doc])\n",
    "    return lowered\n",
    "\n",
    "def stop_free(doc): \n",
    "  stop_words = set(stopwords.words('english'))\n",
    "  stop_rem = \" \".join([word for word in doc.split() if word not in stop_words])\n",
    "  return stop_rem"
   ]
  },
  {
   "cell_type": "code",
   "execution_count": 413,
   "metadata": {},
   "outputs": [],
   "source": [
    "extractive_all_unclean = pd.Series(extractive)"
   ]
  },
  {
   "cell_type": "code",
   "execution_count": 414,
   "metadata": {},
   "outputs": [
    {
     "data": {
      "application/vnd.jupyter.widget-view+json": {
       "model_id": "b205312f1e3845959c2570e4bb36c183",
       "version_major": 2,
       "version_minor": 0
      },
      "text/plain": [
       "HBox(children=(FloatProgress(value=0.0, description='Pandas Apply', max=657719.0, style=ProgressStyle(descript…"
      ]
     },
     "metadata": {},
     "output_type": "display_data"
    },
    {
     "name": "stdout",
     "output_type": "stream",
     "text": [
      "\n"
     ]
    }
   ],
   "source": [
    "extractive_clean1 = extractive_all_unclean.progress_apply(full_stop_space)"
   ]
  },
  {
   "cell_type": "code",
   "execution_count": 416,
   "metadata": {},
   "outputs": [
    {
     "data": {
      "application/vnd.jupyter.widget-view+json": {
       "model_id": "3fb25ada302145e8aa0f408dbdf28dcd",
       "version_major": 2,
       "version_minor": 0
      },
      "text/plain": [
       "HBox(children=(FloatProgress(value=0.0, description='Pandas Apply', max=657719.0, style=ProgressStyle(descript…"
      ]
     },
     "metadata": {},
     "output_type": "display_data"
    },
    {
     "name": "stdout",
     "output_type": "stream",
     "text": [
      "\n"
     ]
    }
   ],
   "source": [
    "extractive_clean2 = extractive_clean1.progress_apply(odd_tokens_free)"
   ]
  },
  {
   "cell_type": "code",
   "execution_count": 418,
   "metadata": {},
   "outputs": [
    {
     "data": {
      "application/vnd.jupyter.widget-view+json": {
       "model_id": "f1d16911d40c4abab331c61a41b35328",
       "version_major": 2,
       "version_minor": 0
      },
      "text/plain": [
       "HBox(children=(FloatProgress(value=0.0, description='Pandas Apply', max=657719.0, style=ProgressStyle(descript…"
      ]
     },
     "metadata": {},
     "output_type": "display_data"
    },
    {
     "name": "stdout",
     "output_type": "stream",
     "text": [
      "\n"
     ]
    }
   ],
   "source": [
    "extractive_clean3 = extractive_clean2.progress_apply(lowering)"
   ]
  },
  {
   "cell_type": "code",
   "execution_count": 420,
   "metadata": {},
   "outputs": [
    {
     "data": {
      "application/vnd.jupyter.widget-view+json": {
       "model_id": "f1528a55148748dda1924701b3b79901",
       "version_major": 2,
       "version_minor": 0
      },
      "text/plain": [
       "HBox(children=(FloatProgress(value=0.0, description='Pandas Apply', max=657719.0, style=ProgressStyle(descript…"
      ]
     },
     "metadata": {},
     "output_type": "display_data"
    },
    {
     "name": "stdout",
     "output_type": "stream",
     "text": [
      "\n"
     ]
    }
   ],
   "source": [
    "extractive_clean4 = extractive_clean3.progress_apply(stop_free)"
   ]
  },
  {
   "cell_type": "code",
   "execution_count": 436,
   "metadata": {},
   "outputs": [],
   "source": [
    "extractive_all = extractive_clean4"
   ]
  },
  {
   "cell_type": "code",
   "execution_count": 437,
   "metadata": {},
   "outputs": [],
   "source": [
    "df_tocompare = pd.DataFrame(extractive_all)"
   ]
  },
  {
   "cell_type": "code",
   "execution_count": 438,
   "metadata": {},
   "outputs": [],
   "source": [
    "df_tocompare['original_all'] = original_all"
   ]
  },
  {
   "cell_type": "code",
   "execution_count": 439,
   "metadata": {},
   "outputs": [
    {
     "data": {
      "text/html": [
       "<div>\n",
       "<style scoped>\n",
       "    .dataframe tbody tr th:only-of-type {\n",
       "        vertical-align: middle;\n",
       "    }\n",
       "\n",
       "    .dataframe tbody tr th {\n",
       "        vertical-align: top;\n",
       "    }\n",
       "\n",
       "    .dataframe thead th {\n",
       "        text-align: right;\n",
       "    }\n",
       "</style>\n",
       "<table border=\"1\" class=\"dataframe\">\n",
       "  <thead>\n",
       "    <tr style=\"text-align: right;\">\n",
       "      <th></th>\n",
       "      <th>0</th>\n",
       "      <th>original_all</th>\n",
       "    </tr>\n",
       "  </thead>\n",
       "  <tbody>\n",
       "    <tr>\n",
       "      <th>0</th>\n",
       "      <td></td>\n",
       "      <td>transworld systems inc. trying collect debt mi...</td>\n",
       "    </tr>\n",
       "    <tr>\n",
       "      <th>1</th>\n",
       "      <td>company right harass work want stop. extremely...</td>\n",
       "      <td>past 2 weeks, receiving excessive amounts tele...</td>\n",
       "    </tr>\n",
       "    <tr>\n",
       "      <th>2</th>\n",
       "      <td>violations committed include limited : ( 1 ) v...</td>\n",
       "      <td>pioneer committed several federal violations m...</td>\n",
       "    </tr>\n",
       "    <tr>\n",
       "      <th>3</th>\n",
       "      <td>previously, //, //, // requested experian send...</td>\n",
       "      <td>previously, xx/xx/xxxx, xx/xx/xxxx, xx/xx/xxxx...</td>\n",
       "    </tr>\n",
       "    <tr>\n",
       "      <th>4</th>\n",
       "      <td>notified three credit agencies previously stat...</td>\n",
       "      <td>hello complaint three credit reporting compani...</td>\n",
       "    </tr>\n",
       "    <tr>\n",
       "      <th>...</th>\n",
       "      <td>...</td>\n",
       "      <td>...</td>\n",
       "    </tr>\n",
       "    <tr>\n",
       "      <th>657714</th>\n",
       "      <td>fine print supposedly n't see final payment mu...</td>\n",
       "      <td>automatic payment car loan. fine print suppose...</td>\n",
       "    </tr>\n",
       "    <tr>\n",
       "      <th>657715</th>\n",
       "      <td>hold 10 minutes automated system recording tol...</td>\n",
       "      <td>recieved collections call unknown company morn...</td>\n",
       "    </tr>\n",
       "    <tr>\n",
       "      <th>657716</th>\n",
       "      <td>, 2015, contacted , branch manager ( # ) gatew...</td>\n",
       "      <td>xxxx xxxx, 2015, contacted xxxx xxxx, branch m...</td>\n",
       "    </tr>\n",
       "    <tr>\n",
       "      <th>657717</th>\n",
       "      <td></td>\n",
       "      <td>get chase services mortgage, owns original loa...</td>\n",
       "    </tr>\n",
       "    <tr>\n",
       "      <th>657718</th>\n",
       "      <td>payment made phone representative citi simplic...</td>\n",
       "      <td>made payment citi xxxx credit card xxxx xxxx, ...</td>\n",
       "    </tr>\n",
       "  </tbody>\n",
       "</table>\n",
       "<p>657719 rows × 2 columns</p>\n",
       "</div>"
      ],
      "text/plain": [
       "                                                        0  \\\n",
       "0                                                           \n",
       "1       company right harass work want stop. extremely...   \n",
       "2       violations committed include limited : ( 1 ) v...   \n",
       "3       previously, //, //, // requested experian send...   \n",
       "4       notified three credit agencies previously stat...   \n",
       "...                                                   ...   \n",
       "657714  fine print supposedly n't see final payment mu...   \n",
       "657715  hold 10 minutes automated system recording tol...   \n",
       "657716  , 2015, contacted , branch manager ( # ) gatew...   \n",
       "657717                                                      \n",
       "657718  payment made phone representative citi simplic...   \n",
       "\n",
       "                                             original_all  \n",
       "0       transworld systems inc. trying collect debt mi...  \n",
       "1       past 2 weeks, receiving excessive amounts tele...  \n",
       "2       pioneer committed several federal violations m...  \n",
       "3       previously, xx/xx/xxxx, xx/xx/xxxx, xx/xx/xxxx...  \n",
       "4       hello complaint three credit reporting compani...  \n",
       "...                                                   ...  \n",
       "657714  automatic payment car loan. fine print suppose...  \n",
       "657715  recieved collections call unknown company morn...  \n",
       "657716  xxxx xxxx, 2015, contacted xxxx xxxx, branch m...  \n",
       "657717  get chase services mortgage, owns original loa...  \n",
       "657718  made payment citi xxxx credit card xxxx xxxx, ...  \n",
       "\n",
       "[657719 rows x 2 columns]"
      ]
     },
     "execution_count": 439,
     "metadata": {},
     "output_type": "execute_result"
    }
   ],
   "source": [
    "df_tocompare"
   ]
  },
  {
   "cell_type": "code",
   "execution_count": 447,
   "metadata": {},
   "outputs": [],
   "source": [
    "df_tocompare = df_tocompare.rename(columns = {0:'extractive_all'})"
   ]
  },
  {
   "cell_type": "code",
   "execution_count": 452,
   "metadata": {},
   "outputs": [
    {
     "data": {
      "text/html": [
       "<div>\n",
       "<style scoped>\n",
       "    .dataframe tbody tr th:only-of-type {\n",
       "        vertical-align: middle;\n",
       "    }\n",
       "\n",
       "    .dataframe tbody tr th {\n",
       "        vertical-align: top;\n",
       "    }\n",
       "\n",
       "    .dataframe thead th {\n",
       "        text-align: right;\n",
       "    }\n",
       "</style>\n",
       "<table border=\"1\" class=\"dataframe\">\n",
       "  <thead>\n",
       "    <tr style=\"text-align: right;\">\n",
       "      <th></th>\n",
       "      <th>extractive_all</th>\n",
       "      <th>original_all</th>\n",
       "    </tr>\n",
       "  </thead>\n",
       "  <tbody>\n",
       "    <tr>\n",
       "      <th>0</th>\n",
       "      <td></td>\n",
       "      <td>transworld systems inc. trying collect debt mi...</td>\n",
       "    </tr>\n",
       "    <tr>\n",
       "      <th>1</th>\n",
       "      <td>company right harass work want stop. extremely...</td>\n",
       "      <td>past 2 weeks, receiving excessive amounts tele...</td>\n",
       "    </tr>\n",
       "    <tr>\n",
       "      <th>2</th>\n",
       "      <td>violations committed include limited : ( 1 ) v...</td>\n",
       "      <td>pioneer committed several federal violations m...</td>\n",
       "    </tr>\n",
       "    <tr>\n",
       "      <th>3</th>\n",
       "      <td>previously, //, //, // requested experian send...</td>\n",
       "      <td>previously, xx/xx/xxxx, xx/xx/xxxx, xx/xx/xxxx...</td>\n",
       "    </tr>\n",
       "    <tr>\n",
       "      <th>4</th>\n",
       "      <td>notified three credit agencies previously stat...</td>\n",
       "      <td>hello complaint three credit reporting compani...</td>\n",
       "    </tr>\n",
       "    <tr>\n",
       "      <th>...</th>\n",
       "      <td>...</td>\n",
       "      <td>...</td>\n",
       "    </tr>\n",
       "    <tr>\n",
       "      <th>657714</th>\n",
       "      <td>fine print supposedly n't see final payment mu...</td>\n",
       "      <td>automatic payment car loan. fine print suppose...</td>\n",
       "    </tr>\n",
       "    <tr>\n",
       "      <th>657715</th>\n",
       "      <td>hold 10 minutes automated system recording tol...</td>\n",
       "      <td>recieved collections call unknown company morn...</td>\n",
       "    </tr>\n",
       "    <tr>\n",
       "      <th>657716</th>\n",
       "      <td>, 2015, contacted , branch manager ( # ) gatew...</td>\n",
       "      <td>xxxx xxxx, 2015, contacted xxxx xxxx, branch m...</td>\n",
       "    </tr>\n",
       "    <tr>\n",
       "      <th>657717</th>\n",
       "      <td></td>\n",
       "      <td>get chase services mortgage, owns original loa...</td>\n",
       "    </tr>\n",
       "    <tr>\n",
       "      <th>657718</th>\n",
       "      <td>payment made phone representative citi simplic...</td>\n",
       "      <td>made payment citi xxxx credit card xxxx xxxx, ...</td>\n",
       "    </tr>\n",
       "  </tbody>\n",
       "</table>\n",
       "<p>657719 rows × 2 columns</p>\n",
       "</div>"
      ],
      "text/plain": [
       "                                           extractive_all  \\\n",
       "0                                                           \n",
       "1       company right harass work want stop. extremely...   \n",
       "2       violations committed include limited : ( 1 ) v...   \n",
       "3       previously, //, //, // requested experian send...   \n",
       "4       notified three credit agencies previously stat...   \n",
       "...                                                   ...   \n",
       "657714  fine print supposedly n't see final payment mu...   \n",
       "657715  hold 10 minutes automated system recording tol...   \n",
       "657716  , 2015, contacted , branch manager ( # ) gatew...   \n",
       "657717                                                      \n",
       "657718  payment made phone representative citi simplic...   \n",
       "\n",
       "                                             original_all  \n",
       "0       transworld systems inc. trying collect debt mi...  \n",
       "1       past 2 weeks, receiving excessive amounts tele...  \n",
       "2       pioneer committed several federal violations m...  \n",
       "3       previously, xx/xx/xxxx, xx/xx/xxxx, xx/xx/xxxx...  \n",
       "4       hello complaint three credit reporting compani...  \n",
       "...                                                   ...  \n",
       "657714  automatic payment car loan. fine print suppose...  \n",
       "657715  recieved collections call unknown company morn...  \n",
       "657716  xxxx xxxx, 2015, contacted xxxx xxxx, branch m...  \n",
       "657717  get chase services mortgage, owns original loa...  \n",
       "657718  made payment citi xxxx credit card xxxx xxxx, ...  \n",
       "\n",
       "[657719 rows x 2 columns]"
      ]
     },
     "execution_count": 452,
     "metadata": {},
     "output_type": "execute_result"
    }
   ],
   "source": [
    "df_tocompare"
   ]
  },
  {
   "cell_type": "code",
   "execution_count": 453,
   "metadata": {},
   "outputs": [],
   "source": [
    "more_than_one_liners = df_tocompare.extractive_all != ''\n",
    "\n",
    "more_than_one_liners\n",
    "\n",
    "df_tocompare_full = df_tocompare[more_than_one_liners]"
   ]
  },
  {
   "cell_type": "code",
   "execution_count": 454,
   "metadata": {},
   "outputs": [
    {
     "data": {
      "text/html": [
       "<div>\n",
       "<style scoped>\n",
       "    .dataframe tbody tr th:only-of-type {\n",
       "        vertical-align: middle;\n",
       "    }\n",
       "\n",
       "    .dataframe tbody tr th {\n",
       "        vertical-align: top;\n",
       "    }\n",
       "\n",
       "    .dataframe thead th {\n",
       "        text-align: right;\n",
       "    }\n",
       "</style>\n",
       "<table border=\"1\" class=\"dataframe\">\n",
       "  <thead>\n",
       "    <tr style=\"text-align: right;\">\n",
       "      <th></th>\n",
       "      <th>extractive_all</th>\n",
       "      <th>original_all</th>\n",
       "    </tr>\n",
       "  </thead>\n",
       "  <tbody>\n",
       "    <tr>\n",
       "      <th>1</th>\n",
       "      <td>company right harass work want stop. extremely...</td>\n",
       "      <td>past 2 weeks, receiving excessive amounts tele...</td>\n",
       "    </tr>\n",
       "    <tr>\n",
       "      <th>2</th>\n",
       "      <td>violations committed include limited : ( 1 ) v...</td>\n",
       "      <td>pioneer committed several federal violations m...</td>\n",
       "    </tr>\n",
       "    <tr>\n",
       "      <th>3</th>\n",
       "      <td>previously, //, //, // requested experian send...</td>\n",
       "      <td>previously, xx/xx/xxxx, xx/xx/xxxx, xx/xx/xxxx...</td>\n",
       "    </tr>\n",
       "    <tr>\n",
       "      <th>4</th>\n",
       "      <td>notified three credit agencies previously stat...</td>\n",
       "      <td>hello complaint three credit reporting compani...</td>\n",
       "    </tr>\n",
       "    <tr>\n",
       "      <th>6</th>\n",
       "      <td>account 7 years old therefore credit report. i...</td>\n",
       "      <td>xxxx reporting incorrectly equifax xxxx accoun...</td>\n",
       "    </tr>\n",
       "    <tr>\n",
       "      <th>...</th>\n",
       "      <td>...</td>\n",
       "      <td>...</td>\n",
       "    </tr>\n",
       "    <tr>\n",
       "      <th>657713</th>\n",
       "      <td>could qualifying year known.</td>\n",
       "      <td>life student loans xxxx xxxx navient, continuo...</td>\n",
       "    </tr>\n",
       "    <tr>\n",
       "      <th>657714</th>\n",
       "      <td>fine print supposedly n't see final payment mu...</td>\n",
       "      <td>automatic payment car loan. fine print suppose...</td>\n",
       "    </tr>\n",
       "    <tr>\n",
       "      <th>657715</th>\n",
       "      <td>hold 10 minutes automated system recording tol...</td>\n",
       "      <td>recieved collections call unknown company morn...</td>\n",
       "    </tr>\n",
       "    <tr>\n",
       "      <th>657716</th>\n",
       "      <td>, 2015, contacted , branch manager ( # ) gatew...</td>\n",
       "      <td>xxxx xxxx, 2015, contacted xxxx xxxx, branch m...</td>\n",
       "    </tr>\n",
       "    <tr>\n",
       "      <th>657718</th>\n",
       "      <td>payment made phone representative citi simplic...</td>\n",
       "      <td>made payment citi xxxx credit card xxxx xxxx, ...</td>\n",
       "    </tr>\n",
       "  </tbody>\n",
       "</table>\n",
       "<p>596913 rows × 2 columns</p>\n",
       "</div>"
      ],
      "text/plain": [
       "                                           extractive_all  \\\n",
       "1       company right harass work want stop. extremely...   \n",
       "2       violations committed include limited : ( 1 ) v...   \n",
       "3       previously, //, //, // requested experian send...   \n",
       "4       notified three credit agencies previously stat...   \n",
       "6       account 7 years old therefore credit report. i...   \n",
       "...                                                   ...   \n",
       "657713                       could qualifying year known.   \n",
       "657714  fine print supposedly n't see final payment mu...   \n",
       "657715  hold 10 minutes automated system recording tol...   \n",
       "657716  , 2015, contacted , branch manager ( # ) gatew...   \n",
       "657718  payment made phone representative citi simplic...   \n",
       "\n",
       "                                             original_all  \n",
       "1       past 2 weeks, receiving excessive amounts tele...  \n",
       "2       pioneer committed several federal violations m...  \n",
       "3       previously, xx/xx/xxxx, xx/xx/xxxx, xx/xx/xxxx...  \n",
       "4       hello complaint three credit reporting compani...  \n",
       "6       xxxx reporting incorrectly equifax xxxx accoun...  \n",
       "...                                                   ...  \n",
       "657713  life student loans xxxx xxxx navient, continuo...  \n",
       "657714  automatic payment car loan. fine print suppose...  \n",
       "657715  recieved collections call unknown company morn...  \n",
       "657716  xxxx xxxx, 2015, contacted xxxx xxxx, branch m...  \n",
       "657718  made payment citi xxxx credit card xxxx xxxx, ...  \n",
       "\n",
       "[596913 rows x 2 columns]"
      ]
     },
     "execution_count": 454,
     "metadata": {},
     "output_type": "execute_result"
    }
   ],
   "source": [
    "df_tocompare_full"
   ]
  },
  {
   "cell_type": "code",
   "execution_count": 457,
   "metadata": {},
   "outputs": [],
   "source": [
    "ext_list = df_tocompare_full.extractive_all.tolist()"
   ]
  },
  {
   "cell_type": "code",
   "execution_count": 458,
   "metadata": {},
   "outputs": [],
   "source": [
    "org_list = df_tocompare_full.original_all.tolist()"
   ]
  },
  {
   "cell_type": "code",
   "execution_count": 459,
   "metadata": {},
   "outputs": [],
   "source": [
    "documents_comp = ext_list + org_list"
   ]
  },
  {
   "cell_type": "code",
   "execution_count": 460,
   "metadata": {},
   "outputs": [],
   "source": [
    "# Prepare a dictionary and a corpus.\n",
    "dictionary = corpora.Dictionary([simple_preprocess(doc) for doc in documents_comp])"
   ]
  },
  {
   "cell_type": "code",
   "execution_count": 461,
   "metadata": {},
   "outputs": [],
   "source": [
    "from gensim.models.keyedvectors import WordEmbeddingSimilarityIndex\n",
    "from gensim.similarities.termsim import SparseTermSimilarityMatrix\n",
    "\n",
    "# Prepare the similarity matrix\n",
    "similarity_index = WordEmbeddingSimilarityIndex(fasttext_model300)\n",
    "similarity_matrix = SparseTermSimilarityMatrix(similarity_index, dictionary)"
   ]
  },
  {
   "cell_type": "code",
   "execution_count": 472,
   "metadata": {},
   "outputs": [],
   "source": [
    "import pickle\n",
    "\n",
    "with open('all_ext_org_similarity_matrix.pkl', 'wb') as fp:\n",
    "    pickle.dump(similarity_matrix, fp)"
   ]
  },
  {
   "cell_type": "code",
   "execution_count": 462,
   "metadata": {},
   "outputs": [],
   "source": [
    "# Convert all extractive summarized complaints into bag-of-words vectors.\n",
    "bag_of_words_org_list = []\n",
    "for complaint in org_list:\n",
    "    processed_org_sent = dictionary.doc2bow(simple_preprocess(complaint))\n",
    "    bag_of_words_org_list.append(processed_org_sent)"
   ]
  },
  {
   "cell_type": "code",
   "execution_count": 467,
   "metadata": {},
   "outputs": [],
   "source": [
    "# Convert all extractive summarized complaints into bag-of-words vectors.\n",
    "bag_of_words_ext_list = []\n",
    "for complaint in ext_list:\n",
    "    processed_ext_sent = dictionary.doc2bow(simple_preprocess(complaint))\n",
    "    bag_of_words_ext_list.append(processed_ext_sent)"
   ]
  },
  {
   "cell_type": "markdown",
   "metadata": {},
   "source": [
    "## Now for all"
   ]
  },
  {
   "cell_type": "code",
   "execution_count": 469,
   "metadata": {},
   "outputs": [],
   "source": [
    "score_list = []\n",
    "for i in range (0, 596913):\n",
    "    scores = similarity_matrix.inner_product(bag_of_words_ext_list[i], bag_of_words_org_list[i], normalized=True)\n",
    "    score_list.append(scores)"
   ]
  },
  {
   "cell_type": "code",
   "execution_count": 470,
   "metadata": {},
   "outputs": [],
   "source": [
    "score_series = pd.Series(score_list)"
   ]
  },
  {
   "cell_type": "code",
   "execution_count": 471,
   "metadata": {},
   "outputs": [
    {
     "data": {
      "text/plain": [
       "count    596913.000000\n",
       "mean          0.684405\n",
       "std           0.191578\n",
       "min           0.000000\n",
       "25%           0.573873\n",
       "50%           0.728940\n",
       "75%           0.832852\n",
       "max           1.000000\n",
       "dtype: float64"
      ]
     },
     "execution_count": 471,
     "metadata": {},
     "output_type": "execute_result"
    }
   ],
   "source": [
    "score_series.describe()"
   ]
  }
 ],
 "metadata": {
  "colab": {
   "collapsed_sections": [],
   "name": "Extractive_v_Abstractive.ipynb",
   "provenance": []
  },
  "kernelspec": {
   "display_name": "Python 3",
   "language": "python",
   "name": "python3"
  },
  "language_info": {
   "codemirror_mode": {
    "name": "ipython",
    "version": 3
   },
   "file_extension": ".py",
   "mimetype": "text/x-python",
   "name": "python",
   "nbconvert_exporter": "python",
   "pygments_lexer": "ipython3",
   "version": "3.7.6"
  },
  "widgets": {
   "application/vnd.jupyter.widget-state+json": {
    "07e78b9a7ad14fb2aa929b18e9722583": {
     "model_module": "@jupyter-widgets/base",
     "model_name": "LayoutModel",
     "state": {
      "_model_module": "@jupyter-widgets/base",
      "_model_module_version": "1.2.0",
      "_model_name": "LayoutModel",
      "_view_count": null,
      "_view_module": "@jupyter-widgets/base",
      "_view_module_version": "1.2.0",
      "_view_name": "LayoutView",
      "align_content": null,
      "align_items": null,
      "align_self": null,
      "border": null,
      "bottom": null,
      "display": null,
      "flex": null,
      "flex_flow": null,
      "grid_area": null,
      "grid_auto_columns": null,
      "grid_auto_flow": null,
      "grid_auto_rows": null,
      "grid_column": null,
      "grid_gap": null,
      "grid_row": null,
      "grid_template_areas": null,
      "grid_template_columns": null,
      "grid_template_rows": null,
      "height": null,
      "justify_content": null,
      "justify_items": null,
      "left": null,
      "margin": null,
      "max_height": null,
      "max_width": null,
      "min_height": null,
      "min_width": null,
      "object_fit": null,
      "object_position": null,
      "order": null,
      "overflow": null,
      "overflow_x": null,
      "overflow_y": null,
      "padding": null,
      "right": null,
      "top": null,
      "visibility": null,
      "width": null
     }
    },
    "10621ffc4b7d443081ec82d320e82fff": {
     "model_module": "@jupyter-widgets/controls",
     "model_name": "DescriptionStyleModel",
     "state": {
      "_model_module": "@jupyter-widgets/controls",
      "_model_module_version": "1.5.0",
      "_model_name": "DescriptionStyleModel",
      "_view_count": null,
      "_view_module": "@jupyter-widgets/base",
      "_view_module_version": "1.2.0",
      "_view_name": "StyleView",
      "description_width": ""
     }
    },
    "1adf9f5b9a9c4430b9654743fa0deb28": {
     "model_module": "@jupyter-widgets/controls",
     "model_name": "ProgressStyleModel",
     "state": {
      "_model_module": "@jupyter-widgets/controls",
      "_model_module_version": "1.5.0",
      "_model_name": "ProgressStyleModel",
      "_view_count": null,
      "_view_module": "@jupyter-widgets/base",
      "_view_module_version": "1.2.0",
      "_view_name": "StyleView",
      "bar_color": null,
      "description_width": "initial"
     }
    },
    "1e1d8c0ad54449a692548e0a2edfbf25": {
     "model_module": "@jupyter-widgets/base",
     "model_name": "LayoutModel",
     "state": {
      "_model_module": "@jupyter-widgets/base",
      "_model_module_version": "1.2.0",
      "_model_name": "LayoutModel",
      "_view_count": null,
      "_view_module": "@jupyter-widgets/base",
      "_view_module_version": "1.2.0",
      "_view_name": "LayoutView",
      "align_content": null,
      "align_items": null,
      "align_self": null,
      "border": null,
      "bottom": null,
      "display": null,
      "flex": null,
      "flex_flow": null,
      "grid_area": null,
      "grid_auto_columns": null,
      "grid_auto_flow": null,
      "grid_auto_rows": null,
      "grid_column": null,
      "grid_gap": null,
      "grid_row": null,
      "grid_template_areas": null,
      "grid_template_columns": null,
      "grid_template_rows": null,
      "height": null,
      "justify_content": null,
      "justify_items": null,
      "left": null,
      "margin": null,
      "max_height": null,
      "max_width": null,
      "min_height": null,
      "min_width": null,
      "object_fit": null,
      "object_position": null,
      "order": null,
      "overflow": null,
      "overflow_x": null,
      "overflow_y": null,
      "padding": null,
      "right": null,
      "top": null,
      "visibility": null,
      "width": null
     }
    },
    "26ffeb27b6ab4db8833998f28370e928": {
     "model_module": "@jupyter-widgets/controls",
     "model_name": "ProgressStyleModel",
     "state": {
      "_model_module": "@jupyter-widgets/controls",
      "_model_module_version": "1.5.0",
      "_model_name": "ProgressStyleModel",
      "_view_count": null,
      "_view_module": "@jupyter-widgets/base",
      "_view_module_version": "1.2.0",
      "_view_name": "StyleView",
      "bar_color": null,
      "description_width": "initial"
     }
    },
    "294639677bd74a08852a2f4951d8ab7e": {
     "model_module": "@jupyter-widgets/controls",
     "model_name": "HBoxModel",
     "state": {
      "_dom_classes": [],
      "_model_module": "@jupyter-widgets/controls",
      "_model_module_version": "1.5.0",
      "_model_name": "HBoxModel",
      "_view_count": null,
      "_view_module": "@jupyter-widgets/controls",
      "_view_module_version": "1.5.0",
      "_view_name": "HBoxView",
      "box_style": "",
      "children": [
       "IPY_MODEL_4f14b52100de4cb7b4de285f3069c338",
       "IPY_MODEL_9c00e61aadf140a8964f12c077cbdbd2"
      ],
      "layout": "IPY_MODEL_1e1d8c0ad54449a692548e0a2edfbf25"
     }
    },
    "319c0a94819648c8bb798094934e99ab": {
     "model_module": "@jupyter-widgets/controls",
     "model_name": "DescriptionStyleModel",
     "state": {
      "_model_module": "@jupyter-widgets/controls",
      "_model_module_version": "1.5.0",
      "_model_name": "DescriptionStyleModel",
      "_view_count": null,
      "_view_module": "@jupyter-widgets/base",
      "_view_module_version": "1.2.0",
      "_view_name": "StyleView",
      "description_width": ""
     }
    },
    "329ec9e2609447e2979000b0731d47df": {
     "model_module": "@jupyter-widgets/base",
     "model_name": "LayoutModel",
     "state": {
      "_model_module": "@jupyter-widgets/base",
      "_model_module_version": "1.2.0",
      "_model_name": "LayoutModel",
      "_view_count": null,
      "_view_module": "@jupyter-widgets/base",
      "_view_module_version": "1.2.0",
      "_view_name": "LayoutView",
      "align_content": null,
      "align_items": null,
      "align_self": null,
      "border": null,
      "bottom": null,
      "display": null,
      "flex": null,
      "flex_flow": null,
      "grid_area": null,
      "grid_auto_columns": null,
      "grid_auto_flow": null,
      "grid_auto_rows": null,
      "grid_column": null,
      "grid_gap": null,
      "grid_row": null,
      "grid_template_areas": null,
      "grid_template_columns": null,
      "grid_template_rows": null,
      "height": null,
      "justify_content": null,
      "justify_items": null,
      "left": null,
      "margin": null,
      "max_height": null,
      "max_width": null,
      "min_height": null,
      "min_width": null,
      "object_fit": null,
      "object_position": null,
      "order": null,
      "overflow": null,
      "overflow_x": null,
      "overflow_y": null,
      "padding": null,
      "right": null,
      "top": null,
      "visibility": null,
      "width": null
     }
    },
    "3942c82cf94943089a9df6954f51f338": {
     "model_module": "@jupyter-widgets/controls",
     "model_name": "HTMLModel",
     "state": {
      "_dom_classes": [],
      "_model_module": "@jupyter-widgets/controls",
      "_model_module_version": "1.5.0",
      "_model_name": "HTMLModel",
      "_view_count": null,
      "_view_module": "@jupyter-widgets/controls",
      "_view_module_version": "1.5.0",
      "_view_name": "HTMLView",
      "description": "",
      "description_tooltip": null,
      "layout": "IPY_MODEL_329ec9e2609447e2979000b0731d47df",
      "placeholder": "​",
      "style": "IPY_MODEL_da477ac87e944e9ab39d27fab4809aef",
      "value": " 1000/1000 [00:00&lt;00:00, 5386.82it/s]"
     }
    },
    "4f14b52100de4cb7b4de285f3069c338": {
     "model_module": "@jupyter-widgets/controls",
     "model_name": "FloatProgressModel",
     "state": {
      "_dom_classes": [],
      "_model_module": "@jupyter-widgets/controls",
      "_model_module_version": "1.5.0",
      "_model_name": "FloatProgressModel",
      "_view_count": null,
      "_view_module": "@jupyter-widgets/controls",
      "_view_module_version": "1.5.0",
      "_view_name": "ProgressView",
      "bar_style": "success",
      "description": "Pandas Apply: 100%",
      "description_tooltip": null,
      "layout": "IPY_MODEL_c84d84c309cf4cf8b7d9668cdc436f2f",
      "max": 1000,
      "min": 0,
      "orientation": "horizontal",
      "style": "IPY_MODEL_26ffeb27b6ab4db8833998f28370e928",
      "value": 1000
     }
    },
    "5d23ab81870648ad8fdf5312cd2eacc5": {
     "model_module": "@jupyter-widgets/base",
     "model_name": "LayoutModel",
     "state": {
      "_model_module": "@jupyter-widgets/base",
      "_model_module_version": "1.2.0",
      "_model_name": "LayoutModel",
      "_view_count": null,
      "_view_module": "@jupyter-widgets/base",
      "_view_module_version": "1.2.0",
      "_view_name": "LayoutView",
      "align_content": null,
      "align_items": null,
      "align_self": null,
      "border": null,
      "bottom": null,
      "display": null,
      "flex": null,
      "flex_flow": null,
      "grid_area": null,
      "grid_auto_columns": null,
      "grid_auto_flow": null,
      "grid_auto_rows": null,
      "grid_column": null,
      "grid_gap": null,
      "grid_row": null,
      "grid_template_areas": null,
      "grid_template_columns": null,
      "grid_template_rows": null,
      "height": null,
      "justify_content": null,
      "justify_items": null,
      "left": null,
      "margin": null,
      "max_height": null,
      "max_width": null,
      "min_height": null,
      "min_width": null,
      "object_fit": null,
      "object_position": null,
      "order": null,
      "overflow": null,
      "overflow_x": null,
      "overflow_y": null,
      "padding": null,
      "right": null,
      "top": null,
      "visibility": null,
      "width": null
     }
    },
    "6846d8e3b933428399c9e12b0f6fadd9": {
     "model_module": "@jupyter-widgets/base",
     "model_name": "LayoutModel",
     "state": {
      "_model_module": "@jupyter-widgets/base",
      "_model_module_version": "1.2.0",
      "_model_name": "LayoutModel",
      "_view_count": null,
      "_view_module": "@jupyter-widgets/base",
      "_view_module_version": "1.2.0",
      "_view_name": "LayoutView",
      "align_content": null,
      "align_items": null,
      "align_self": null,
      "border": null,
      "bottom": null,
      "display": null,
      "flex": null,
      "flex_flow": null,
      "grid_area": null,
      "grid_auto_columns": null,
      "grid_auto_flow": null,
      "grid_auto_rows": null,
      "grid_column": null,
      "grid_gap": null,
      "grid_row": null,
      "grid_template_areas": null,
      "grid_template_columns": null,
      "grid_template_rows": null,
      "height": null,
      "justify_content": null,
      "justify_items": null,
      "left": null,
      "margin": null,
      "max_height": null,
      "max_width": null,
      "min_height": null,
      "min_width": null,
      "object_fit": null,
      "object_position": null,
      "order": null,
      "overflow": null,
      "overflow_x": null,
      "overflow_y": null,
      "padding": null,
      "right": null,
      "top": null,
      "visibility": null,
      "width": null
     }
    },
    "6b213cdfe8c347bda0f620ad737a97a8": {
     "model_module": "@jupyter-widgets/base",
     "model_name": "LayoutModel",
     "state": {
      "_model_module": "@jupyter-widgets/base",
      "_model_module_version": "1.2.0",
      "_model_name": "LayoutModel",
      "_view_count": null,
      "_view_module": "@jupyter-widgets/base",
      "_view_module_version": "1.2.0",
      "_view_name": "LayoutView",
      "align_content": null,
      "align_items": null,
      "align_self": null,
      "border": null,
      "bottom": null,
      "display": null,
      "flex": null,
      "flex_flow": null,
      "grid_area": null,
      "grid_auto_columns": null,
      "grid_auto_flow": null,
      "grid_auto_rows": null,
      "grid_column": null,
      "grid_gap": null,
      "grid_row": null,
      "grid_template_areas": null,
      "grid_template_columns": null,
      "grid_template_rows": null,
      "height": null,
      "justify_content": null,
      "justify_items": null,
      "left": null,
      "margin": null,
      "max_height": null,
      "max_width": null,
      "min_height": null,
      "min_width": null,
      "object_fit": null,
      "object_position": null,
      "order": null,
      "overflow": null,
      "overflow_x": null,
      "overflow_y": null,
      "padding": null,
      "right": null,
      "top": null,
      "visibility": null,
      "width": null
     }
    },
    "7cfc253ad4c14810bb72ba91a7478f76": {
     "model_module": "@jupyter-widgets/base",
     "model_name": "LayoutModel",
     "state": {
      "_model_module": "@jupyter-widgets/base",
      "_model_module_version": "1.2.0",
      "_model_name": "LayoutModel",
      "_view_count": null,
      "_view_module": "@jupyter-widgets/base",
      "_view_module_version": "1.2.0",
      "_view_name": "LayoutView",
      "align_content": null,
      "align_items": null,
      "align_self": null,
      "border": null,
      "bottom": null,
      "display": null,
      "flex": null,
      "flex_flow": null,
      "grid_area": null,
      "grid_auto_columns": null,
      "grid_auto_flow": null,
      "grid_auto_rows": null,
      "grid_column": null,
      "grid_gap": null,
      "grid_row": null,
      "grid_template_areas": null,
      "grid_template_columns": null,
      "grid_template_rows": null,
      "height": null,
      "justify_content": null,
      "justify_items": null,
      "left": null,
      "margin": null,
      "max_height": null,
      "max_width": null,
      "min_height": null,
      "min_width": null,
      "object_fit": null,
      "object_position": null,
      "order": null,
      "overflow": null,
      "overflow_x": null,
      "overflow_y": null,
      "padding": null,
      "right": null,
      "top": null,
      "visibility": null,
      "width": null
     }
    },
    "9013aef34e5a4e3499baafee7a64e1b4": {
     "model_module": "@jupyter-widgets/base",
     "model_name": "LayoutModel",
     "state": {
      "_model_module": "@jupyter-widgets/base",
      "_model_module_version": "1.2.0",
      "_model_name": "LayoutModel",
      "_view_count": null,
      "_view_module": "@jupyter-widgets/base",
      "_view_module_version": "1.2.0",
      "_view_name": "LayoutView",
      "align_content": null,
      "align_items": null,
      "align_self": null,
      "border": null,
      "bottom": null,
      "display": null,
      "flex": null,
      "flex_flow": null,
      "grid_area": null,
      "grid_auto_columns": null,
      "grid_auto_flow": null,
      "grid_auto_rows": null,
      "grid_column": null,
      "grid_gap": null,
      "grid_row": null,
      "grid_template_areas": null,
      "grid_template_columns": null,
      "grid_template_rows": null,
      "height": null,
      "justify_content": null,
      "justify_items": null,
      "left": null,
      "margin": null,
      "max_height": null,
      "max_width": null,
      "min_height": null,
      "min_width": null,
      "object_fit": null,
      "object_position": null,
      "order": null,
      "overflow": null,
      "overflow_x": null,
      "overflow_y": null,
      "padding": null,
      "right": null,
      "top": null,
      "visibility": null,
      "width": null
     }
    },
    "913f3505afac42cf8ab751ba349bb19a": {
     "model_module": "@jupyter-widgets/controls",
     "model_name": "FloatProgressModel",
     "state": {
      "_dom_classes": [],
      "_model_module": "@jupyter-widgets/controls",
      "_model_module_version": "1.5.0",
      "_model_name": "FloatProgressModel",
      "_view_count": null,
      "_view_module": "@jupyter-widgets/controls",
      "_view_module_version": "1.5.0",
      "_view_name": "ProgressView",
      "bar_style": "success",
      "description": "Pandas Apply: 100%",
      "description_tooltip": null,
      "layout": "IPY_MODEL_07e78b9a7ad14fb2aa929b18e9722583",
      "max": 1000,
      "min": 0,
      "orientation": "horizontal",
      "style": "IPY_MODEL_1adf9f5b9a9c4430b9654743fa0deb28",
      "value": 1000
     }
    },
    "91e9d20872cc4beb82babed6793d0d36": {
     "model_module": "@jupyter-widgets/controls",
     "model_name": "HBoxModel",
     "state": {
      "_dom_classes": [],
      "_model_module": "@jupyter-widgets/controls",
      "_model_module_version": "1.5.0",
      "_model_name": "HBoxModel",
      "_view_count": null,
      "_view_module": "@jupyter-widgets/controls",
      "_view_module_version": "1.5.0",
      "_view_name": "HBoxView",
      "box_style": "",
      "children": [
       "IPY_MODEL_a55842bedbac45cb9180ffd5a952bad3",
       "IPY_MODEL_3942c82cf94943089a9df6954f51f338"
      ],
      "layout": "IPY_MODEL_7cfc253ad4c14810bb72ba91a7478f76"
     }
    },
    "97720ec826a24e15a59648f4915efeb0": {
     "model_module": "@jupyter-widgets/controls",
     "model_name": "HTMLModel",
     "state": {
      "_dom_classes": [],
      "_model_module": "@jupyter-widgets/controls",
      "_model_module_version": "1.5.0",
      "_model_name": "HTMLModel",
      "_view_count": null,
      "_view_module": "@jupyter-widgets/controls",
      "_view_module_version": "1.5.0",
      "_view_name": "HTMLView",
      "description": "",
      "description_tooltip": null,
      "layout": "IPY_MODEL_9013aef34e5a4e3499baafee7a64e1b4",
      "placeholder": "​",
      "style": "IPY_MODEL_10621ffc4b7d443081ec82d320e82fff",
      "value": " 1000/1000 [00:43&lt;00:00, 22.77it/s]"
     }
    },
    "9c00e61aadf140a8964f12c077cbdbd2": {
     "model_module": "@jupyter-widgets/controls",
     "model_name": "HTMLModel",
     "state": {
      "_dom_classes": [],
      "_model_module": "@jupyter-widgets/controls",
      "_model_module_version": "1.5.0",
      "_model_name": "HTMLModel",
      "_view_count": null,
      "_view_module": "@jupyter-widgets/controls",
      "_view_module_version": "1.5.0",
      "_view_name": "HTMLView",
      "description": "",
      "description_tooltip": null,
      "layout": "IPY_MODEL_5d23ab81870648ad8fdf5312cd2eacc5",
      "placeholder": "​",
      "style": "IPY_MODEL_319c0a94819648c8bb798094934e99ab",
      "value": " 1000/1000 [00:44&lt;00:00, 22.62it/s]"
     }
    },
    "a55842bedbac45cb9180ffd5a952bad3": {
     "model_module": "@jupyter-widgets/controls",
     "model_name": "FloatProgressModel",
     "state": {
      "_dom_classes": [],
      "_model_module": "@jupyter-widgets/controls",
      "_model_module_version": "1.5.0",
      "_model_name": "FloatProgressModel",
      "_view_count": null,
      "_view_module": "@jupyter-widgets/controls",
      "_view_module_version": "1.5.0",
      "_view_name": "ProgressView",
      "bar_style": "success",
      "description": "Pandas Apply: 100%",
      "description_tooltip": null,
      "layout": "IPY_MODEL_6b213cdfe8c347bda0f620ad737a97a8",
      "max": 1000,
      "min": 0,
      "orientation": "horizontal",
      "style": "IPY_MODEL_d4cb56fc6fab433cb6d5f309dbc84d2e",
      "value": 1000
     }
    },
    "c84d84c309cf4cf8b7d9668cdc436f2f": {
     "model_module": "@jupyter-widgets/base",
     "model_name": "LayoutModel",
     "state": {
      "_model_module": "@jupyter-widgets/base",
      "_model_module_version": "1.2.0",
      "_model_name": "LayoutModel",
      "_view_count": null,
      "_view_module": "@jupyter-widgets/base",
      "_view_module_version": "1.2.0",
      "_view_name": "LayoutView",
      "align_content": null,
      "align_items": null,
      "align_self": null,
      "border": null,
      "bottom": null,
      "display": null,
      "flex": null,
      "flex_flow": null,
      "grid_area": null,
      "grid_auto_columns": null,
      "grid_auto_flow": null,
      "grid_auto_rows": null,
      "grid_column": null,
      "grid_gap": null,
      "grid_row": null,
      "grid_template_areas": null,
      "grid_template_columns": null,
      "grid_template_rows": null,
      "height": null,
      "justify_content": null,
      "justify_items": null,
      "left": null,
      "margin": null,
      "max_height": null,
      "max_width": null,
      "min_height": null,
      "min_width": null,
      "object_fit": null,
      "object_position": null,
      "order": null,
      "overflow": null,
      "overflow_x": null,
      "overflow_y": null,
      "padding": null,
      "right": null,
      "top": null,
      "visibility": null,
      "width": null
     }
    },
    "d4cb56fc6fab433cb6d5f309dbc84d2e": {
     "model_module": "@jupyter-widgets/controls",
     "model_name": "ProgressStyleModel",
     "state": {
      "_model_module": "@jupyter-widgets/controls",
      "_model_module_version": "1.5.0",
      "_model_name": "ProgressStyleModel",
      "_view_count": null,
      "_view_module": "@jupyter-widgets/base",
      "_view_module_version": "1.2.0",
      "_view_name": "StyleView",
      "bar_color": null,
      "description_width": "initial"
     }
    },
    "da477ac87e944e9ab39d27fab4809aef": {
     "model_module": "@jupyter-widgets/controls",
     "model_name": "DescriptionStyleModel",
     "state": {
      "_model_module": "@jupyter-widgets/controls",
      "_model_module_version": "1.5.0",
      "_model_name": "DescriptionStyleModel",
      "_view_count": null,
      "_view_module": "@jupyter-widgets/base",
      "_view_module_version": "1.2.0",
      "_view_name": "StyleView",
      "description_width": ""
     }
    },
    "df0fec0e01044623a24fb010c9f3b4ad": {
     "model_module": "@jupyter-widgets/controls",
     "model_name": "HBoxModel",
     "state": {
      "_dom_classes": [],
      "_model_module": "@jupyter-widgets/controls",
      "_model_module_version": "1.5.0",
      "_model_name": "HBoxModel",
      "_view_count": null,
      "_view_module": "@jupyter-widgets/controls",
      "_view_module_version": "1.5.0",
      "_view_name": "HBoxView",
      "box_style": "",
      "children": [
       "IPY_MODEL_913f3505afac42cf8ab751ba349bb19a",
       "IPY_MODEL_97720ec826a24e15a59648f4915efeb0"
      ],
      "layout": "IPY_MODEL_6846d8e3b933428399c9e12b0f6fadd9"
     }
    }
   }
  }
 },
 "nbformat": 4,
 "nbformat_minor": 4
}
