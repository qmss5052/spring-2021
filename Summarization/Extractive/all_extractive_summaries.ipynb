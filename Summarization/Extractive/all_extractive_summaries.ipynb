{
 "cells": [
  {
   "cell_type": "markdown",
   "metadata": {
    "id": "1bg1nykfzNaH"
   },
   "source": [
    "# Libraries"
   ]
  },
  {
   "cell_type": "code",
   "execution_count": 1,
   "metadata": {
    "colab": {
     "base_uri": "https://localhost:8080/"
    },
    "id": "Okkj_L9rJYrN",
    "outputId": "1cb108ba-9cc4-462d-92a5-f01688b0e4af"
   },
   "outputs": [
    {
     "name": "stderr",
     "output_type": "stream",
     "text": [
      "[nltk_data] Downloading package punkt to /Users/kagenlim/nltk_data...\n",
      "[nltk_data]   Package punkt is already up-to-date!\n",
      "[nltk_data] Downloading package stopwords to\n",
      "[nltk_data]     /Users/kagenlim/nltk_data...\n",
      "[nltk_data]   Package stopwords is already up-to-date!\n"
     ]
    }
   ],
   "source": [
    "import os\n",
    "import re\n",
    "import string\n",
    "import pandas as pd\n",
    "import numpy as np\n",
    "import networkx as nx\n",
    "import matplotlib.pyplot as plt\n",
    "from nltk.corpus import stopwords\n",
    "from nltk.tokenize import sent_tokenize\n",
    "from nltk.stem.wordnet import WordNetLemmatizer\n",
    "from sklearn.metrics.pairwise import cosine_similarity\n",
    "\n",
    "import seaborn as sns\n",
    "import nltk \n",
    "nltk.download('punkt')\n",
    "nltk.download('stopwords')\n",
    "import string\n",
    "\n",
    "from nltk.corpus import stopwords\n",
    "\n",
    "from tqdm.notebook import tqdm"
   ]
  },
  {
   "cell_type": "markdown",
   "metadata": {
    "id": "P458JnP_zTN7"
   },
   "source": [
    "# Overview"
   ]
  },
  {
   "cell_type": "markdown",
   "metadata": {
    "id": "9EdwVyGwzWc1"
   },
   "source": [
    "Types: \n",
    "- Abstractive: Generative Models; generally involves deep learning models. BERT Models can contribute to this. \n",
    "- Extractive: Extracting the 'most important sentences' from a document. \n",
    "\n",
    "We tried an Extractive Model, using Sentence Embeddings, based on pre-Trained GloVe vectors. \n",
    "\n",
    "Source: https://appliedmachinelearning.blog/2019/12/31/extractive-text-summarization-using-glove-vectors/ \n",
    "\n",
    "Paper: https://nlp.stanford.edu/pubs/glove.pdf "
   ]
  },
  {
   "cell_type": "markdown",
   "metadata": {
    "id": "phCp9DenTdMt"
   },
   "source": [
    "# Testing Extractive Model: GloVe Embeddings"
   ]
  },
  {
   "cell_type": "markdown",
   "metadata": {
    "id": "SkHXuN2WaTvc"
   },
   "source": [
    "## Word Embeddings"
   ]
  },
  {
   "cell_type": "code",
   "execution_count": 2,
   "metadata": {
    "colab": {
     "base_uri": "https://localhost:8080/"
    },
    "id": "AQjQ5uMg5Vig",
    "outputId": "1775f3da-ace2-4397-fdc3-bbae1c7aa925"
   },
   "outputs": [
    {
     "name": "stderr",
     "output_type": "stream",
     "text": [
      "[nltk_data] Downloading package punkt to /Users/kagenlim/nltk_data...\n",
      "[nltk_data]   Package punkt is already up-to-date!\n",
      "[nltk_data] Downloading package stopwords to\n",
      "[nltk_data]     /Users/kagenlim/nltk_data...\n",
      "[nltk_data]   Package stopwords is already up-to-date!\n"
     ]
    }
   ],
   "source": [
    "import os\n",
    "import re\n",
    "import string\n",
    "import pandas as pd\n",
    "import numpy as np\n",
    "import networkx as nx\n",
    "import matplotlib.pyplot as plt\n",
    "from nltk.corpus import stopwords\n",
    "from nltk.tokenize import sent_tokenize\n",
    "from nltk.stem.wordnet import WordNetLemmatizer\n",
    "from sklearn.metrics.pairwise import cosine_similarity\n",
    "\n",
    "import seaborn as sns\n",
    "import gc\n",
    "import nltk \n",
    "nltk.download('punkt')\n",
    "nltk.download('stopwords')\n",
    "import sklearn \n",
    "import collections\n",
    "import sys\n",
    "import itertools\n",
    "import string\n",
    "\n",
    "from nltk.tokenize import word_tokenize\n",
    "from nltk.corpus import stopwords, wordnet\n",
    "from nltk.stem import WordNetLemmatizer\n",
    "from tqdm.notebook import tqdm"
   ]
  },
  {
   "cell_type": "code",
   "execution_count": 3,
   "metadata": {
    "id": "O4IxFeqKLh3a"
   },
   "outputs": [],
   "source": [
    "def loadGloveModel(gloveFile):\n",
    "    word_embeddings = {}\n",
    "    f = open(gloveFile, encoding='utf-8')\n",
    "    for line in f:\n",
    "        values = line.split()\n",
    "        word = values[0]\n",
    "        coefs = np.asarray(values[1:], dtype='float32')\n",
    "        word_embeddings[word] = coefs\n",
    "    f.close()\n",
    "    return word_embeddings\n",
    "\n",
    "gloveFile = '/Users/kagenlim/Documents/data_files/glove.42B.300d.txt'\n",
    "dim = 300"
   ]
  },
  {
   "cell_type": "code",
   "execution_count": 4,
   "metadata": {
    "colab": {
     "base_uri": "https://localhost:8080/"
    },
    "id": "bADfcItaJa0W",
    "outputId": "db34c14d-3efc-4aed-bfcd-871f5fc2d9a2"
   },
   "outputs": [
    {
     "name": "stdout",
     "output_type": "stream",
     "text": [
      "Vocab Size =  1917494\n"
     ]
    }
   ],
   "source": [
    "word_embeddings = loadGloveModel(gloveFile)\n",
    "print(\"Vocab Size = \",len(word_embeddings))"
   ]
  },
  {
   "cell_type": "markdown",
   "metadata": {
    "id": "kspf4NRgaX3Y"
   },
   "source": [
    "## Loading Data in"
   ]
  },
  {
   "cell_type": "code",
   "execution_count": 5,
   "metadata": {
    "id": "ofw8tqJnMdrS"
   },
   "outputs": [],
   "source": [
    "df_narr = pd.read_csv(\"/Users/kagenlim/Documents/data_files/narrs_cleaned_sent_tokenized.csv\")"
   ]
  },
  {
   "cell_type": "markdown",
   "metadata": {
    "id": "0lYQQj96adLS"
   },
   "source": [
    "## Test"
   ]
  },
  {
   "cell_type": "code",
   "execution_count": 8,
   "metadata": {
    "colab": {
     "base_uri": "https://localhost:8080/",
     "height": 105
    },
    "id": "WF2N72HG5z1j",
    "outputId": "78f565b3-c2dc-401a-c14f-0491ff1f4085"
   },
   "outputs": [
    {
     "data": {
      "application/vnd.google.colaboratory.intrinsic+json": {
       "type": "string"
      },
      "text/plain": [
       "\"['made payment citi credit card use citi prepaid debit card issu us furnaceair condit install', 'payment made phone repres citi simplic given conform number complet call', 'never say payment post account call citi back said record payment made', 'spoke sever depart get answer never took place', 'file disput citi also call citi rebat card compani immedi confirm payment made receiv citi credit card date', 'email us proof transact sent citi go forward dispute', 'receiv email show day later card balanc', 'payment remain balanc card thought disput resolved', 'yesterday receiv email state disput deni', 'put back onto balanc owe citi', 'call yesterday reopen disput refax proof along letter explan disput disput fax number citi also mail copi presidenti offic south dakota', 'speak furnac instal citi help even numer attempt resolv matter contact help case', 'sure els payment made receiv rebat card citi', 'balanc money received', 'pleas help us']\""
      ]
     },
     "execution_count": 8,
     "metadata": {
      "tags": []
     },
     "output_type": "execute_result"
    }
   ],
   "source": [
    "df_narr['narrs_cleaned_sent_tokenized'][657718]"
   ]
  },
  {
   "cell_type": "code",
   "execution_count": 9,
   "metadata": {
    "colab": {
     "base_uri": "https://localhost:8080/",
     "height": 122
    },
    "id": "aRSWz3yNM078",
    "outputId": "2a8f5cfb-9156-4481-c7c2-b20f7329cc88"
   },
   "outputs": [
    {
     "data": {
      "application/vnd.google.colaboratory.intrinsic+json": {
       "type": "string"
      },
      "text/plain": [
       "\"['I made a payment to CITI XXXX Credit Card on XXXX XXXX, 2016 using a CITI prepaid Debit Card issued to us from a furnace/air conditioning install.', 'The payment was made over the phone with a representative from CITI Simplicity and I was given a conformation number to complete the call.', 'I never say the payment post to my account so I called CITI back and they said there was no record of a payment being made on the XXXX of XXXX.', 'I then spoke to several departments only to get the same answer that this never took place.', 'I then filed a dispute with CITI XXXX XXXX and also called the CITI rebate card company and they immediately confirmed that the payment had been made and received on XXXX XXXX by CITI Credit Card on that date.', 'We then had them email us proof of this transaction and sent it to CITI XXXX to go forward with the dispute.', 'I received an email showing a few days later that my card balance was at XXXX {$.00} as this payment was for the remaining balance on the card and thought that the dispute had been resolved.', 'Then yesterday on XXXX XXXX I received the email stating the dispute had been denied and the {$370.00} was put back onto my balance owed on the CITI XXXX XXXX.', 'We Then called yesterday the XXXX of XXXX to have them re-open the dispute and I re-faxed the same proof along with a letter of explanation about the dispute to the Dispute Fax number for CITI XXXX and also mailed a copy to the Presidential office in South Dakota.', 'Then after speaking with our furnace installer because CITI XXXX was not helping even after numerous attempts to resolve the matter I am contacting you to help in this case.', 'I am not sure what else to do as this payment was made, it was received and our Rebate Card with CITI is at a {$0.00} balance so the money was received.', 'Please help us.']\""
      ]
     },
     "execution_count": 9,
     "metadata": {
      "tags": []
     },
     "output_type": "execute_result"
    }
   ],
   "source": [
    "df_narr['Consumer complaint narrative'][657718]"
   ]
  },
  {
   "cell_type": "code",
   "execution_count": null,
   "metadata": {
    "id": "Y-PHZVUOQPJ4"
   },
   "outputs": [],
   "source": [
    "test = df_narr['Consumer complaint narrative'][657718].strip('][').split(', ') \n"
   ]
  },
  {
   "cell_type": "code",
   "execution_count": null,
   "metadata": {
    "colab": {
     "base_uri": "https://localhost:8080/"
    },
    "id": "wjv9GrunPVzC",
    "outputId": "82e7d18e-6eab-40d0-eb63-c0e8213de091"
   },
   "outputs": [
    {
     "data": {
      "text/plain": [
       "[\"'I made a payment to CITI XXXX Credit Card on XXXX XXXX\",\n",
       " \"2016 using a CITI prepaid Debit Card issued to us from a furnace/air conditioning install.'\",\n",
       " \"'The payment was made over the phone with a representative from CITI Simplicity and I was given a conformation number to complete the call.'\",\n",
       " \"'I never say the payment post to my account so I called CITI back and they said there was no record of a payment being made on the XXXX of XXXX.'\",\n",
       " \"'I then spoke to several departments only to get the same answer that this never took place.'\",\n",
       " \"'I then filed a dispute with CITI XXXX XXXX and also called the CITI rebate card company and they immediately confirmed that the payment had been made and received on XXXX XXXX by CITI Credit Card on that date.'\",\n",
       " \"'We then had them email us proof of this transaction and sent it to CITI XXXX to go forward with the dispute.'\",\n",
       " \"'I received an email showing a few days later that my card balance was at XXXX {$.00} as this payment was for the remaining balance on the card and thought that the dispute had been resolved.'\",\n",
       " \"'Then yesterday on XXXX XXXX I received the email stating the dispute had been denied and the {$370.00} was put back onto my balance owed on the CITI XXXX XXXX.'\",\n",
       " \"'We Then called yesterday the XXXX of XXXX to have them re-open the dispute and I re-faxed the same proof along with a letter of explanation about the dispute to the Dispute Fax number for CITI XXXX and also mailed a copy to the Presidential office in South Dakota.'\",\n",
       " \"'Then after speaking with our furnace installer because CITI XXXX was not helping even after numerous attempts to resolve the matter I am contacting you to help in this case.'\",\n",
       " \"'I am not sure what else to do as this payment was made\",\n",
       " \"it was received and our Rebate Card with CITI is at a {$0.00} balance so the money was received.'\",\n",
       " \"'Please help us.'\"]"
      ]
     },
     "execution_count": 55,
     "metadata": {
      "tags": []
     },
     "output_type": "execute_result"
    }
   ],
   "source": [
    "test"
   ]
  },
  {
   "cell_type": "code",
   "execution_count": null,
   "metadata": {
    "id": "jOUnHnuNM7Ly"
   },
   "outputs": [],
   "source": [
    "for sentence in range(len(test)):\n",
    "      cleaned_sentences = [clean(sentence) for sentence in test]"
   ]
  },
  {
   "cell_type": "code",
   "execution_count": null,
   "metadata": {
    "colab": {
     "base_uri": "https://localhost:8080/"
    },
    "id": "8SpaCHxMRcPL",
    "outputId": "7ac0b17e-4dc5-47e8-dbe4-855d6626f5fb"
   },
   "outputs": [
    {
     "data": {
      "text/plain": [
       "['i made payment citi  credit card  ',\n",
       " 'using citi prepaid debit card issued us furnaceair conditioning install',\n",
       " 'the payment made phone representative citi simplicity given conformation number complete call',\n",
       " 'i never say payment post account called citi back said record payment made  ',\n",
       " 'i spoke several departments get answer never took place',\n",
       " 'i filed dispute citi   also called citi rebate card company immediately confirmed payment made received   citi credit card date',\n",
       " 'we email us proof transaction sent citi  go forward dispute',\n",
       " 'i received email showing days later card balance    payment remaining balance card thought dispute resolved',\n",
       " 'then yesterday   received email stating dispute denied    put back onto balance owed citi  ',\n",
       " 'we called yesterday   reopen dispute refaxed proof along letter explanation dispute dispute fax number citi  also mailed copy presidential office south dakota',\n",
       " 'then speaking furnace installer citi  helping even numerous attempts resolve matter contacting help case',\n",
       " 'i sure else payment made',\n",
       " 'received rebate card citi    balance money received',\n",
       " 'please help us']"
      ]
     },
     "execution_count": 57,
     "metadata": {
      "tags": []
     },
     "output_type": "execute_result"
    }
   ],
   "source": [
    "cleaned_sentences"
   ]
  },
  {
   "cell_type": "code",
   "execution_count": null,
   "metadata": {
    "id": "UYCpGHNgRnyU"
   },
   "outputs": [],
   "source": [
    "sentence_vectors = []\n",
    "for i in cleaned_sentences:\n",
    "    if len(i) != 0:\n",
    "        v = sum([word_embeddings.get(w, np.zeros((dim,))) for w in i.split()])/(len(i.split())+0.001)\n",
    "    else:\n",
    "        v = np.zeros((dim,))\n",
    "    sentence_vectors.append(v)"
   ]
  },
  {
   "cell_type": "code",
   "execution_count": null,
   "metadata": {
    "colab": {
     "base_uri": "https://localhost:8080/"
    },
    "id": "mWjGhb4oSAz2",
    "outputId": "5017364b-ecb4-420b-a5f5-2268d4f130d1"
   },
   "outputs": [
    {
     "name": "stdout",
     "output_type": "stream",
     "text": [
      "[[0.    0.887 0.853 0.907 0.777 0.957 0.852 0.903 0.853 0.817 0.779 0.868\n",
      "  0.904 0.701]\n",
      " [0.887 0.    0.827 0.804 0.708 0.885 0.811 0.836 0.792 0.788 0.78  0.752\n",
      "  0.86  0.708]\n",
      " [0.853 0.827 0.    0.896 0.839 0.885 0.883 0.893 0.865 0.883 0.854 0.854\n",
      "  0.821 0.789]\n",
      " [0.907 0.804 0.896 0.    0.904 0.927 0.918 0.923 0.931 0.892 0.863 0.943\n",
      "  0.829 0.783]\n",
      " [0.777 0.708 0.839 0.904 0.    0.815 0.862 0.865 0.881 0.868 0.889 0.908\n",
      "  0.718 0.792]\n",
      " [0.957 0.885 0.885 0.927 0.815 0.    0.894 0.926 0.907 0.89  0.826 0.86\n",
      "  0.918 0.721]\n",
      " [0.852 0.811 0.883 0.918 0.862 0.894 0.    0.903 0.921 0.912 0.874 0.878\n",
      "  0.801 0.849]\n",
      " [0.903 0.836 0.893 0.923 0.865 0.926 0.903 0.    0.931 0.898 0.855 0.9\n",
      "  0.879 0.758]\n",
      " [0.853 0.792 0.865 0.931 0.881 0.907 0.921 0.931 0.    0.912 0.867 0.879\n",
      "  0.846 0.765]\n",
      " [0.817 0.788 0.883 0.892 0.868 0.89  0.912 0.898 0.912 0.    0.866 0.841\n",
      "  0.776 0.77 ]\n",
      " [0.779 0.78  0.854 0.863 0.889 0.826 0.874 0.855 0.867 0.866 0.    0.857\n",
      "  0.728 0.837]\n",
      " [0.868 0.752 0.854 0.943 0.908 0.86  0.878 0.9   0.879 0.841 0.857 0.\n",
      "  0.767 0.789]\n",
      " [0.904 0.86  0.821 0.829 0.718 0.918 0.801 0.879 0.846 0.776 0.728 0.767\n",
      "  0.    0.65 ]\n",
      " [0.701 0.708 0.789 0.783 0.792 0.721 0.849 0.758 0.765 0.77  0.837 0.789\n",
      "  0.65  0.   ]]\n"
     ]
    }
   ],
   "source": [
    "sim_mat = np.zeros([len(test), len(test)])\n",
    "for i in range(len(cleaned_sentences)):\n",
    "    for j in range(len(cleaned_sentences)):\n",
    "        if i != j:\n",
    "            sim_mat[i][j] = cosine_similarity(sentence_vectors[i].reshape(1,dim),sentence_vectors[j].reshape(1,dim))[0,0]\n",
    "sim_mat = np.round(sim_mat,3)\n",
    "print(sim_mat)"
   ]
  },
  {
   "cell_type": "code",
   "execution_count": null,
   "metadata": {
    "colab": {
     "base_uri": "https://localhost:8080/"
    },
    "id": "ekYk5tvwSZm9",
    "outputId": "d4ac8ff9-c4e1-47b4-b046-557831cb9134"
   },
   "outputs": [
    {
     "name": "stdout",
     "output_type": "stream",
     "text": [
      "{0: 0.07172409632177608, 1: 0.06827189302728183, 2: 0.07219690377346338, 3: 0.07429960383148114, 4: 0.07042954981629197, 5: 0.07369301940708346, 6: 0.07340256788163618, 7: 0.07402184142871525, 8: 0.07335074279805234, 9: 0.07202935096168626, 10: 0.07071139055047017, 11: 0.07193535977600128, 12: 0.06859241393839, 13: 0.06534126648767077}\n"
     ]
    }
   ],
   "source": [
    "nx_graph = nx.from_numpy_array(sim_mat)\n",
    "scores = nx.pagerank(nx_graph)\n",
    "print(scores)"
   ]
  },
  {
   "cell_type": "code",
   "execution_count": null,
   "metadata": {
    "colab": {
     "base_uri": "https://localhost:8080/"
    },
    "id": "Hz7kFKHZTAc_",
    "outputId": "3af640af-9c99-4938-9490-64e352901c48"
   },
   "outputs": [
    {
     "data": {
      "text/plain": [
       "[\"'I made a payment to CITI XXXX Credit Card on XXXX XXXX\",\n",
       " \"2016 using a CITI prepaid Debit Card issued to us from a furnace/air conditioning install.'\",\n",
       " \"'The payment was made over the phone with a representative from CITI Simplicity and I was given a conformation number to complete the call.'\",\n",
       " \"'I never say the payment post to my account so I called CITI back and they said there was no record of a payment being made on the XXXX of XXXX.'\",\n",
       " \"'I then spoke to several departments only to get the same answer that this never took place.'\",\n",
       " \"'I then filed a dispute with CITI XXXX XXXX and also called the CITI rebate card company and they immediately confirmed that the payment had been made and received on XXXX XXXX by CITI Credit Card on that date.'\",\n",
       " \"'We then had them email us proof of this transaction and sent it to CITI XXXX to go forward with the dispute.'\",\n",
       " \"'I received an email showing a few days later that my card balance was at XXXX {$.00} as this payment was for the remaining balance on the card and thought that the dispute had been resolved.'\",\n",
       " \"'Then yesterday on XXXX XXXX I received the email stating the dispute had been denied and the {$370.00} was put back onto my balance owed on the CITI XXXX XXXX.'\",\n",
       " \"'We Then called yesterday the XXXX of XXXX to have them re-open the dispute and I re-faxed the same proof along with a letter of explanation about the dispute to the Dispute Fax number for CITI XXXX and also mailed a copy to the Presidential office in South Dakota.'\",\n",
       " \"'Then after speaking with our furnace installer because CITI XXXX was not helping even after numerous attempts to resolve the matter I am contacting you to help in this case.'\",\n",
       " \"'I am not sure what else to do as this payment was made\",\n",
       " \"it was received and our Rebate Card with CITI is at a {$0.00} balance so the money was received.'\",\n",
       " \"'Please help us.'\"]"
      ]
     },
     "execution_count": 61,
     "metadata": {
      "tags": []
     },
     "output_type": "execute_result"
    }
   ],
   "source": [
    "#Original\n",
    "\n",
    "test"
   ]
  },
  {
   "cell_type": "code",
   "execution_count": null,
   "metadata": {
    "colab": {
     "base_uri": "https://localhost:8080/"
    },
    "id": "cCcViK03SlKY",
    "outputId": "9b121f30-79d7-469e-cf12-22e4f0a0c70e"
   },
   "outputs": [
    {
     "name": "stdout",
     "output_type": "stream",
     "text": [
      "'The payment was made over the phone with a representative from CITI Simplicity and I was given a conformation number to complete the call.'\n",
      "'I never say the payment post to my account so I called CITI back and they said there was no record of a payment being made on the XXXX of XXXX.'\n",
      "'I then filed a dispute with CITI XXXX XXXX and also called the CITI rebate card company and they immediately confirmed that the payment had been made and received on XXXX XXXX by CITI Credit Card on that date.'\n",
      "'We then had them email us proof of this transaction and sent it to CITI XXXX to go forward with the dispute.'\n",
      "'I received an email showing a few days later that my card balance was at XXXX {$.00} as this payment was for the remaining balance on the card and thought that the dispute had been resolved.'\n",
      "'Then yesterday on XXXX XXXX I received the email stating the dispute had been denied and the {$370.00} was put back onto my balance owed on the CITI XXXX XXXX.'\n",
      "'We Then called yesterday the XXXX of XXXX to have them re-open the dispute and I re-faxed the same proof along with a letter of explanation about the dispute to the Dispute Fax number for CITI XXXX and also mailed a copy to the Presidential office in South Dakota.'\n"
     ]
    }
   ],
   "source": [
    "#Summary -- these are the original sentences\n",
    "\n",
    "ranked_sentences = sorted(((scores[i],i) for i,s in enumerate(test)), reverse=True)\n",
    "arranged_sentences = sorted(ranked_sentences[0:int(len(test)*0.5)], key=lambda x:x[1])\n",
    "print(\"\\n\".join([test[x[1]] for x in arranged_sentences]))"
   ]
  },
  {
   "cell_type": "code",
   "execution_count": null,
   "metadata": {
    "id": "7qdLzJHun82m"
   },
   "outputs": [],
   "source": [
    "def getting_extract_summaries(complaint):\n",
    "  for sentence in range(len(complaint)):\n",
    "      cleaned_sentences = [clean(sentence) for sentence in complaint] \n",
    "  sentence_vectors = []\n",
    "  for i in cleaned_sentences:\n",
    "    if len(i) != 0:\n",
    "        v = sum([word_embeddings.get(w, np.zeros((dim,))) for w in i.split()])/(len(i.split())+0.001)\n",
    "    else:\n",
    "        v = np.zeros((dim,))\n",
    "    sentence_vectors.append(v)\n",
    "  sim_mat = np.zeros([len(complaint), len(complaint)])\n",
    "  for i in range(len(cleaned_sentences)):\n",
    "    for j in range(len(cleaned_sentences)):\n",
    "        if i != j:\n",
    "            sim_mat[i][j] = cosine_similarity(sentence_vectors[i].reshape(1,dim),sentence_vectors[j].reshape(1,dim))[0,0]\n",
    "  nx_graph = nx.from_numpy_array(sim_mat)\n",
    "  scores = nx.pagerank(nx_graph)\n",
    "  ranked_sentences = sorted(((scores[i],i) for i,s in enumerate(complaint)), reverse=True)\n",
    "  arranged_sentences = sorted(ranked_sentences[0:int(len(complaint)*0.5)], key=lambda x:x[1])\n",
    "  summary = \" \".join([complaint[x[1]] for x in arranged_sentences])\n",
    "\n",
    "  return summary"
   ]
  },
  {
   "cell_type": "code",
   "execution_count": null,
   "metadata": {
    "colab": {
     "base_uri": "https://localhost:8080/",
     "height": 88
    },
    "id": "bxJgLvP-pq5D",
    "outputId": "f6ae9c0d-7c63-45b4-b3b1-13b25c382c34"
   },
   "outputs": [
    {
     "data": {
      "application/vnd.google.colaboratory.intrinsic+json": {
       "type": "string"
      },
      "text/plain": [
       "'[\\'Company responded stating that the prepayment fee structure they imposed on me \" is standard for a 5 year business loan \\\\\\'\\\\\\'.\\', \\'This statement is not true as I have the paperwork from when we took the first note with Associated bank.\\', \\'Initially we were promised a 5 year note on the first note back in XXXX.\\', \\'On that note it says that the pre-payment penalty is equal to 2 % of the outstanding principal amount.\\', \\'As a consumer we do not know their \" practices \\\\\\'\\\\\\'.\\', \\'If I did not have the paper from XXXX I wold have not known that they are misleading me now on their response from XX/XX/XXXX XXXX\\']'"
      ]
     },
     "execution_count": 50,
     "metadata": {
      "tags": []
     },
     "output_type": "execute_result"
    }
   ],
   "source": [
    "#Original\n",
    "\n",
    "original = df_narr['Consumer complaint narrative'][20000]\n",
    "original"
   ]
  },
  {
   "cell_type": "code",
   "execution_count": null,
   "metadata": {
    "colab": {
     "base_uri": "https://localhost:8080/"
    },
    "id": "16lhNqlSu2Kf",
    "outputId": "8ec45a5e-ba06-4cca-f85a-5a579c958609"
   },
   "outputs": [
    {
     "data": {
      "text/plain": [
       "610"
      ]
     },
     "execution_count": 64,
     "metadata": {
      "tags": []
     },
     "output_type": "execute_result"
    }
   ],
   "source": [
    "len(original)"
   ]
  },
  {
   "cell_type": "code",
   "execution_count": null,
   "metadata": {
    "colab": {
     "base_uri": "https://localhost:8080/",
     "height": 53
    },
    "id": "j3yRNwUIp5Pv",
    "outputId": "e1fa75ce-4107-46e4-c34a-b66017df6d97"
   },
   "outputs": [
    {
     "data": {
      "application/vnd.google.colaboratory.intrinsic+json": {
       "type": "string"
      },
      "text/plain": [
       "'\\'Company responded stating that the prepayment fee structure they imposed on me \" is standard for a 5 year business loan \\\\\\'\\\\\\'.\\' \\'This statement is not true as I have the paperwork from when we took the first note with Associated bank.\\' \\'Initially we were promised a 5 year note on the first note back in XXXX.\\''"
      ]
     },
     "execution_count": 52,
     "metadata": {
      "tags": []
     },
     "output_type": "execute_result"
    }
   ],
   "source": [
    "#Summary -- these are the original sentences\n",
    "\n",
    "summary = getting_extract_summaries(df_narr['Consumer complaint narrative'][20000])\n",
    "summary"
   ]
  },
  {
   "cell_type": "code",
   "execution_count": null,
   "metadata": {
    "colab": {
     "base_uri": "https://localhost:8080/",
     "height": 157
    },
    "id": "HOWuflCgzr-P",
    "outputId": "ad9b6142-2454-4153-d208-35e9f1cf0c74"
   },
   "outputs": [
    {
     "data": {
      "application/vnd.google.colaboratory.intrinsic+json": {
       "type": "string"
      },
      "text/plain": [
       "\"['I am current on my payments so far.', 'The problem is I am late on the month of XX/XX/XXXX and the month of XX/XX/XXXX the XX/XX/XXXX payment has already been paid and yes maybe the other payment I have paid them a bit late but I am current.', 'I am experiencing a fraud situation with the bank that I currently make the payments with.', 'There was fraudulent activity going on and as I have disputed the transaction and open a claim complaint with the bank.', 'They said it would take up to 90 days to solve this matter and because it was more than 2000 dollar they need to further investigate.', 'My account was hacked as some hacker took my debit card numbers and hack them and used them in the state of Ohio and California I live in Illinois and have not shopped in those states.', 'I have informed me.cooper about my situation and they have denied to help me by not reporting it to the credit bureau as late payment and also to wave the late fees for XX/XX/XXXX and XX/XX/XXXX but they refused to as I explained the reasons of why I need there help its just the late fees.', 'They have already issue a new late fee this month but I sent them a pdf letter explaining the reasons of what was happening with the bank account and they still refused to not wave the late fees.', 'I am very happy that they have gave me all this much help but I need help now too this late fees were not my fault as I intend to pay of time before the XX/XX/XXXX or XX/XX/XXXX of echa month to avoid the late fee charge.']\""
      ]
     },
     "execution_count": 65,
     "metadata": {
      "tags": []
     },
     "output_type": "execute_result"
    }
   ],
   "source": [
    "#Original\n",
    "\n",
    "original = df_narr['Consumer complaint narrative'][15000]\n",
    "original"
   ]
  },
  {
   "cell_type": "code",
   "execution_count": null,
   "metadata": {
    "colab": {
     "base_uri": "https://localhost:8080/",
     "height": 105
    },
    "id": "2ljXIflgz1Dl",
    "outputId": "17c46d03-0dce-4900-ef50-590fc1943036"
   },
   "outputs": [
    {
     "data": {
      "application/vnd.google.colaboratory.intrinsic+json": {
       "type": "string"
      },
      "text/plain": [
       "\"'The problem is I am late on the month of XX/XX/XXXX and the month of XX/XX/XXXX the XX/XX/XXXX payment has already been paid and yes maybe the other payment I have paid them a bit late but I am current.' 'I have informed me.cooper about my situation and they have denied to help me by not reporting it to the credit bureau as late payment and also to wave the late fees for XX/XX/XXXX and XX/XX/XXXX but they refused to as I explained the reasons of why I need there help its just the late fees.' 'They have already issue a new late fee this month but I sent them a pdf letter explaining the reasons of what was happening with the bank account and they still refused to not wave the late fees.' 'I am very happy that they have gave me all this much help but I need help now too this late fees were not my fault as I intend to pay of time before the XX/XX/XXXX or XX/XX/XXXX of echa month to avoid the late fee charge.'\""
      ]
     },
     "execution_count": 66,
     "metadata": {
      "tags": []
     },
     "output_type": "execute_result"
    }
   ],
   "source": [
    "#Summary -- these are the original sentences\n",
    "\n",
    "summary = getting_extract_summaries(df_narr['Consumer complaint narrative'][15000])\n",
    "summary"
   ]
  },
  {
   "cell_type": "code",
   "execution_count": null,
   "metadata": {
    "colab": {
     "base_uri": "https://localhost:8080/",
     "height": 122
    },
    "id": "S2FQLCeh0Cke",
    "outputId": "990cd9e4-1f71-4f9b-cb2b-47ce2899f448"
   },
   "outputs": [
    {
     "data": {
      "application/vnd.google.colaboratory.intrinsic+json": {
       "type": "string"
      },
      "text/plain": [
       "'[\\'I sent 4 dispute letters to all 3 credit bureaus ( XXXX, XXXX, and TransUnion ).\\', \"In the letter, I asked them to remove or verify 6 charge off \\'s that I do not believe are mine.\", \\'Every time I got a response, they came back as verified.\\', \"How did they verify these charge off \\'s belong to me and with who?\", \"They provided no proof ( original signed contracts ) that these charge off \\'s accounts belong to me.\", \"They would only send me a copy of my credit report with the same charge off \\'s still remaining.\", \\'This is a well-known tactic they use to keep people subprime.\\', \\'They violated my rights under the Fair Credit Reporting Act ( FCRA ) many times and I am fed up.\\', \\'I do understand that they sell my information to the banks.\\', \\'And that the banks make more money off me because I have a low credit score.\\', \\'And that way the bank can charge me a high-interest rate.\\', \\'Thus them making more money and me losing more money.\\', \"The charge off \\'s on my account are inaccurate and have not been verified and needs to be removed as soon as possible.\", \\'I have been violated for months and this has to stop NOW.\\']'"
      ]
     },
     "execution_count": 70,
     "metadata": {
      "tags": []
     },
     "output_type": "execute_result"
    }
   ],
   "source": [
    "#Original\n",
    "\n",
    "original = df_narr['Consumer complaint narrative'][20057]\n",
    "original"
   ]
  },
  {
   "cell_type": "code",
   "execution_count": null,
   "metadata": {
    "colab": {
     "base_uri": "https://localhost:8080/",
     "height": 105
    },
    "id": "4J7Dn4lX0ND5",
    "outputId": "4c2df33a-dd52-4d23-a673-7e112b566330"
   },
   "outputs": [
    {
     "data": {
      "application/vnd.google.colaboratory.intrinsic+json": {
       "type": "string"
      },
      "text/plain": [
       "\"'The problem is I am late on the month of XX/XX/XXXX and the month of XX/XX/XXXX the XX/XX/XXXX payment has already been paid and yes maybe the other payment I have paid them a bit late but I am current.' 'I have informed me.cooper about my situation and they have denied to help me by not reporting it to the credit bureau as late payment and also to wave the late fees for XX/XX/XXXX and XX/XX/XXXX but they refused to as I explained the reasons of why I need there help its just the late fees.' 'They have already issue a new late fee this month but I sent them a pdf letter explaining the reasons of what was happening with the bank account and they still refused to not wave the late fees.' 'I am very happy that they have gave me all this much help but I need help now too this late fees were not my fault as I intend to pay of time before the XX/XX/XXXX or XX/XX/XXXX of echa month to avoid the late fee charge.'\""
      ]
     },
     "execution_count": 71,
     "metadata": {
      "tags": []
     },
     "output_type": "execute_result"
    }
   ],
   "source": [
    "#Summary -- these are the original sentences\n",
    "\n",
    "summary = getting_extract_summaries(df_narr['Consumer complaint narrative'][15000])\n",
    "summary"
   ]
  },
  {
   "cell_type": "code",
   "execution_count": null,
   "metadata": {
    "colab": {
     "base_uri": "https://localhost:8080/",
     "height": 70
    },
    "id": "JLUNCFii0O71",
    "outputId": "7af2c850-e943-4be4-98a7-ab90ed8288e3"
   },
   "outputs": [
    {
     "data": {
      "application/vnd.google.colaboratory.intrinsic+json": {
       "type": "string"
      },
      "text/plain": [
       "'[\\'Over the past week, I have received 4 phone calls from Transworld Systems Incorporated ( TSI ).\\', \"When answering the phone, they have asked for my wife \\'s name but do not identify themselves until asked, the reason that they are calling, or leave a voicemail.\", \\'Upon looking up their information on XXXX, they are a debt collection agency based out of XXXX XXXX, California.\\', \\'In addition, we have no debts that are owed.\\', \\'They have used phone numbers ( XXXX ) XXXX & ( XXXX ) XXXX.\\']'"
      ]
     },
     "execution_count": 77,
     "metadata": {
      "tags": []
     },
     "output_type": "execute_result"
    }
   ],
   "source": [
    "#Original\n",
    "\n",
    "original = df_narr['Consumer complaint narrative'][30015]\n",
    "original"
   ]
  },
  {
   "cell_type": "code",
   "execution_count": null,
   "metadata": {
    "colab": {
     "base_uri": "https://localhost:8080/",
     "height": 53
    },
    "id": "DQAK7y-h0Tfs",
    "outputId": "4f986a40-db65-431e-84b4-1d6e62e46ac4"
   },
   "outputs": [
    {
     "data": {
      "application/vnd.google.colaboratory.intrinsic+json": {
       "type": "string"
      },
      "text/plain": [
       "'I have received 4 phone calls from Transworld Systems Incorporated ( TSI ).\\' \"When answering the phone they have asked for my wife \\'s name but do not identify themselves until asked the reason that they are calling \\'Upon looking up their information on XXXX \\'They have used phone numbers ( XXXX ) XXXX & ( XXXX ) XXXX.\\''"
      ]
     },
     "execution_count": 78,
     "metadata": {
      "tags": []
     },
     "output_type": "execute_result"
    }
   ],
   "source": [
    "#Summary -- these are the original sentences\n",
    "\n",
    "summary = getting_extract_summaries(df_narr['Consumer complaint narrative'][30015])\n",
    "summary"
   ]
  },
  {
   "cell_type": "markdown",
   "metadata": {
    "id": "HiRFwD_O6Ynq"
   },
   "source": [
    "# Getting all"
   ]
  },
  {
   "cell_type": "code",
   "execution_count": 6,
   "metadata": {
    "id": "cLWbLYgVa5cU"
   },
   "outputs": [],
   "source": [
    "df = pd.DataFrame()"
   ]
  },
  {
   "cell_type": "code",
   "execution_count": 7,
   "metadata": {
    "id": "eUtcb05Ea-1j"
   },
   "outputs": [],
   "source": [
    "df['original'] = df_narr['Consumer complaint narrative']\n",
    "\n",
    "df['cleaned'] = df_narr['narrs_cleaned_sent_tokenized']"
   ]
  },
  {
   "cell_type": "code",
   "execution_count": 8,
   "metadata": {
    "colab": {
     "base_uri": "https://localhost:8080/",
     "height": 206
    },
    "id": "LG3cSrhebLJN",
    "outputId": "bb68db59-039b-47fb-95e4-577b8c492b7b"
   },
   "outputs": [
    {
     "data": {
      "text/html": [
       "<div>\n",
       "<style scoped>\n",
       "    .dataframe tbody tr th:only-of-type {\n",
       "        vertical-align: middle;\n",
       "    }\n",
       "\n",
       "    .dataframe tbody tr th {\n",
       "        vertical-align: top;\n",
       "    }\n",
       "\n",
       "    .dataframe thead th {\n",
       "        text-align: right;\n",
       "    }\n",
       "</style>\n",
       "<table border=\"1\" class=\"dataframe\">\n",
       "  <thead>\n",
       "    <tr style=\"text-align: right;\">\n",
       "      <th></th>\n",
       "      <th>original</th>\n",
       "      <th>cleaned</th>\n",
       "    </tr>\n",
       "  </thead>\n",
       "  <tbody>\n",
       "    <tr>\n",
       "      <th>0</th>\n",
       "      <td>['transworld systems inc. is trying to collect...</td>\n",
       "      <td>['transworld system inc tri collect debt mine ...</td>\n",
       "    </tr>\n",
       "    <tr>\n",
       "      <th>1</th>\n",
       "      <td>['Over the past 2 weeks, I have been receiving...</td>\n",
       "      <td>['past weeks receiv excess amount telephon cal...</td>\n",
       "    </tr>\n",
       "    <tr>\n",
       "      <th>2</th>\n",
       "      <td>['Pioneer has committed several federal violat...</td>\n",
       "      <td>['pioneer commit sever feder violat me privat ...</td>\n",
       "    </tr>\n",
       "    <tr>\n",
       "      <th>3</th>\n",
       "      <td>['Previously, on XX/XX/XXXX, XX/XX/XXXX, and X...</td>\n",
       "      <td>['previously request experian send copi verifi...</td>\n",
       "    </tr>\n",
       "    <tr>\n",
       "      <th>4</th>\n",
       "      <td>['Hello This complaint is against the three cr...</td>\n",
       "      <td>['hello complaint three credit report companie...</td>\n",
       "    </tr>\n",
       "  </tbody>\n",
       "</table>\n",
       "</div>"
      ],
      "text/plain": [
       "                                            original  \\\n",
       "0  ['transworld systems inc. is trying to collect...   \n",
       "1  ['Over the past 2 weeks, I have been receiving...   \n",
       "2  ['Pioneer has committed several federal violat...   \n",
       "3  ['Previously, on XX/XX/XXXX, XX/XX/XXXX, and X...   \n",
       "4  ['Hello This complaint is against the three cr...   \n",
       "\n",
       "                                             cleaned  \n",
       "0  ['transworld system inc tri collect debt mine ...  \n",
       "1  ['past weeks receiv excess amount telephon cal...  \n",
       "2  ['pioneer commit sever feder violat me privat ...  \n",
       "3  ['previously request experian send copi verifi...  \n",
       "4  ['hello complaint three credit report companie...  "
      ]
     },
     "execution_count": 8,
     "metadata": {},
     "output_type": "execute_result"
    }
   ],
   "source": [
    "df.head()"
   ]
  },
  {
   "cell_type": "code",
   "execution_count": 9,
   "metadata": {
    "colab": {
     "base_uri": "https://localhost:8080/",
     "height": 36
    },
    "id": "ImoTbZ-YcUaZ",
    "outputId": "921ff8ed-be2c-4d3a-ea21-b8d5344bc473"
   },
   "outputs": [
    {
     "data": {
      "text/plain": [
       "\"['transworld systems inc. is trying to collect a debt that is not mine, not owed and is inaccurate.']\""
      ]
     },
     "execution_count": 9,
     "metadata": {},
     "output_type": "execute_result"
    }
   ],
   "source": [
    "df.original[0]"
   ]
  },
  {
   "cell_type": "code",
   "execution_count": 10,
   "metadata": {
    "colab": {
     "base_uri": "https://localhost:8080/",
     "height": 36
    },
    "id": "6pjq9Y1TcWgG",
    "outputId": "cb73e941-4e2e-46d1-a8f1-a8b8dffe7210"
   },
   "outputs": [
    {
     "data": {
      "text/plain": [
       "\"['transworld system inc tri collect debt mine owe inaccurate']\""
      ]
     },
     "execution_count": 10,
     "metadata": {},
     "output_type": "execute_result"
    }
   ],
   "source": [
    "df.cleaned[0]"
   ]
  },
  {
   "cell_type": "code",
   "execution_count": 11,
   "metadata": {
    "id": "TaopYQfdYtMP"
   },
   "outputs": [],
   "source": [
    "def getting_extract_summaries(complaint_index=1):\n",
    "  import ast\n",
    "  cleaned_sentences = ast.literal_eval(df.cleaned[complaint_index])\n",
    "  cleaned_original = ast.literal_eval(df.original[complaint_index])\n",
    "  sentence_vectors = []\n",
    "  for i in cleaned_sentences:\n",
    "    if len(i) != 0:\n",
    "        v = sum([word_embeddings.get(w, np.zeros((dim,))) for w in i.split()])/(len(i.split())+0.001)\n",
    "    else:\n",
    "        v = np.zeros((dim,))\n",
    "    sentence_vectors.append(v)\n",
    "  sim_mat = np.zeros([len(cleaned_original), len(cleaned_original)])\n",
    "  for i in range(len(cleaned_sentences)):\n",
    "    for j in range(len(cleaned_sentences)):\n",
    "        if i != j:\n",
    "          try:\n",
    "            sim_mat[i][j] = cosine_similarity(sentence_vectors[i].reshape(1,dim),sentence_vectors[j].reshape(1,dim))[0,0]\n",
    "          except:\n",
    "            pass\n",
    "  nx_graph = nx.from_numpy_array(sim_mat)\n",
    "  scores = nx.pagerank_numpy(nx_graph)\n",
    "  try:\n",
    "    ranked_sentences = sorted(((scores[i],i) for i,s in enumerate(cleaned_original)), reverse=True)\n",
    "    arranged_sentences = sorted(ranked_sentences[0:int(len(cleaned_original)*0.5)], key=lambda x:x[1])\n",
    "    summary = \"\".join([cleaned_original[x[1]] for x in arranged_sentences])\n",
    "    return summary\n",
    "  except:\n",
    "    pass"
   ]
  },
  {
   "cell_type": "code",
   "execution_count": 12,
   "metadata": {
    "colab": {
     "base_uri": "https://localhost:8080/",
     "height": 53
    },
    "id": "T65ZwwU9b3yO",
    "outputId": "3f1be74e-3240-4a5b-dfec-1d185c1b5d34"
   },
   "outputs": [
    {
     "data": {
      "text/plain": [
       "'The company does not have the right to harass me at work and I want this to stop.It is extremely distracting to be told 5 times a day that I have a call from this collection agency while at work.'"
      ]
     },
     "execution_count": 12,
     "metadata": {},
     "output_type": "execute_result"
    }
   ],
   "source": [
    "getting_extract_summaries(1)"
   ]
  },
  {
   "cell_type": "code",
   "execution_count": 13,
   "metadata": {
    "colab": {
     "base_uri": "https://localhost:8080/",
     "height": 36
    },
    "id": "OwHf4TRAczTT",
    "outputId": "72e80270-593d-4f48-ed67-557b5f814391"
   },
   "outputs": [
    {
     "data": {
      "text/plain": [
       "\"['would like credit bureau correct balance', 'correct balanc']\""
      ]
     },
     "execution_count": 13,
     "metadata": {},
     "output_type": "execute_result"
    }
   ],
   "source": [
    "test = df_narr['narrs_cleaned_sent_tokenized'][0:15]\n",
    "\n",
    "test[14]"
   ]
  },
  {
   "cell_type": "code",
   "execution_count": 14,
   "metadata": {
    "colab": {
     "base_uri": "https://localhost:8080/",
     "height": 66,
     "referenced_widgets": [
      "fd8918b83f0748b1873eeedaba34b183",
      "1d44815038bf422eaefe939ad8dd2c37",
      "bab64d67db1f4d95b66ef89c9f8ee16f",
      "b02dd640af5a47ceaab349fe69d78767",
      "5041721ea41e4bb1b56637f521060281",
      "c169535a73fc4667ba75e8aa47f2d37a",
      "6127f8b669514b34b97994dfeac3421c",
      "97399030a67a43e0a7b0201be3fdb15b"
     ]
    },
    "id": "vOROXhlBc3mo",
    "outputId": "ffd436b8-2992-402a-924d-4b5177496617"
   },
   "outputs": [
    {
     "data": {
      "application/vnd.jupyter.widget-view+json": {
       "model_id": "04830d949b084aee9979bb1f693d2834",
       "version_major": 2,
       "version_minor": 0
      },
      "text/plain": [
       "HBox(children=(FloatProgress(value=0.0, max=15.0), HTML(value='')))"
      ]
     },
     "metadata": {},
     "output_type": "display_data"
    },
    {
     "name": "stdout",
     "output_type": "stream",
     "text": [
      "\n"
     ]
    }
   ],
   "source": [
    "tested = [getting_extract_summaries(i) for i in tqdm(range(len(test)))]"
   ]
  },
  {
   "cell_type": "code",
   "execution_count": 15,
   "metadata": {
    "colab": {
     "base_uri": "https://localhost:8080/"
    },
    "id": "Ds9GKLjWdbz2",
    "outputId": "6d355479-6498-4558-e55c-e962a941e9ba"
   },
   "outputs": [
    {
     "data": {
      "text/plain": [
       "['',\n",
       " 'The company does not have the right to harass me at work and I want this to stop.It is extremely distracting to be told 5 times a day that I have a call from this collection agency while at work.',\n",
       " 'Violations committed against me include but not limited to : ( 1 ) Violated 15 USC 1692c ( a ) ; Communication without prior consent, expressed permission.( 2 ) Violated 15 USC 1692d ; Harass and oppressive use of intercourse about an alleged debt.( 4 ) Violated 15 USC 1692e ( 9 ) ; Use/distribution of communication with authorization or approval.',\n",
       " 'Previously, on XX/XX/XXXX, XX/XX/XXXX, and XX/XX/XXXX I requested that Experian send me a copy of the verifiable proof they have on file showing that the XXXX account they have listed on my credit report is actually mine.On XX/XX/XXXX and XX/XX/XXXX, instead of sending me a copy of the verifiable proof that I requested, Experian sent me a statement which reads, \" The information you disputed has been verified as accurate. \\'\\'I have again, today, sent my fourth and final written request that they verify the account, and send me verifiable proof that this account is mine, or that they delete the unverified account.',\n",
       " 'I then notified the three credit agencies previously stated with a writtent letter dated XX/XX/2019 requesting them to verifiy certain accounts showing on my report They were a Bankruptcy and a bank account from XXXX XXXX XXXX.I wrote XXXX and XXXX a second letter and mailed them on XX/XX/2019 telling them that they have lied when they said that they verified the two accounts in question using XXXX because I have a freeze on my account and when I called XXXX on XX/XX/2019 they stated that no one has requested or attempted access to my account this year.Only XXXX wrote back a letter dated XX/XX/2019 stating that XXXX verified the accounts and that I should talk to them if I have a complaint.Trans Union never responded to my letter dated XX/XX/2019 to verifiy the two accounts in question since and the 30 plus days to investigate my claim has been expired.When I Checked my Credit report with TransUnion, It states that they too uses XXXX to verify the two accounts in question.I also wrote them a second letter and mailed it on XX/XX/2019 stating that they are in violation of my consumer rights and demand that these two accounts be removed from my report immediately.They are using a third party that gives wrong information and attach it to your account and then tell you to fight them to get it corrected.No I do not have to fight because XXXX, XXXX and Trans union all lied and said that XXXX verified and account which is impossible because my account with them is FROZEN and no one can access it but I. I demand that these items on my account that was not verified be removed from my account because they are in violation of my rights and not to mention, Trans union did not even respond to my investigation request.',\n",
       " '',\n",
       " 'This account is over 7 years old and therefore should not be on my credit report.This incorrect reporting is harming my credit score and is a Fair Credit Reporting Act ( F.C.R.A. )',\n",
       " '',\n",
       " '',\n",
       " 'Experian is reporting XXXX XXXX XXXX XXXX XXXX, MD XXXX that address would removed and put back on.XXXX has reported that an account for XXXX XXXX with last date reported XX/XX/XXXX, Experian and XXXX does not show enough information for the XXXX XXXX account.there is no balance, no high credit limit, the date of last activity for experian is XX/XX/XXXX and XX/XX/XXXX.XXXX XXXX is showing the dates of last active as XX/XX/XXXX on XXXX, how can that be if I filed bankruptcy years ago with this account??Hey he dates of last activity are all mixed up, there is no information about the credit limit or anything.XXXX XXXX is showing that the account with XXXX was last active on XX/XX/XXXX.XXXX is showing last active of XX/XX/XXXX and does not show balance for XXXX XXXX does not show any information on payment status or credit limit.There nothing showing what type of account it is.All this information does not seem like it has been verified because there is so much missing information.Shows that the account was not opened on XX/XX/XXXX and XXXX and XXXX show Date opened on XX/XX/XXXX.XXXX is postponing XXXX as open account type but the account status says closed.The accounts also show that there is no high credit limit but there is a balance due of {$84.00}!Date last active is incorrect as well.XXXX XXXX is showing for XXXX incorrect and missing information.XXXX shows account status as other but Experian shows as closed.Experian also has the account as last reported on XX/XX/XXXX and a XXXX shows XX/XX/XXXX.The account type is left blank, high credit limit is left blank.They are all missing information Reference numbers are wrong for The chapter XXXX.They also are saying I filed at US DISTRICT COURT that is incorrect.Experian shows all inaccurate account reference numbers.Please have them remove all the accounts listed below from each credits report.',\n",
       " 'At the time i was uninsured but was told i could be retroactively covered via colorados healthcare/XXXX.I applied and was accepted to the program within the time frame.It later went to collections and i was served with a summons to XXXX County Court in XXXX, Colorado by the collectors in XX/XX/XXXX.During that period i provided the plaintiff ( the collection agency and their representatives ) with a load letter officially stating i was covered for the costs incurred in XX/XX/XXXX.In XX/XX/XXXX i checked my credit report via XXXX and noticed i had a collections appearing.On XX/XX/XXXX at XXXX MST i submitted a dispute with the credit agency XXXX including the letter saying my medicaid covered it, the official case dismissed paper signed by a judge, and the original summons complaint.Today, 1 year later from the end of the litigation the account still sits on my experian report.I called the agency and then they said \" oh yeah it should be closed \\'\\' todays date is XX/XX/XXXX.I have been hurt severely due to this unjust appearance on my report.Seeing this false report lenders are rightfully skeptical of lending to me, and even if they do it is at astronomically high rates.',\n",
       " 'The closing lawyer attempted to obtain the payoff statement, but they would not provide that statement for 4 business as they claimed they are behind.I was told that it had not yet been generated, but still could be done today.I asked to speak to a supervisor and was told that one was not available and could call me within 24 hours.They also told me that there was no one within the company that could help me with this inquiry.',\n",
       " 'I was sold access to an event digitally, of which I have all the screenshots to detail the transactions, transferred the money and was provided with only a fake of a ticket.',\n",
       " 'ALL THREE CREDIT BUREAUS ARE STILL PUTTING FRAUD ALERTS ON MY CREDIT REPORT WITHOUT MY PERMISSION.THIS IS ILLEGAL, I HAVE NOT REQUESTED THAT ANY FRAUD ALERT BE PUT ON MY CREDIT FILE.I CHALLENGE THEM ON THE FCRA SECTION 609 TO REMOVE NEGATIVE REMARKS, STATEMENTS AND CREDIT INQUIRIES THAT WERE SUPPOSED TO BE SOFT PULLS AND NOT HARD PULLS AND THESE BUREAUS TRY TO SLIDE PAST THE LAW AND PUT THESE BOGUS FRAUD ALERTS ON MY FILES TO JUSTIFY THEIR ILLEGAL ACTIVITIES.',\n",
       " 'My correct balance is XXXX']"
      ]
     },
     "execution_count": 15,
     "metadata": {},
     "output_type": "execute_result"
    }
   ],
   "source": [
    "tested"
   ]
  },
  {
   "cell_type": "code",
   "execution_count": 16,
   "metadata": {
    "colab": {
     "base_uri": "https://localhost:8080/",
     "height": 49,
     "referenced_widgets": [
      "a4395691b4414614a35523e5bb5ca0f9",
      "37b01c3a804a48f6bf87518038eff345",
      "42750136682a40278ef25808c9cdb071",
      "53d6e24464b64cd09c268760ffeb86d5",
      "41c3c4d3300c43cfb8a76faaa8f23d79",
      "bc842278b4dd4acb8efd3db42427e5e7",
      "6bd9f0b5ded1488f9c6d4da5964f81cb",
      "507f6f03918645c8be86218ed6203143"
     ]
    },
    "id": "gM6MkUhmdhuZ",
    "outputId": "1a3ae901-aeff-4e62-c472-bb853e4c8aa1"
   },
   "outputs": [
    {
     "data": {
      "application/vnd.jupyter.widget-view+json": {
       "model_id": "66b9b1c55408447d9b6c6c26c0188f2d",
       "version_major": 2,
       "version_minor": 0
      },
      "text/plain": [
       "HBox(children=(FloatProgress(value=0.0, max=657719.0), HTML(value='')))"
      ]
     },
     "metadata": {},
     "output_type": "display_data"
    },
    {
     "name": "stderr",
     "output_type": "stream",
     "text": [
      "/Users/kagenlim/opt/anaconda3/lib/python3.7/site-packages/networkx/algorithms/link_analysis/pagerank_alg.py:335: RuntimeWarning: divide by zero encountered in true_divide\n",
      "  return dict(zip(G, map(float, largest / norm)))\n",
      "/Users/kagenlim/opt/anaconda3/lib/python3.7/site-packages/networkx/algorithms/link_analysis/pagerank_alg.py:335: RuntimeWarning: divide by zero encountered in true_divide\n",
      "  return dict(zip(G, map(float, largest / norm)))\n"
     ]
    },
    {
     "name": "stdout",
     "output_type": "stream",
     "text": [
      "\n"
     ]
    }
   ],
   "source": [
    "all = [getting_extract_summaries(i) for i in tqdm(range(len(df)))]"
   ]
  },
  {
   "cell_type": "code",
   "execution_count": 17,
   "metadata": {},
   "outputs": [],
   "source": [
    "backup = all.copy()"
   ]
  },
  {
   "cell_type": "code",
   "execution_count": 18,
   "metadata": {},
   "outputs": [],
   "source": [
    "backup2 = all.copy()"
   ]
  },
  {
   "cell_type": "code",
   "execution_count": 20,
   "metadata": {},
   "outputs": [
    {
     "data": {
      "text/plain": [
       "['',\n",
       " 'The company does not have the right to harass me at work and I want this to stop.It is extremely distracting to be told 5 times a day that I have a call from this collection agency while at work.',\n",
       " 'Violations committed against me include but not limited to : ( 1 ) Violated 15 USC 1692c ( a ) ; Communication without prior consent, expressed permission.( 2 ) Violated 15 USC 1692d ; Harass and oppressive use of intercourse about an alleged debt.( 4 ) Violated 15 USC 1692e ( 9 ) ; Use/distribution of communication with authorization or approval.',\n",
       " 'Previously, on XX/XX/XXXX, XX/XX/XXXX, and XX/XX/XXXX I requested that Experian send me a copy of the verifiable proof they have on file showing that the XXXX account they have listed on my credit report is actually mine.On XX/XX/XXXX and XX/XX/XXXX, instead of sending me a copy of the verifiable proof that I requested, Experian sent me a statement which reads, \" The information you disputed has been verified as accurate. \\'\\'I have again, today, sent my fourth and final written request that they verify the account, and send me verifiable proof that this account is mine, or that they delete the unverified account.',\n",
       " 'I then notified the three credit agencies previously stated with a writtent letter dated XX/XX/2019 requesting them to verifiy certain accounts showing on my report They were a Bankruptcy and a bank account from XXXX XXXX XXXX.I wrote XXXX and XXXX a second letter and mailed them on XX/XX/2019 telling them that they have lied when they said that they verified the two accounts in question using XXXX because I have a freeze on my account and when I called XXXX on XX/XX/2019 they stated that no one has requested or attempted access to my account this year.Only XXXX wrote back a letter dated XX/XX/2019 stating that XXXX verified the accounts and that I should talk to them if I have a complaint.Trans Union never responded to my letter dated XX/XX/2019 to verifiy the two accounts in question since and the 30 plus days to investigate my claim has been expired.When I Checked my Credit report with TransUnion, It states that they too uses XXXX to verify the two accounts in question.I also wrote them a second letter and mailed it on XX/XX/2019 stating that they are in violation of my consumer rights and demand that these two accounts be removed from my report immediately.They are using a third party that gives wrong information and attach it to your account and then tell you to fight them to get it corrected.No I do not have to fight because XXXX, XXXX and Trans union all lied and said that XXXX verified and account which is impossible because my account with them is FROZEN and no one can access it but I. I demand that these items on my account that was not verified be removed from my account because they are in violation of my rights and not to mention, Trans union did not even respond to my investigation request.',\n",
       " '',\n",
       " 'This account is over 7 years old and therefore should not be on my credit report.This incorrect reporting is harming my credit score and is a Fair Credit Reporting Act ( F.C.R.A. )',\n",
       " '',\n",
       " '',\n",
       " 'Experian is reporting XXXX XXXX XXXX XXXX XXXX, MD XXXX that address would removed and put back on.XXXX has reported that an account for XXXX XXXX with last date reported XX/XX/XXXX, Experian and XXXX does not show enough information for the XXXX XXXX account.there is no balance, no high credit limit, the date of last activity for experian is XX/XX/XXXX and XX/XX/XXXX.XXXX XXXX is showing the dates of last active as XX/XX/XXXX on XXXX, how can that be if I filed bankruptcy years ago with this account??Hey he dates of last activity are all mixed up, there is no information about the credit limit or anything.XXXX XXXX is showing that the account with XXXX was last active on XX/XX/XXXX.XXXX is showing last active of XX/XX/XXXX and does not show balance for XXXX XXXX does not show any information on payment status or credit limit.There nothing showing what type of account it is.All this information does not seem like it has been verified because there is so much missing information.Shows that the account was not opened on XX/XX/XXXX and XXXX and XXXX show Date opened on XX/XX/XXXX.XXXX is postponing XXXX as open account type but the account status says closed.The accounts also show that there is no high credit limit but there is a balance due of {$84.00}!Date last active is incorrect as well.XXXX XXXX is showing for XXXX incorrect and missing information.XXXX shows account status as other but Experian shows as closed.Experian also has the account as last reported on XX/XX/XXXX and a XXXX shows XX/XX/XXXX.The account type is left blank, high credit limit is left blank.They are all missing information Reference numbers are wrong for The chapter XXXX.They also are saying I filed at US DISTRICT COURT that is incorrect.Experian shows all inaccurate account reference numbers.Please have them remove all the accounts listed below from each credits report.']"
      ]
     },
     "execution_count": 20,
     "metadata": {},
     "output_type": "execute_result"
    }
   ],
   "source": [
    "all[0:10]"
   ]
  },
  {
   "cell_type": "code",
   "execution_count": 25,
   "metadata": {},
   "outputs": [],
   "source": [
    "import pickle\n",
    "\n",
    "with open('outfile.pkl', 'wb') as fp:\n",
    "    pickle.dump(all, fp)"
   ]
  },
  {
   "cell_type": "code",
   "execution_count": 2,
   "metadata": {},
   "outputs": [],
   "source": [
    "import pickle\n",
    "\n",
    "with open ('extractive_summaries.pkl', 'rb') as fp:\n",
    "    extractive_summaries = pickle.load(fp)"
   ]
  },
  {
   "cell_type": "code",
   "execution_count": 3,
   "metadata": {},
   "outputs": [
    {
     "data": {
      "text/plain": [
       "'The payment was made over the phone with a representative from CITI Simplicity and I was given a conformation number to complete the call.I never say the payment post to my account so I called CITI back and they said there was no record of a payment being made on the XXXX of XXXX.I then filed a dispute with CITI XXXX XXXX and also called the CITI rebate card company and they immediately confirmed that the payment had been made and received on XXXX XXXX by CITI Credit Card on that date.We then had them email us proof of this transaction and sent it to CITI XXXX to go forward with the dispute.I received an email showing a few days later that my card balance was at XXXX {$.00} as this payment was for the remaining balance on the card and thought that the dispute had been resolved.I am not sure what else to do as this payment was made, it was received and our Rebate Card with CITI is at a {$0.00} balance so the money was received.'"
      ]
     },
     "execution_count": 3,
     "metadata": {},
     "output_type": "execute_result"
    }
   ],
   "source": [
    "extractive_summaries[-1]"
   ]
  }
 ],
 "metadata": {
  "colab": {
   "collapsed_sections": [
    "1bg1nykfzNaH",
    "ZRyK5oSpTiS1"
   ],
   "name": "Test_Run.ipynb",
   "provenance": [],
   "toc_visible": true
  },
  "kernelspec": {
   "display_name": "Python 3",
   "language": "python",
   "name": "python3"
  },
  "language_info": {
   "codemirror_mode": {
    "name": "ipython",
    "version": 3
   },
   "file_extension": ".py",
   "mimetype": "text/x-python",
   "name": "python",
   "nbconvert_exporter": "python",
   "pygments_lexer": "ipython3",
   "version": "3.7.6"
  },
  "widgets": {
   "application/vnd.jupyter.widget-state+json": {
    "1d44815038bf422eaefe939ad8dd2c37": {
     "model_module": "@jupyter-widgets/base",
     "model_name": "LayoutModel",
     "state": {
      "_model_module": "@jupyter-widgets/base",
      "_model_module_version": "1.2.0",
      "_model_name": "LayoutModel",
      "_view_count": null,
      "_view_module": "@jupyter-widgets/base",
      "_view_module_version": "1.2.0",
      "_view_name": "LayoutView",
      "align_content": null,
      "align_items": null,
      "align_self": null,
      "border": null,
      "bottom": null,
      "display": null,
      "flex": null,
      "flex_flow": null,
      "grid_area": null,
      "grid_auto_columns": null,
      "grid_auto_flow": null,
      "grid_auto_rows": null,
      "grid_column": null,
      "grid_gap": null,
      "grid_row": null,
      "grid_template_areas": null,
      "grid_template_columns": null,
      "grid_template_rows": null,
      "height": null,
      "justify_content": null,
      "justify_items": null,
      "left": null,
      "margin": null,
      "max_height": null,
      "max_width": null,
      "min_height": null,
      "min_width": null,
      "object_fit": null,
      "object_position": null,
      "order": null,
      "overflow": null,
      "overflow_x": null,
      "overflow_y": null,
      "padding": null,
      "right": null,
      "top": null,
      "visibility": null,
      "width": null
     }
    },
    "37b01c3a804a48f6bf87518038eff345": {
     "model_module": "@jupyter-widgets/base",
     "model_name": "LayoutModel",
     "state": {
      "_model_module": "@jupyter-widgets/base",
      "_model_module_version": "1.2.0",
      "_model_name": "LayoutModel",
      "_view_count": null,
      "_view_module": "@jupyter-widgets/base",
      "_view_module_version": "1.2.0",
      "_view_name": "LayoutView",
      "align_content": null,
      "align_items": null,
      "align_self": null,
      "border": null,
      "bottom": null,
      "display": null,
      "flex": null,
      "flex_flow": null,
      "grid_area": null,
      "grid_auto_columns": null,
      "grid_auto_flow": null,
      "grid_auto_rows": null,
      "grid_column": null,
      "grid_gap": null,
      "grid_row": null,
      "grid_template_areas": null,
      "grid_template_columns": null,
      "grid_template_rows": null,
      "height": null,
      "justify_content": null,
      "justify_items": null,
      "left": null,
      "margin": null,
      "max_height": null,
      "max_width": null,
      "min_height": null,
      "min_width": null,
      "object_fit": null,
      "object_position": null,
      "order": null,
      "overflow": null,
      "overflow_x": null,
      "overflow_y": null,
      "padding": null,
      "right": null,
      "top": null,
      "visibility": null,
      "width": null
     }
    },
    "41c3c4d3300c43cfb8a76faaa8f23d79": {
     "model_module": "@jupyter-widgets/controls",
     "model_name": "ProgressStyleModel",
     "state": {
      "_model_module": "@jupyter-widgets/controls",
      "_model_module_version": "1.5.0",
      "_model_name": "ProgressStyleModel",
      "_view_count": null,
      "_view_module": "@jupyter-widgets/base",
      "_view_module_version": "1.2.0",
      "_view_name": "StyleView",
      "bar_color": null,
      "description_width": "initial"
     }
    },
    "42750136682a40278ef25808c9cdb071": {
     "model_module": "@jupyter-widgets/controls",
     "model_name": "FloatProgressModel",
     "state": {
      "_dom_classes": [],
      "_model_module": "@jupyter-widgets/controls",
      "_model_module_version": "1.5.0",
      "_model_name": "FloatProgressModel",
      "_view_count": null,
      "_view_module": "@jupyter-widgets/controls",
      "_view_module_version": "1.5.0",
      "_view_name": "ProgressView",
      "bar_style": "",
      "description": "  1%",
      "description_tooltip": null,
      "layout": "IPY_MODEL_bc842278b4dd4acb8efd3db42427e5e7",
      "max": 657719,
      "min": 0,
      "orientation": "horizontal",
      "style": "IPY_MODEL_41c3c4d3300c43cfb8a76faaa8f23d79",
      "value": 4308
     }
    },
    "5041721ea41e4bb1b56637f521060281": {
     "model_module": "@jupyter-widgets/controls",
     "model_name": "ProgressStyleModel",
     "state": {
      "_model_module": "@jupyter-widgets/controls",
      "_model_module_version": "1.5.0",
      "_model_name": "ProgressStyleModel",
      "_view_count": null,
      "_view_module": "@jupyter-widgets/base",
      "_view_module_version": "1.2.0",
      "_view_name": "StyleView",
      "bar_color": null,
      "description_width": "initial"
     }
    },
    "507f6f03918645c8be86218ed6203143": {
     "model_module": "@jupyter-widgets/base",
     "model_name": "LayoutModel",
     "state": {
      "_model_module": "@jupyter-widgets/base",
      "_model_module_version": "1.2.0",
      "_model_name": "LayoutModel",
      "_view_count": null,
      "_view_module": "@jupyter-widgets/base",
      "_view_module_version": "1.2.0",
      "_view_name": "LayoutView",
      "align_content": null,
      "align_items": null,
      "align_self": null,
      "border": null,
      "bottom": null,
      "display": null,
      "flex": null,
      "flex_flow": null,
      "grid_area": null,
      "grid_auto_columns": null,
      "grid_auto_flow": null,
      "grid_auto_rows": null,
      "grid_column": null,
      "grid_gap": null,
      "grid_row": null,
      "grid_template_areas": null,
      "grid_template_columns": null,
      "grid_template_rows": null,
      "height": null,
      "justify_content": null,
      "justify_items": null,
      "left": null,
      "margin": null,
      "max_height": null,
      "max_width": null,
      "min_height": null,
      "min_width": null,
      "object_fit": null,
      "object_position": null,
      "order": null,
      "overflow": null,
      "overflow_x": null,
      "overflow_y": null,
      "padding": null,
      "right": null,
      "top": null,
      "visibility": null,
      "width": null
     }
    },
    "53d6e24464b64cd09c268760ffeb86d5": {
     "model_module": "@jupyter-widgets/controls",
     "model_name": "HTMLModel",
     "state": {
      "_dom_classes": [],
      "_model_module": "@jupyter-widgets/controls",
      "_model_module_version": "1.5.0",
      "_model_name": "HTMLModel",
      "_view_count": null,
      "_view_module": "@jupyter-widgets/controls",
      "_view_module_version": "1.5.0",
      "_view_name": "HTMLView",
      "description": "",
      "description_tooltip": null,
      "layout": "IPY_MODEL_507f6f03918645c8be86218ed6203143",
      "placeholder": "​",
      "style": "IPY_MODEL_6bd9f0b5ded1488f9c6d4da5964f81cb",
      "value": " 4308/657719 [03:42&lt;13:44:45, 13.20it/s]"
     }
    },
    "6127f8b669514b34b97994dfeac3421c": {
     "model_module": "@jupyter-widgets/controls",
     "model_name": "DescriptionStyleModel",
     "state": {
      "_model_module": "@jupyter-widgets/controls",
      "_model_module_version": "1.5.0",
      "_model_name": "DescriptionStyleModel",
      "_view_count": null,
      "_view_module": "@jupyter-widgets/base",
      "_view_module_version": "1.2.0",
      "_view_name": "StyleView",
      "description_width": ""
     }
    },
    "6bd9f0b5ded1488f9c6d4da5964f81cb": {
     "model_module": "@jupyter-widgets/controls",
     "model_name": "DescriptionStyleModel",
     "state": {
      "_model_module": "@jupyter-widgets/controls",
      "_model_module_version": "1.5.0",
      "_model_name": "DescriptionStyleModel",
      "_view_count": null,
      "_view_module": "@jupyter-widgets/base",
      "_view_module_version": "1.2.0",
      "_view_name": "StyleView",
      "description_width": ""
     }
    },
    "97399030a67a43e0a7b0201be3fdb15b": {
     "model_module": "@jupyter-widgets/base",
     "model_name": "LayoutModel",
     "state": {
      "_model_module": "@jupyter-widgets/base",
      "_model_module_version": "1.2.0",
      "_model_name": "LayoutModel",
      "_view_count": null,
      "_view_module": "@jupyter-widgets/base",
      "_view_module_version": "1.2.0",
      "_view_name": "LayoutView",
      "align_content": null,
      "align_items": null,
      "align_self": null,
      "border": null,
      "bottom": null,
      "display": null,
      "flex": null,
      "flex_flow": null,
      "grid_area": null,
      "grid_auto_columns": null,
      "grid_auto_flow": null,
      "grid_auto_rows": null,
      "grid_column": null,
      "grid_gap": null,
      "grid_row": null,
      "grid_template_areas": null,
      "grid_template_columns": null,
      "grid_template_rows": null,
      "height": null,
      "justify_content": null,
      "justify_items": null,
      "left": null,
      "margin": null,
      "max_height": null,
      "max_width": null,
      "min_height": null,
      "min_width": null,
      "object_fit": null,
      "object_position": null,
      "order": null,
      "overflow": null,
      "overflow_x": null,
      "overflow_y": null,
      "padding": null,
      "right": null,
      "top": null,
      "visibility": null,
      "width": null
     }
    },
    "a4395691b4414614a35523e5bb5ca0f9": {
     "model_module": "@jupyter-widgets/controls",
     "model_name": "HBoxModel",
     "state": {
      "_dom_classes": [],
      "_model_module": "@jupyter-widgets/controls",
      "_model_module_version": "1.5.0",
      "_model_name": "HBoxModel",
      "_view_count": null,
      "_view_module": "@jupyter-widgets/controls",
      "_view_module_version": "1.5.0",
      "_view_name": "HBoxView",
      "box_style": "",
      "children": [
       "IPY_MODEL_42750136682a40278ef25808c9cdb071",
       "IPY_MODEL_53d6e24464b64cd09c268760ffeb86d5"
      ],
      "layout": "IPY_MODEL_37b01c3a804a48f6bf87518038eff345"
     }
    },
    "b02dd640af5a47ceaab349fe69d78767": {
     "model_module": "@jupyter-widgets/controls",
     "model_name": "HTMLModel",
     "state": {
      "_dom_classes": [],
      "_model_module": "@jupyter-widgets/controls",
      "_model_module_version": "1.5.0",
      "_model_name": "HTMLModel",
      "_view_count": null,
      "_view_module": "@jupyter-widgets/controls",
      "_view_module_version": "1.5.0",
      "_view_name": "HTMLView",
      "description": "",
      "description_tooltip": null,
      "layout": "IPY_MODEL_97399030a67a43e0a7b0201be3fdb15b",
      "placeholder": "​",
      "style": "IPY_MODEL_6127f8b669514b34b97994dfeac3421c",
      "value": " 15/15 [00:58&lt;00:00,  3.89s/it]"
     }
    },
    "bab64d67db1f4d95b66ef89c9f8ee16f": {
     "model_module": "@jupyter-widgets/controls",
     "model_name": "FloatProgressModel",
     "state": {
      "_dom_classes": [],
      "_model_module": "@jupyter-widgets/controls",
      "_model_module_version": "1.5.0",
      "_model_name": "FloatProgressModel",
      "_view_count": null,
      "_view_module": "@jupyter-widgets/controls",
      "_view_module_version": "1.5.0",
      "_view_name": "ProgressView",
      "bar_style": "success",
      "description": "100%",
      "description_tooltip": null,
      "layout": "IPY_MODEL_c169535a73fc4667ba75e8aa47f2d37a",
      "max": 15,
      "min": 0,
      "orientation": "horizontal",
      "style": "IPY_MODEL_5041721ea41e4bb1b56637f521060281",
      "value": 15
     }
    },
    "bc842278b4dd4acb8efd3db42427e5e7": {
     "model_module": "@jupyter-widgets/base",
     "model_name": "LayoutModel",
     "state": {
      "_model_module": "@jupyter-widgets/base",
      "_model_module_version": "1.2.0",
      "_model_name": "LayoutModel",
      "_view_count": null,
      "_view_module": "@jupyter-widgets/base",
      "_view_module_version": "1.2.0",
      "_view_name": "LayoutView",
      "align_content": null,
      "align_items": null,
      "align_self": null,
      "border": null,
      "bottom": null,
      "display": null,
      "flex": null,
      "flex_flow": null,
      "grid_area": null,
      "grid_auto_columns": null,
      "grid_auto_flow": null,
      "grid_auto_rows": null,
      "grid_column": null,
      "grid_gap": null,
      "grid_row": null,
      "grid_template_areas": null,
      "grid_template_columns": null,
      "grid_template_rows": null,
      "height": null,
      "justify_content": null,
      "justify_items": null,
      "left": null,
      "margin": null,
      "max_height": null,
      "max_width": null,
      "min_height": null,
      "min_width": null,
      "object_fit": null,
      "object_position": null,
      "order": null,
      "overflow": null,
      "overflow_x": null,
      "overflow_y": null,
      "padding": null,
      "right": null,
      "top": null,
      "visibility": null,
      "width": null
     }
    },
    "c169535a73fc4667ba75e8aa47f2d37a": {
     "model_module": "@jupyter-widgets/base",
     "model_name": "LayoutModel",
     "state": {
      "_model_module": "@jupyter-widgets/base",
      "_model_module_version": "1.2.0",
      "_model_name": "LayoutModel",
      "_view_count": null,
      "_view_module": "@jupyter-widgets/base",
      "_view_module_version": "1.2.0",
      "_view_name": "LayoutView",
      "align_content": null,
      "align_items": null,
      "align_self": null,
      "border": null,
      "bottom": null,
      "display": null,
      "flex": null,
      "flex_flow": null,
      "grid_area": null,
      "grid_auto_columns": null,
      "grid_auto_flow": null,
      "grid_auto_rows": null,
      "grid_column": null,
      "grid_gap": null,
      "grid_row": null,
      "grid_template_areas": null,
      "grid_template_columns": null,
      "grid_template_rows": null,
      "height": null,
      "justify_content": null,
      "justify_items": null,
      "left": null,
      "margin": null,
      "max_height": null,
      "max_width": null,
      "min_height": null,
      "min_width": null,
      "object_fit": null,
      "object_position": null,
      "order": null,
      "overflow": null,
      "overflow_x": null,
      "overflow_y": null,
      "padding": null,
      "right": null,
      "top": null,
      "visibility": null,
      "width": null
     }
    },
    "fd8918b83f0748b1873eeedaba34b183": {
     "model_module": "@jupyter-widgets/controls",
     "model_name": "HBoxModel",
     "state": {
      "_dom_classes": [],
      "_model_module": "@jupyter-widgets/controls",
      "_model_module_version": "1.5.0",
      "_model_name": "HBoxModel",
      "_view_count": null,
      "_view_module": "@jupyter-widgets/controls",
      "_view_module_version": "1.5.0",
      "_view_name": "HBoxView",
      "box_style": "",
      "children": [
       "IPY_MODEL_bab64d67db1f4d95b66ef89c9f8ee16f",
       "IPY_MODEL_b02dd640af5a47ceaab349fe69d78767"
      ],
      "layout": "IPY_MODEL_1d44815038bf422eaefe939ad8dd2c37"
     }
    }
   }
  }
 },
 "nbformat": 4,
 "nbformat_minor": 4
}
