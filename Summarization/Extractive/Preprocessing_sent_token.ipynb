{
 "cells": [
  {
   "cell_type": "markdown",
   "metadata": {
    "id": "rLq98HJr9gKO"
   },
   "source": [
    "## Text Summarization"
   ]
  },
  {
   "cell_type": "markdown",
   "metadata": {
    "id": "Qq-htjFj9jao"
   },
   "source": [
    "Types: \n",
    "- Abstractive: Generative Models; generally involves deep learning models. BERT Models can be one of them. \n",
    "- Extractive: Extracting the 'most important sentences' from a document. \n",
    "\n",
    "We tried an Extractive Model, using Sentence Embeddings, based on Pre-Trained GloVe vectors. \n",
    "\n",
    "Source: https://appliedmachinelearning.blog/2019/12/31/extractive-text-summarization-using-glove-vectors/ \n",
    "\n",
    "Paper: https://nlp.stanford.edu/pubs/glove.pdf \n",
    "\n"
   ]
  },
  {
   "cell_type": "code",
   "execution_count": 1,
   "metadata": {},
   "outputs": [],
   "source": [
    "import csv"
   ]
  },
  {
   "cell_type": "markdown",
   "metadata": {
    "id": "8Pp6L_dLAtlQ"
   },
   "source": [
    "## Preprocessing"
   ]
  },
  {
   "cell_type": "code",
   "execution_count": 1,
   "metadata": {
    "id": "IQIBnHIQGM49"
   },
   "outputs": [
    {
     "name": "stdout",
     "output_type": "stream",
     "text": [
      "Requirement already satisfied: swifter in /Users/kagenlim/opt/anaconda3/lib/python3.7/site-packages (1.0.7)\n",
      "Requirement already satisfied: ipywidgets>=7.0.0cloudpickle>=0.2.2 in /Users/kagenlim/opt/anaconda3/lib/python3.7/site-packages (from swifter) (7.5.1)\n",
      "Requirement already satisfied: modin[ray]>=0.8.1.1 in /Users/kagenlim/opt/anaconda3/lib/python3.7/site-packages (from swifter) (0.8.3)\n",
      "Requirement already satisfied: parso>0.4.0 in /Users/kagenlim/opt/anaconda3/lib/python3.7/site-packages (from swifter) (0.5.2)\n",
      "Requirement already satisfied: psutil>=5.6.6 in /Users/kagenlim/opt/anaconda3/lib/python3.7/site-packages (from swifter) (5.6.7)\n",
      "Requirement already satisfied: pandas>=1.0.0 in /Users/kagenlim/opt/anaconda3/lib/python3.7/site-packages (from swifter) (1.1.5)\n",
      "Requirement already satisfied: tqdm>=4.33.0 in /Users/kagenlim/opt/anaconda3/lib/python3.7/site-packages (from swifter) (4.42.1)\n",
      "Requirement already satisfied: dask[dataframe]>=2.10.0 in /Users/kagenlim/opt/anaconda3/lib/python3.7/site-packages (from swifter) (2.11.0)\n",
      "Requirement already satisfied: bleach>=3.1.1 in /Users/kagenlim/opt/anaconda3/lib/python3.7/site-packages (from swifter) (3.2.3)\n",
      "Requirement already satisfied: widgetsnbextension~=3.5.0 in /Users/kagenlim/opt/anaconda3/lib/python3.7/site-packages (from ipywidgets>=7.0.0cloudpickle>=0.2.2->swifter) (3.5.1)\n",
      "Requirement already satisfied: traitlets>=4.3.1 in /Users/kagenlim/opt/anaconda3/lib/python3.7/site-packages (from ipywidgets>=7.0.0cloudpickle>=0.2.2->swifter) (4.3.3)\n",
      "Requirement already satisfied: nbformat>=4.2.0 in /Users/kagenlim/opt/anaconda3/lib/python3.7/site-packages (from ipywidgets>=7.0.0cloudpickle>=0.2.2->swifter) (5.0.4)\n",
      "Requirement already satisfied: ipython>=4.0.0; python_version >= \"3.3\" in /Users/kagenlim/opt/anaconda3/lib/python3.7/site-packages (from ipywidgets>=7.0.0cloudpickle>=0.2.2->swifter) (7.12.0)\n",
      "Requirement already satisfied: ipykernel>=4.5.1 in /Users/kagenlim/opt/anaconda3/lib/python3.7/site-packages (from ipywidgets>=7.0.0cloudpickle>=0.2.2->swifter) (5.1.4)\n",
      "Requirement already satisfied: packaging in /Users/kagenlim/opt/anaconda3/lib/python3.7/site-packages (from modin[ray]>=0.8.1.1->swifter) (20.1)\n",
      "Requirement already satisfied: pyarrow==1.0; extra == \"ray\" in /Users/kagenlim/opt/anaconda3/lib/python3.7/site-packages (from modin[ray]>=0.8.1.1->swifter) (1.0.0)\n",
      "Requirement already satisfied: ray>=1.0.0; extra == \"ray\" in /Users/kagenlim/opt/anaconda3/lib/python3.7/site-packages (from modin[ray]>=0.8.1.1->swifter) (1.1.0)\n",
      "Requirement already satisfied: numpy>=1.15.4 in /Users/kagenlim/opt/anaconda3/lib/python3.7/site-packages (from pandas>=1.0.0->swifter) (1.20.0)\n",
      "Requirement already satisfied: python-dateutil>=2.7.3 in /Users/kagenlim/opt/anaconda3/lib/python3.7/site-packages (from pandas>=1.0.0->swifter) (2.8.1)\n",
      "Requirement already satisfied: pytz>=2017.2 in /Users/kagenlim/opt/anaconda3/lib/python3.7/site-packages (from pandas>=1.0.0->swifter) (2019.3)\n",
      "Requirement already satisfied: fsspec>=0.6.0; extra == \"dataframe\" in /Users/kagenlim/opt/anaconda3/lib/python3.7/site-packages (from dask[dataframe]>=2.10.0->swifter) (0.6.2)\n",
      "Requirement already satisfied: partd>=0.3.10; extra == \"dataframe\" in /Users/kagenlim/opt/anaconda3/lib/python3.7/site-packages (from dask[dataframe]>=2.10.0->swifter) (1.1.0)\n",
      "Requirement already satisfied: toolz>=0.7.3; extra == \"dataframe\" in /Users/kagenlim/opt/anaconda3/lib/python3.7/site-packages (from dask[dataframe]>=2.10.0->swifter) (0.10.0)\n",
      "Requirement already satisfied: webencodings in /Users/kagenlim/opt/anaconda3/lib/python3.7/site-packages (from bleach>=3.1.1->swifter) (0.5.1)\n",
      "Requirement already satisfied: six>=1.9.0 in /Users/kagenlim/opt/anaconda3/lib/python3.7/site-packages (from bleach>=3.1.1->swifter) (1.15.0)\n",
      "Requirement already satisfied: notebook>=4.4.1 in /Users/kagenlim/opt/anaconda3/lib/python3.7/site-packages (from widgetsnbextension~=3.5.0->ipywidgets>=7.0.0cloudpickle>=0.2.2->swifter) (6.0.3)\n",
      "Requirement already satisfied: decorator in /Users/kagenlim/opt/anaconda3/lib/python3.7/site-packages (from traitlets>=4.3.1->ipywidgets>=7.0.0cloudpickle>=0.2.2->swifter) (4.4.1)\n",
      "Requirement already satisfied: ipython-genutils in /Users/kagenlim/opt/anaconda3/lib/python3.7/site-packages (from traitlets>=4.3.1->ipywidgets>=7.0.0cloudpickle>=0.2.2->swifter) (0.2.0)\n",
      "Requirement already satisfied: jupyter-core in /Users/kagenlim/opt/anaconda3/lib/python3.7/site-packages (from nbformat>=4.2.0->ipywidgets>=7.0.0cloudpickle>=0.2.2->swifter) (4.6.1)\n",
      "Requirement already satisfied: jsonschema!=2.5.0,>=2.4 in /Users/kagenlim/opt/anaconda3/lib/python3.7/site-packages (from nbformat>=4.2.0->ipywidgets>=7.0.0cloudpickle>=0.2.2->swifter) (3.2.0)\n",
      "Requirement already satisfied: pexpect; sys_platform != \"win32\" in /Users/kagenlim/opt/anaconda3/lib/python3.7/site-packages (from ipython>=4.0.0; python_version >= \"3.3\"->ipywidgets>=7.0.0cloudpickle>=0.2.2->swifter) (4.8.0)\n",
      "Requirement already satisfied: appnope; sys_platform == \"darwin\" in /Users/kagenlim/opt/anaconda3/lib/python3.7/site-packages (from ipython>=4.0.0; python_version >= \"3.3\"->ipywidgets>=7.0.0cloudpickle>=0.2.2->swifter) (0.1.0)\n",
      "Requirement already satisfied: pygments in /Users/kagenlim/opt/anaconda3/lib/python3.7/site-packages (from ipython>=4.0.0; python_version >= \"3.3\"->ipywidgets>=7.0.0cloudpickle>=0.2.2->swifter) (2.5.2)\n",
      "Requirement already satisfied: setuptools>=18.5 in /Users/kagenlim/opt/anaconda3/lib/python3.7/site-packages (from ipython>=4.0.0; python_version >= \"3.3\"->ipywidgets>=7.0.0cloudpickle>=0.2.2->swifter) (46.0.0.post20200309)\n",
      "Requirement already satisfied: backcall in /Users/kagenlim/opt/anaconda3/lib/python3.7/site-packages (from ipython>=4.0.0; python_version >= \"3.3\"->ipywidgets>=7.0.0cloudpickle>=0.2.2->swifter) (0.1.0)\n",
      "Requirement already satisfied: prompt-toolkit!=3.0.0,!=3.0.1,<3.1.0,>=2.0.0 in /Users/kagenlim/opt/anaconda3/lib/python3.7/site-packages (from ipython>=4.0.0; python_version >= \"3.3\"->ipywidgets>=7.0.0cloudpickle>=0.2.2->swifter) (3.0.3)\n",
      "Requirement already satisfied: jedi>=0.10 in /Users/kagenlim/opt/anaconda3/lib/python3.7/site-packages (from ipython>=4.0.0; python_version >= \"3.3\"->ipywidgets>=7.0.0cloudpickle>=0.2.2->swifter) (0.14.1)\n",
      "Requirement already satisfied: pickleshare in /Users/kagenlim/opt/anaconda3/lib/python3.7/site-packages (from ipython>=4.0.0; python_version >= \"3.3\"->ipywidgets>=7.0.0cloudpickle>=0.2.2->swifter) (0.7.5)\n",
      "Requirement already satisfied: jupyter-client in /Users/kagenlim/opt/anaconda3/lib/python3.7/site-packages (from ipykernel>=4.5.1->ipywidgets>=7.0.0cloudpickle>=0.2.2->swifter) (5.3.4)\n",
      "Requirement already satisfied: tornado>=4.2 in /Users/kagenlim/opt/anaconda3/lib/python3.7/site-packages (from ipykernel>=4.5.1->ipywidgets>=7.0.0cloudpickle>=0.2.2->swifter) (6.0.3)\n",
      "Requirement already satisfied: pyparsing>=2.0.2 in /Users/kagenlim/opt/anaconda3/lib/python3.7/site-packages (from packaging->modin[ray]>=0.8.1.1->swifter) (2.4.6)\n",
      "Requirement already satisfied: opencensus in /Users/kagenlim/opt/anaconda3/lib/python3.7/site-packages (from ray>=1.0.0; extra == \"ray\"->modin[ray]>=0.8.1.1->swifter) (0.7.12)\n",
      "Requirement already satisfied: colorful in /Users/kagenlim/opt/anaconda3/lib/python3.7/site-packages (from ray>=1.0.0; extra == \"ray\"->modin[ray]>=0.8.1.1->swifter) (0.5.4)\n",
      "Requirement already satisfied: click>=7.0 in /Users/kagenlim/opt/anaconda3/lib/python3.7/site-packages (from ray>=1.0.0; extra == \"ray\"->modin[ray]>=0.8.1.1->swifter) (7.0)\n",
      "Requirement already satisfied: requests in /Users/kagenlim/opt/anaconda3/lib/python3.7/site-packages (from ray>=1.0.0; extra == \"ray\"->modin[ray]>=0.8.1.1->swifter) (2.25.1)\n",
      "Requirement already satisfied: colorama in /Users/kagenlim/opt/anaconda3/lib/python3.7/site-packages (from ray>=1.0.0; extra == \"ray\"->modin[ray]>=0.8.1.1->swifter) (0.4.3)\n",
      "Requirement already satisfied: pyyaml in /Users/kagenlim/opt/anaconda3/lib/python3.7/site-packages (from ray>=1.0.0; extra == \"ray\"->modin[ray]>=0.8.1.1->swifter) (5.3)\n",
      "Requirement already satisfied: aiohttp in /Users/kagenlim/opt/anaconda3/lib/python3.7/site-packages (from ray>=1.0.0; extra == \"ray\"->modin[ray]>=0.8.1.1->swifter) (3.7.3)\n",
      "Requirement already satisfied: msgpack<2.0.0,>=1.0.0 in /Users/kagenlim/opt/anaconda3/lib/python3.7/site-packages (from ray>=1.0.0; extra == \"ray\"->modin[ray]>=0.8.1.1->swifter) (1.0.2)\n",
      "Requirement already satisfied: protobuf>=3.8.0 in /Users/kagenlim/opt/anaconda3/lib/python3.7/site-packages (from ray>=1.0.0; extra == \"ray\"->modin[ray]>=0.8.1.1->swifter) (3.14.0)\n",
      "Requirement already satisfied: aiohttp-cors in /Users/kagenlim/opt/anaconda3/lib/python3.7/site-packages (from ray>=1.0.0; extra == \"ray\"->modin[ray]>=0.8.1.1->swifter) (0.7.0)\n",
      "Requirement already satisfied: py-spy>=0.2.0 in /Users/kagenlim/opt/anaconda3/lib/python3.7/site-packages (from ray>=1.0.0; extra == \"ray\"->modin[ray]>=0.8.1.1->swifter) (0.3.4)\n",
      "Requirement already satisfied: aioredis in /Users/kagenlim/opt/anaconda3/lib/python3.7/site-packages (from ray>=1.0.0; extra == \"ray\"->modin[ray]>=0.8.1.1->swifter) (1.3.1)\n",
      "Requirement already satisfied: prometheus-client>=0.7.1 in /Users/kagenlim/opt/anaconda3/lib/python3.7/site-packages (from ray>=1.0.0; extra == \"ray\"->modin[ray]>=0.8.1.1->swifter) (0.7.1)\n",
      "Requirement already satisfied: grpcio>=1.28.1 in /Users/kagenlim/opt/anaconda3/lib/python3.7/site-packages (from ray>=1.0.0; extra == \"ray\"->modin[ray]>=0.8.1.1->swifter) (1.32.0)\n",
      "Requirement already satisfied: filelock in /Users/kagenlim/opt/anaconda3/lib/python3.7/site-packages (from ray>=1.0.0; extra == \"ray\"->modin[ray]>=0.8.1.1->swifter) (3.0.12)\n",
      "Requirement already satisfied: gpustat in /Users/kagenlim/opt/anaconda3/lib/python3.7/site-packages (from ray>=1.0.0; extra == \"ray\"->modin[ray]>=0.8.1.1->swifter) (0.6.0)\n",
      "Requirement already satisfied: redis>=3.5.0 in /Users/kagenlim/opt/anaconda3/lib/python3.7/site-packages (from ray>=1.0.0; extra == \"ray\"->modin[ray]>=0.8.1.1->swifter) (3.5.3)\n",
      "Requirement already satisfied: locket in /Users/kagenlim/opt/anaconda3/lib/python3.7/site-packages (from partd>=0.3.10; extra == \"dataframe\"->dask[dataframe]>=2.10.0->swifter) (0.2.0)\n",
      "Requirement already satisfied: terminado>=0.8.1 in /Users/kagenlim/opt/anaconda3/lib/python3.7/site-packages (from notebook>=4.4.1->widgetsnbextension~=3.5.0->ipywidgets>=7.0.0cloudpickle>=0.2.2->swifter) (0.8.3)\n",
      "Requirement already satisfied: Send2Trash in /Users/kagenlim/opt/anaconda3/lib/python3.7/site-packages (from notebook>=4.4.1->widgetsnbextension~=3.5.0->ipywidgets>=7.0.0cloudpickle>=0.2.2->swifter) (1.5.0)\n",
      "Requirement already satisfied: nbconvert in /Users/kagenlim/opt/anaconda3/lib/python3.7/site-packages (from notebook>=4.4.1->widgetsnbextension~=3.5.0->ipywidgets>=7.0.0cloudpickle>=0.2.2->swifter) (5.6.1)\n",
      "Requirement already satisfied: jinja2 in /Users/kagenlim/opt/anaconda3/lib/python3.7/site-packages (from notebook>=4.4.1->widgetsnbextension~=3.5.0->ipywidgets>=7.0.0cloudpickle>=0.2.2->swifter) (2.11.1)\n",
      "Requirement already satisfied: pyzmq>=17 in /Users/kagenlim/opt/anaconda3/lib/python3.7/site-packages (from notebook>=4.4.1->widgetsnbextension~=3.5.0->ipywidgets>=7.0.0cloudpickle>=0.2.2->swifter) (18.1.1)\n",
      "Requirement already satisfied: importlib-metadata; python_version < \"3.8\" in /Users/kagenlim/opt/anaconda3/lib/python3.7/site-packages (from jsonschema!=2.5.0,>=2.4->nbformat>=4.2.0->ipywidgets>=7.0.0cloudpickle>=0.2.2->swifter) (1.5.0)\n",
      "Requirement already satisfied: attrs>=17.4.0 in /Users/kagenlim/opt/anaconda3/lib/python3.7/site-packages (from jsonschema!=2.5.0,>=2.4->nbformat>=4.2.0->ipywidgets>=7.0.0cloudpickle>=0.2.2->swifter) (19.3.0)\n",
      "Requirement already satisfied: pyrsistent>=0.14.0 in /Users/kagenlim/opt/anaconda3/lib/python3.7/site-packages (from jsonschema!=2.5.0,>=2.4->nbformat>=4.2.0->ipywidgets>=7.0.0cloudpickle>=0.2.2->swifter) (0.15.7)\n",
      "Requirement already satisfied: ptyprocess>=0.5 in /Users/kagenlim/opt/anaconda3/lib/python3.7/site-packages (from pexpect; sys_platform != \"win32\"->ipython>=4.0.0; python_version >= \"3.3\"->ipywidgets>=7.0.0cloudpickle>=0.2.2->swifter) (0.6.0)\n",
      "Requirement already satisfied: wcwidth in /Users/kagenlim/opt/anaconda3/lib/python3.7/site-packages (from prompt-toolkit!=3.0.0,!=3.0.1,<3.1.0,>=2.0.0->ipython>=4.0.0; python_version >= \"3.3\"->ipywidgets>=7.0.0cloudpickle>=0.2.2->swifter) (0.1.8)\n",
      "Requirement already satisfied: opencensus-context==0.1.2 in /Users/kagenlim/opt/anaconda3/lib/python3.7/site-packages (from opencensus->ray>=1.0.0; extra == \"ray\"->modin[ray]>=0.8.1.1->swifter) (0.1.2)\n",
      "Requirement already satisfied: google-api-core<2.0.0,>=1.0.0 in /Users/kagenlim/opt/anaconda3/lib/python3.7/site-packages (from opencensus->ray>=1.0.0; extra == \"ray\"->modin[ray]>=0.8.1.1->swifter) (1.23.0)\n",
      "Requirement already satisfied: urllib3<1.27,>=1.21.1 in /Users/kagenlim/opt/anaconda3/lib/python3.7/site-packages (from requests->ray>=1.0.0; extra == \"ray\"->modin[ray]>=0.8.1.1->swifter) (1.25.8)\n",
      "Requirement already satisfied: chardet<5,>=3.0.2 in /Users/kagenlim/opt/anaconda3/lib/python3.7/site-packages (from requests->ray>=1.0.0; extra == \"ray\"->modin[ray]>=0.8.1.1->swifter) (3.0.4)\n",
      "Requirement already satisfied: idna<3,>=2.5 in /Users/kagenlim/opt/anaconda3/lib/python3.7/site-packages (from requests->ray>=1.0.0; extra == \"ray\"->modin[ray]>=0.8.1.1->swifter) (2.8)\n",
      "Requirement already satisfied: certifi>=2017.4.17 in /Users/kagenlim/opt/anaconda3/lib/python3.7/site-packages (from requests->ray>=1.0.0; extra == \"ray\"->modin[ray]>=0.8.1.1->swifter) (2019.11.28)\n",
      "Requirement already satisfied: yarl<2.0,>=1.0 in /Users/kagenlim/opt/anaconda3/lib/python3.7/site-packages (from aiohttp->ray>=1.0.0; extra == \"ray\"->modin[ray]>=0.8.1.1->swifter) (1.6.3)\n",
      "Requirement already satisfied: multidict<7.0,>=4.5 in /Users/kagenlim/opt/anaconda3/lib/python3.7/site-packages (from aiohttp->ray>=1.0.0; extra == \"ray\"->modin[ray]>=0.8.1.1->swifter) (5.1.0)\n",
      "Requirement already satisfied: async-timeout<4.0,>=3.0 in /Users/kagenlim/opt/anaconda3/lib/python3.7/site-packages (from aiohttp->ray>=1.0.0; extra == \"ray\"->modin[ray]>=0.8.1.1->swifter) (3.0.1)\n",
      "Requirement already satisfied: typing-extensions>=3.6.5 in /Users/kagenlim/opt/anaconda3/lib/python3.7/site-packages (from aiohttp->ray>=1.0.0; extra == \"ray\"->modin[ray]>=0.8.1.1->swifter) (3.7.4.3)\n",
      "Requirement already satisfied: hiredis in /Users/kagenlim/opt/anaconda3/lib/python3.7/site-packages (from aioredis->ray>=1.0.0; extra == \"ray\"->modin[ray]>=0.8.1.1->swifter) (1.1.0)\n",
      "Requirement already satisfied: nvidia-ml-py3>=7.352.0 in /Users/kagenlim/opt/anaconda3/lib/python3.7/site-packages (from gpustat->ray>=1.0.0; extra == \"ray\"->modin[ray]>=0.8.1.1->swifter) (7.352.0)\n",
      "Requirement already satisfied: blessings>=1.6 in /Users/kagenlim/opt/anaconda3/lib/python3.7/site-packages (from gpustat->ray>=1.0.0; extra == \"ray\"->modin[ray]>=0.8.1.1->swifter) (1.7)\n",
      "Requirement already satisfied: entrypoints>=0.2.2 in /Users/kagenlim/opt/anaconda3/lib/python3.7/site-packages (from nbconvert->notebook>=4.4.1->widgetsnbextension~=3.5.0->ipywidgets>=7.0.0cloudpickle>=0.2.2->swifter) (0.3)\n",
      "Requirement already satisfied: defusedxml in /Users/kagenlim/opt/anaconda3/lib/python3.7/site-packages (from nbconvert->notebook>=4.4.1->widgetsnbextension~=3.5.0->ipywidgets>=7.0.0cloudpickle>=0.2.2->swifter) (0.6.0)\n",
      "Requirement already satisfied: testpath in /Users/kagenlim/opt/anaconda3/lib/python3.7/site-packages (from nbconvert->notebook>=4.4.1->widgetsnbextension~=3.5.0->ipywidgets>=7.0.0cloudpickle>=0.2.2->swifter) (0.4.4)\n",
      "Requirement already satisfied: pandocfilters>=1.4.1 in /Users/kagenlim/opt/anaconda3/lib/python3.7/site-packages (from nbconvert->notebook>=4.4.1->widgetsnbextension~=3.5.0->ipywidgets>=7.0.0cloudpickle>=0.2.2->swifter) (1.4.2)\n",
      "Requirement already satisfied: mistune<2,>=0.8.1 in /Users/kagenlim/opt/anaconda3/lib/python3.7/site-packages (from nbconvert->notebook>=4.4.1->widgetsnbextension~=3.5.0->ipywidgets>=7.0.0cloudpickle>=0.2.2->swifter) (0.8.4)\n",
      "Requirement already satisfied: MarkupSafe>=0.23 in /Users/kagenlim/opt/anaconda3/lib/python3.7/site-packages (from jinja2->notebook>=4.4.1->widgetsnbextension~=3.5.0->ipywidgets>=7.0.0cloudpickle>=0.2.2->swifter) (1.1.1)\n",
      "Requirement already satisfied: zipp>=0.5 in /Users/kagenlim/opt/anaconda3/lib/python3.7/site-packages (from importlib-metadata; python_version < \"3.8\"->jsonschema!=2.5.0,>=2.4->nbformat>=4.2.0->ipywidgets>=7.0.0cloudpickle>=0.2.2->swifter) (2.2.0)\n",
      "Requirement already satisfied: googleapis-common-protos<2.0dev,>=1.6.0 in /Users/kagenlim/opt/anaconda3/lib/python3.7/site-packages (from google-api-core<2.0.0,>=1.0.0->opencensus->ray>=1.0.0; extra == \"ray\"->modin[ray]>=0.8.1.1->swifter) (1.52.0)\n",
      "Requirement already satisfied: google-auth<2.0dev,>=1.21.1 in /Users/kagenlim/opt/anaconda3/lib/python3.7/site-packages (from google-api-core<2.0.0,>=1.0.0->opencensus->ray>=1.0.0; extra == \"ray\"->modin[ray]>=0.8.1.1->swifter) (1.23.0)\n",
      "Requirement already satisfied: cachetools<5.0,>=2.0.0 in /Users/kagenlim/opt/anaconda3/lib/python3.7/site-packages (from google-auth<2.0dev,>=1.21.1->google-api-core<2.0.0,>=1.0.0->opencensus->ray>=1.0.0; extra == \"ray\"->modin[ray]>=0.8.1.1->swifter) (4.1.1)\n",
      "Requirement already satisfied: rsa<5,>=3.1.4; python_version >= \"3.5\" in /Users/kagenlim/opt/anaconda3/lib/python3.7/site-packages (from google-auth<2.0dev,>=1.21.1->google-api-core<2.0.0,>=1.0.0->opencensus->ray>=1.0.0; extra == \"ray\"->modin[ray]>=0.8.1.1->swifter) (4.6)\n",
      "Requirement already satisfied: pyasn1-modules>=0.2.1 in /Users/kagenlim/opt/anaconda3/lib/python3.7/site-packages (from google-auth<2.0dev,>=1.21.1->google-api-core<2.0.0,>=1.0.0->opencensus->ray>=1.0.0; extra == \"ray\"->modin[ray]>=0.8.1.1->swifter) (0.2.8)\n",
      "Requirement already satisfied: pyasn1>=0.1.3 in /Users/kagenlim/opt/anaconda3/lib/python3.7/site-packages (from rsa<5,>=3.1.4; python_version >= \"3.5\"->google-auth<2.0dev,>=1.21.1->google-api-core<2.0.0,>=1.0.0->opencensus->ray>=1.0.0; extra == \"ray\"->modin[ray]>=0.8.1.1->swifter) (0.4.8)\n",
      "Note: you may need to restart the kernel to use updated packages.\n"
     ]
    }
   ],
   "source": [
    "pip install swifter"
   ]
  },
  {
   "cell_type": "code",
   "execution_count": 2,
   "metadata": {
    "id": "K3acMWxCGO1j"
   },
   "outputs": [
    {
     "name": "stdout",
     "output_type": "stream",
     "text": [
      "Requirement already satisfied: contractions in /Users/kagenlim/opt/anaconda3/lib/python3.7/site-packages (0.0.48)\n",
      "Requirement already satisfied: textsearch>=0.0.21 in /Users/kagenlim/opt/anaconda3/lib/python3.7/site-packages (from contractions) (0.0.21)\n",
      "Requirement already satisfied: pyahocorasick in /Users/kagenlim/opt/anaconda3/lib/python3.7/site-packages (from textsearch>=0.0.21->contractions) (1.4.1)\n",
      "Requirement already satisfied: anyascii in /Users/kagenlim/opt/anaconda3/lib/python3.7/site-packages (from textsearch>=0.0.21->contractions) (0.1.7)\n",
      "Note: you may need to restart the kernel to use updated packages.\n"
     ]
    }
   ],
   "source": [
    "pip install contractions"
   ]
  },
  {
   "cell_type": "code",
   "execution_count": 3,
   "metadata": {
    "colab": {
     "base_uri": "https://localhost:8080/"
    },
    "id": "L_2BBKWt9c3q",
    "outputId": "78505b1a-b417-4f56-a2d6-0038ea1f267a"
   },
   "outputs": [
    {
     "name": "stderr",
     "output_type": "stream",
     "text": [
      "[nltk_data] Downloading package punkt to /Users/kagenlim/nltk_data...\n",
      "[nltk_data]   Package punkt is already up-to-date!\n",
      "[nltk_data] Downloading package stopwords to\n",
      "[nltk_data]     /Users/kagenlim/nltk_data...\n",
      "[nltk_data]   Package stopwords is already up-to-date!\n"
     ]
    }
   ],
   "source": [
    "import os\n",
    "import re\n",
    "import string\n",
    "import pandas as pd\n",
    "import numpy as np\n",
    "import matplotlib.pyplot as plt\n",
    "from nltk.corpus import stopwords\n",
    "from nltk.tokenize import sent_tokenize\n",
    "from nltk.stem.wordnet import WordNetLemmatizer\n",
    "from sklearn.metrics.pairwise import cosine_similarity\n",
    "\n",
    "import seaborn as sns\n",
    "import swifter\n",
    "import gc\n",
    "import nltk \n",
    "nltk.download('punkt')\n",
    "nltk.download('stopwords')\n",
    "import sklearn \n",
    "import collections\n",
    "import contractions\n",
    "import sys\n",
    "import itertools\n",
    "import string\n",
    "\n",
    "from nltk.tokenize import word_tokenize\n",
    "from nltk.corpus import stopwords, wordnet\n",
    "from nltk.stem import WordNetLemmatizer\n",
    "from tqdm.notebook import tqdm"
   ]
  },
  {
   "cell_type": "code",
   "execution_count": 5,
   "metadata": {
    "id": "aZ7jZJUMCGhc"
   },
   "outputs": [],
   "source": [
    "df_narr = pd.read_csv(\"/content/drive/MyDrive/Classes/2 Practicum/[For Classmates 3-Feb-2021] cfpb_cleaned/data_files/narratives_raw.csv\")"
   ]
  },
  {
   "cell_type": "code",
   "execution_count": null,
   "metadata": {
    "colab": {
     "base_uri": "https://localhost:8080/",
     "height": 553
    },
    "id": "16HgLyIQCPti",
    "outputId": "ad73e737-613f-481a-ee2c-9e1cab8edb8a"
   },
   "outputs": [
    {
     "data": {
      "text/html": [
       "<div>\n",
       "<style scoped>\n",
       "    .dataframe tbody tr th:only-of-type {\n",
       "        vertical-align: middle;\n",
       "    }\n",
       "\n",
       "    .dataframe tbody tr th {\n",
       "        vertical-align: top;\n",
       "    }\n",
       "\n",
       "    .dataframe thead th {\n",
       "        text-align: right;\n",
       "    }\n",
       "</style>\n",
       "<table border=\"1\" class=\"dataframe\">\n",
       "  <thead>\n",
       "    <tr style=\"text-align: right;\">\n",
       "      <th></th>\n",
       "      <th>Unnamed: 0</th>\n",
       "      <th>Date received</th>\n",
       "      <th>Product</th>\n",
       "      <th>Sub-product</th>\n",
       "      <th>Issue</th>\n",
       "      <th>Sub-issue</th>\n",
       "      <th>Consumer complaint narrative</th>\n",
       "      <th>Company public response</th>\n",
       "      <th>Company</th>\n",
       "      <th>State</th>\n",
       "      <th>Tags</th>\n",
       "      <th>Consumer consent provided?</th>\n",
       "      <th>Submitted via</th>\n",
       "      <th>Date sent to company</th>\n",
       "      <th>Company response to consumer</th>\n",
       "      <th>Timely response?</th>\n",
       "      <th>Consumer disputed?</th>\n",
       "      <th>Complaint length</th>\n",
       "    </tr>\n",
       "  </thead>\n",
       "  <tbody>\n",
       "    <tr>\n",
       "      <th>0</th>\n",
       "      <td>0</td>\n",
       "      <td>2019-09-24</td>\n",
       "      <td>Debt collection</td>\n",
       "      <td>I do not know</td>\n",
       "      <td>Attempts to collect debt not owed</td>\n",
       "      <td>Debt is not yours</td>\n",
       "      <td>transworld systems inc. is trying to collect a...</td>\n",
       "      <td>NaN</td>\n",
       "      <td>TRANSWORLD SYSTEMS INC</td>\n",
       "      <td>FL</td>\n",
       "      <td>NaN</td>\n",
       "      <td>Consent provided</td>\n",
       "      <td>Web</td>\n",
       "      <td>2019-09-24</td>\n",
       "      <td>Closed with explanation</td>\n",
       "      <td>Yes</td>\n",
       "      <td>NaN</td>\n",
       "      <td>18</td>\n",
       "    </tr>\n",
       "    <tr>\n",
       "      <th>1</th>\n",
       "      <td>1</td>\n",
       "      <td>2019-11-08</td>\n",
       "      <td>Debt collection</td>\n",
       "      <td>I do not know</td>\n",
       "      <td>Communication tactics</td>\n",
       "      <td>Frequent or repeated calls</td>\n",
       "      <td>Over the past 2 weeks, I have been receiving e...</td>\n",
       "      <td>NaN</td>\n",
       "      <td>Diversified Consultants, Inc.</td>\n",
       "      <td>NC</td>\n",
       "      <td>NaN</td>\n",
       "      <td>Consent provided</td>\n",
       "      <td>Web</td>\n",
       "      <td>2019-11-08</td>\n",
       "      <td>Closed with explanation</td>\n",
       "      <td>Yes</td>\n",
       "      <td>NaN</td>\n",
       "      <td>78</td>\n",
       "    </tr>\n",
       "    <tr>\n",
       "      <th>2</th>\n",
       "      <td>2</td>\n",
       "      <td>2019-09-15</td>\n",
       "      <td>Debt collection</td>\n",
       "      <td>Other debt</td>\n",
       "      <td>Attempts to collect debt not owed</td>\n",
       "      <td>Debt was result of identity theft</td>\n",
       "      <td>Pioneer has committed several federal violatio...</td>\n",
       "      <td>NaN</td>\n",
       "      <td>Pioneer Capital Solutions Inc</td>\n",
       "      <td>CA</td>\n",
       "      <td>NaN</td>\n",
       "      <td>Consent provided</td>\n",
       "      <td>Web</td>\n",
       "      <td>2019-09-15</td>\n",
       "      <td>Closed with explanation</td>\n",
       "      <td>Yes</td>\n",
       "      <td>NaN</td>\n",
       "      <td>152</td>\n",
       "    </tr>\n",
       "    <tr>\n",
       "      <th>3</th>\n",
       "      <td>3</td>\n",
       "      <td>2019-07-26</td>\n",
       "      <td>Credit reporting, credit repair services, or o...</td>\n",
       "      <td>Credit reporting</td>\n",
       "      <td>Problem with a credit reporting company's inve...</td>\n",
       "      <td>Their investigation did not fix an error on yo...</td>\n",
       "      <td>Previously, on XX/XX/XXXX, XX/XX/XXXX, and XX/...</td>\n",
       "      <td>Company has responded to the consumer and the ...</td>\n",
       "      <td>Experian Information Solutions Inc.</td>\n",
       "      <td>CA</td>\n",
       "      <td>NaN</td>\n",
       "      <td>Consent provided</td>\n",
       "      <td>Web</td>\n",
       "      <td>2019-07-26</td>\n",
       "      <td>Closed with explanation</td>\n",
       "      <td>Yes</td>\n",
       "      <td>NaN</td>\n",
       "      <td>171</td>\n",
       "    </tr>\n",
       "    <tr>\n",
       "      <th>4</th>\n",
       "      <td>4</td>\n",
       "      <td>2019-07-08</td>\n",
       "      <td>Credit reporting, credit repair services, or o...</td>\n",
       "      <td>Credit reporting</td>\n",
       "      <td>Problem with a credit reporting company's inve...</td>\n",
       "      <td>Their investigation did not fix an error on yo...</td>\n",
       "      <td>Hello This complaint is against the three cred...</td>\n",
       "      <td>Company has responded to the consumer and the ...</td>\n",
       "      <td>TRANSUNION INTERMEDIATE HOLDINGS, INC.</td>\n",
       "      <td>NY</td>\n",
       "      <td>NaN</td>\n",
       "      <td>Consent provided</td>\n",
       "      <td>Web</td>\n",
       "      <td>2019-07-08</td>\n",
       "      <td>Closed with explanation</td>\n",
       "      <td>Yes</td>\n",
       "      <td>NaN</td>\n",
       "      <td>428</td>\n",
       "    </tr>\n",
       "  </tbody>\n",
       "</table>\n",
       "</div>"
      ],
      "text/plain": [
       "   Unnamed: 0 Date received  ... Consumer disputed? Complaint length\n",
       "0           0    2019-09-24  ...                NaN               18\n",
       "1           1    2019-11-08  ...                NaN               78\n",
       "2           2    2019-09-15  ...                NaN              152\n",
       "3           3    2019-07-26  ...                NaN              171\n",
       "4           4    2019-07-08  ...                NaN              428\n",
       "\n",
       "[5 rows x 18 columns]"
      ]
     },
     "execution_count": 7,
     "metadata": {
      "tags": []
     },
     "output_type": "execute_result"
    }
   ],
   "source": [
    "df_narr.head()"
   ]
  },
  {
   "cell_type": "code",
   "execution_count": null,
   "metadata": {
    "colab": {
     "base_uri": "https://localhost:8080/"
    },
    "id": "KA1nLUB2E38_",
    "outputId": "f0839d94-7a9d-4531-f6ed-2c23b4197b48"
   },
   "outputs": [
    {
     "data": {
      "text/plain": [
       "0"
      ]
     },
     "execution_count": 8,
     "metadata": {
      "tags": []
     },
     "output_type": "execute_result"
    }
   ],
   "source": [
    "len(df_narr[df_narr['Complaint length']==1])"
   ]
  },
  {
   "cell_type": "code",
   "execution_count": null,
   "metadata": {
    "colab": {
     "base_uri": "https://localhost:8080/"
    },
    "id": "BhOdbpR4E5J1",
    "outputId": "d9085c21-1514-4648-c34a-a7b085513375"
   },
   "outputs": [
    {
     "data": {
      "text/plain": [
       "(657719, 18)"
      ]
     },
     "execution_count": 9,
     "metadata": {
      "tags": []
     },
     "output_type": "execute_result"
    }
   ],
   "source": [
    "df_narr.shape"
   ]
  },
  {
   "cell_type": "markdown",
   "metadata": {
    "id": "s_4PM2fjFGaB"
   },
   "source": [
    "### Tokenization First (Sentence Tokenization uses Punctuation)"
   ]
  },
  {
   "cell_type": "code",
   "execution_count": null,
   "metadata": {
    "colab": {
     "base_uri": "https://localhost:8080/",
     "height": 206
    },
    "id": "Z5M7-eT0G9Oy",
    "outputId": "67cac064-9355-4cb3-e9d6-707033362e88"
   },
   "outputs": [
    {
     "data": {
      "text/html": [
       "<div>\n",
       "<style scoped>\n",
       "    .dataframe tbody tr th:only-of-type {\n",
       "        vertical-align: middle;\n",
       "    }\n",
       "\n",
       "    .dataframe tbody tr th {\n",
       "        vertical-align: top;\n",
       "    }\n",
       "\n",
       "    .dataframe thead th {\n",
       "        text-align: right;\n",
       "    }\n",
       "</style>\n",
       "<table border=\"1\" class=\"dataframe\">\n",
       "  <thead>\n",
       "    <tr style=\"text-align: right;\">\n",
       "      <th></th>\n",
       "      <th>Consumer complaint narrative</th>\n",
       "    </tr>\n",
       "  </thead>\n",
       "  <tbody>\n",
       "    <tr>\n",
       "      <th>0</th>\n",
       "      <td>transworld systems inc. is trying to collect a...</td>\n",
       "    </tr>\n",
       "    <tr>\n",
       "      <th>1</th>\n",
       "      <td>Over the past 2 weeks, I have been receiving e...</td>\n",
       "    </tr>\n",
       "    <tr>\n",
       "      <th>2</th>\n",
       "      <td>Pioneer has committed several federal violatio...</td>\n",
       "    </tr>\n",
       "    <tr>\n",
       "      <th>3</th>\n",
       "      <td>Previously, on XX/XX/XXXX, XX/XX/XXXX, and XX/...</td>\n",
       "    </tr>\n",
       "    <tr>\n",
       "      <th>4</th>\n",
       "      <td>Hello This complaint is against the three cred...</td>\n",
       "    </tr>\n",
       "  </tbody>\n",
       "</table>\n",
       "</div>"
      ],
      "text/plain": [
       "                        Consumer complaint narrative\n",
       "0  transworld systems inc. is trying to collect a...\n",
       "1  Over the past 2 weeks, I have been receiving e...\n",
       "2  Pioneer has committed several federal violatio...\n",
       "3  Previously, on XX/XX/XXXX, XX/XX/XXXX, and XX/...\n",
       "4  Hello This complaint is against the three cred..."
      ]
     },
     "execution_count": 9,
     "metadata": {
      "tags": []
     },
     "output_type": "execute_result"
    }
   ],
   "source": [
    "narrs = df_narr[['Consumer complaint narrative']]\n",
    "\n",
    "narrs.head()"
   ]
  },
  {
   "cell_type": "code",
   "execution_count": null,
   "metadata": {
    "id": "CBK4yyJWHQW1"
   },
   "outputs": [],
   "source": [
    "narrs_stringed = narrs.convert_dtypes(convert_string=True)"
   ]
  },
  {
   "cell_type": "code",
   "execution_count": null,
   "metadata": {
    "colab": {
     "base_uri": "https://localhost:8080/",
     "height": 66,
     "referenced_widgets": [
      "d11a11e03ccc425c9efa42c8c63f038d",
      "57e39dad8e744557b379fd61544724a3",
      "ce3689f41c1349119da0b0b10319644b",
      "9f4d64c32c5e4406b097d52bad59731c",
      "4200a1312250459da69c538b961f9bb6",
      "c100dd1182e34870b345b6434646d472",
      "411f573cc91c4dde97e46cb078f6b6c8",
      "94968a774ed441788dc5716aa0ad54dd"
     ]
    },
    "id": "IOr8WJbzHMia",
    "outputId": "b0baf74b-ba3a-479d-9d0f-1af414f682b7"
   },
   "outputs": [
    {
     "data": {
      "application/vnd.jupyter.widget-view+json": {
       "model_id": "d11a11e03ccc425c9efa42c8c63f038d",
       "version_major": 2,
       "version_minor": 0
      },
      "text/plain": [
       "HBox(children=(FloatProgress(value=0.0, description='Dask Apply', max=4.0, style=ProgressStyle(description_wid…"
      ]
     },
     "metadata": {
      "tags": []
     },
     "output_type": "display_data"
    },
    {
     "name": "stdout",
     "output_type": "stream",
     "text": [
      "\n"
     ]
    }
   ],
   "source": [
    "narrs_tokenized = narrs_stringed['Consumer complaint narrative'].swifter.apply(sent_tokenize)"
   ]
  },
  {
   "cell_type": "code",
   "execution_count": null,
   "metadata": {
    "id": "YK9darNpO1ti"
   },
   "outputs": [],
   "source": [
    "df_narr['Consumer complaint narrative'] = narrs_tokenized.values"
   ]
  },
  {
   "cell_type": "code",
   "execution_count": null,
   "metadata": {
    "colab": {
     "base_uri": "https://localhost:8080/"
    },
    "id": "hHPR-OR8PPE5",
    "outputId": "6756a487-8442-40dd-d7a0-88ff624a463a"
   },
   "outputs": [
    {
     "name": "stdout",
     "output_type": "stream",
     "text": [
      "Saved to data/narratives.csv\n"
     ]
    }
   ],
   "source": [
    "df_narr.to_csv('/content/drive/MyDrive/Classes/2 Practicum/cfpb_cleaned/data_files/sent_tokenized.csv')\n",
    "print('Saved to data/narratives.csv')"
   ]
  },
  {
   "cell_type": "markdown",
   "metadata": {
    "id": "D65tW5k3P-En"
   },
   "source": [
    "### Cleaning"
   ]
  },
  {
   "cell_type": "code",
   "execution_count": null,
   "metadata": {
    "colab": {
     "base_uri": "https://localhost:8080/"
    },
    "id": "MndGmV5Ms3nD",
    "outputId": "a56e1777-15c9-4b86-ad9f-7020509d98da"
   },
   "outputs": [
    {
     "name": "stdout",
     "output_type": "stream",
     "text": [
      "Saved to Drive\n"
     ]
    }
   ],
   "source": [
    "df_narr.to_csv('sent_tokenized_use.csv')\n",
    "print('Saved to Drive')"
   ]
  },
  {
   "cell_type": "markdown",
   "metadata": {
    "id": "tRnzZTRq_nP1"
   },
   "source": [
    "#### Cleaning Up sent_tokenized_use.csv"
   ]
  },
  {
   "cell_type": "code",
   "execution_count": 4,
   "metadata": {
    "id": "vp_Y12OU_mqD"
   },
   "outputs": [],
   "source": [
    "df_narr = pd.read_csv('sent_tokenized_use.csv')"
   ]
  },
  {
   "cell_type": "code",
   "execution_count": 5,
   "metadata": {
    "colab": {
     "base_uri": "https://localhost:8080/",
     "height": 625
    },
    "id": "_5lC1x6zEyQs",
    "outputId": "5d3e2aec-188c-4e73-e88d-c693f66dfc88"
   },
   "outputs": [
    {
     "data": {
      "text/html": [
       "<div>\n",
       "<style scoped>\n",
       "    .dataframe tbody tr th:only-of-type {\n",
       "        vertical-align: middle;\n",
       "    }\n",
       "\n",
       "    .dataframe tbody tr th {\n",
       "        vertical-align: top;\n",
       "    }\n",
       "\n",
       "    .dataframe thead th {\n",
       "        text-align: right;\n",
       "    }\n",
       "</style>\n",
       "<table border=\"1\" class=\"dataframe\">\n",
       "  <thead>\n",
       "    <tr style=\"text-align: right;\">\n",
       "      <th></th>\n",
       "      <th>Unnamed: 0</th>\n",
       "      <th>Unnamed: 0.1</th>\n",
       "      <th>Unnamed: 0.1.1</th>\n",
       "      <th>Date received</th>\n",
       "      <th>Product</th>\n",
       "      <th>Sub-product</th>\n",
       "      <th>Issue</th>\n",
       "      <th>Sub-issue</th>\n",
       "      <th>Consumer complaint narrative</th>\n",
       "      <th>Company public response</th>\n",
       "      <th>Company</th>\n",
       "      <th>State</th>\n",
       "      <th>Tags</th>\n",
       "      <th>Consumer consent provided?</th>\n",
       "      <th>Submitted via</th>\n",
       "      <th>Date sent to company</th>\n",
       "      <th>Company response to consumer</th>\n",
       "      <th>Timely response?</th>\n",
       "      <th>Consumer disputed?</th>\n",
       "      <th>Complaint length</th>\n",
       "    </tr>\n",
       "  </thead>\n",
       "  <tbody>\n",
       "    <tr>\n",
       "      <th>0</th>\n",
       "      <td>0</td>\n",
       "      <td>0</td>\n",
       "      <td>0</td>\n",
       "      <td>2019-09-24</td>\n",
       "      <td>Debt collection</td>\n",
       "      <td>I do not know</td>\n",
       "      <td>Attempts to collect debt not owed</td>\n",
       "      <td>Debt is not yours</td>\n",
       "      <td>['transworld systems inc. is trying to collect...</td>\n",
       "      <td>NaN</td>\n",
       "      <td>TRANSWORLD SYSTEMS INC</td>\n",
       "      <td>FL</td>\n",
       "      <td>NaN</td>\n",
       "      <td>Consent provided</td>\n",
       "      <td>Web</td>\n",
       "      <td>2019-09-24</td>\n",
       "      <td>Closed with explanation</td>\n",
       "      <td>Yes</td>\n",
       "      <td>NaN</td>\n",
       "      <td>18</td>\n",
       "    </tr>\n",
       "    <tr>\n",
       "      <th>1</th>\n",
       "      <td>1</td>\n",
       "      <td>1</td>\n",
       "      <td>1</td>\n",
       "      <td>2019-11-08</td>\n",
       "      <td>Debt collection</td>\n",
       "      <td>I do not know</td>\n",
       "      <td>Communication tactics</td>\n",
       "      <td>Frequent or repeated calls</td>\n",
       "      <td>['Over the past 2 weeks, I have been receiving...</td>\n",
       "      <td>NaN</td>\n",
       "      <td>Diversified Consultants, Inc.</td>\n",
       "      <td>NC</td>\n",
       "      <td>NaN</td>\n",
       "      <td>Consent provided</td>\n",
       "      <td>Web</td>\n",
       "      <td>2019-11-08</td>\n",
       "      <td>Closed with explanation</td>\n",
       "      <td>Yes</td>\n",
       "      <td>NaN</td>\n",
       "      <td>78</td>\n",
       "    </tr>\n",
       "    <tr>\n",
       "      <th>2</th>\n",
       "      <td>2</td>\n",
       "      <td>2</td>\n",
       "      <td>2</td>\n",
       "      <td>2019-09-15</td>\n",
       "      <td>Debt collection</td>\n",
       "      <td>Other debt</td>\n",
       "      <td>Attempts to collect debt not owed</td>\n",
       "      <td>Debt was result of identity theft</td>\n",
       "      <td>['Pioneer has committed several federal violat...</td>\n",
       "      <td>NaN</td>\n",
       "      <td>Pioneer Capital Solutions Inc</td>\n",
       "      <td>CA</td>\n",
       "      <td>NaN</td>\n",
       "      <td>Consent provided</td>\n",
       "      <td>Web</td>\n",
       "      <td>2019-09-15</td>\n",
       "      <td>Closed with explanation</td>\n",
       "      <td>Yes</td>\n",
       "      <td>NaN</td>\n",
       "      <td>152</td>\n",
       "    </tr>\n",
       "    <tr>\n",
       "      <th>3</th>\n",
       "      <td>3</td>\n",
       "      <td>3</td>\n",
       "      <td>3</td>\n",
       "      <td>2019-07-26</td>\n",
       "      <td>Credit reporting, credit repair services, or o...</td>\n",
       "      <td>Credit reporting</td>\n",
       "      <td>Problem with a credit reporting company's inve...</td>\n",
       "      <td>Their investigation did not fix an error on yo...</td>\n",
       "      <td>['Previously, on XX/XX/XXXX, XX/XX/XXXX, and X...</td>\n",
       "      <td>Company has responded to the consumer and the ...</td>\n",
       "      <td>Experian Information Solutions Inc.</td>\n",
       "      <td>CA</td>\n",
       "      <td>NaN</td>\n",
       "      <td>Consent provided</td>\n",
       "      <td>Web</td>\n",
       "      <td>2019-07-26</td>\n",
       "      <td>Closed with explanation</td>\n",
       "      <td>Yes</td>\n",
       "      <td>NaN</td>\n",
       "      <td>171</td>\n",
       "    </tr>\n",
       "    <tr>\n",
       "      <th>4</th>\n",
       "      <td>4</td>\n",
       "      <td>4</td>\n",
       "      <td>4</td>\n",
       "      <td>2019-07-08</td>\n",
       "      <td>Credit reporting, credit repair services, or o...</td>\n",
       "      <td>Credit reporting</td>\n",
       "      <td>Problem with a credit reporting company's inve...</td>\n",
       "      <td>Their investigation did not fix an error on yo...</td>\n",
       "      <td>['Hello This complaint is against the three cr...</td>\n",
       "      <td>Company has responded to the consumer and the ...</td>\n",
       "      <td>TRANSUNION INTERMEDIATE HOLDINGS, INC.</td>\n",
       "      <td>NY</td>\n",
       "      <td>NaN</td>\n",
       "      <td>Consent provided</td>\n",
       "      <td>Web</td>\n",
       "      <td>2019-07-08</td>\n",
       "      <td>Closed with explanation</td>\n",
       "      <td>Yes</td>\n",
       "      <td>NaN</td>\n",
       "      <td>428</td>\n",
       "    </tr>\n",
       "  </tbody>\n",
       "</table>\n",
       "</div>"
      ],
      "text/plain": [
       "   Unnamed: 0  Unnamed: 0.1  Unnamed: 0.1.1 Date received  \\\n",
       "0           0             0               0    2019-09-24   \n",
       "1           1             1               1    2019-11-08   \n",
       "2           2             2               2    2019-09-15   \n",
       "3           3             3               3    2019-07-26   \n",
       "4           4             4               4    2019-07-08   \n",
       "\n",
       "                                             Product       Sub-product  \\\n",
       "0                                    Debt collection     I do not know   \n",
       "1                                    Debt collection     I do not know   \n",
       "2                                    Debt collection        Other debt   \n",
       "3  Credit reporting, credit repair services, or o...  Credit reporting   \n",
       "4  Credit reporting, credit repair services, or o...  Credit reporting   \n",
       "\n",
       "                                               Issue  \\\n",
       "0                  Attempts to collect debt not owed   \n",
       "1                              Communication tactics   \n",
       "2                  Attempts to collect debt not owed   \n",
       "3  Problem with a credit reporting company's inve...   \n",
       "4  Problem with a credit reporting company's inve...   \n",
       "\n",
       "                                           Sub-issue  \\\n",
       "0                                  Debt is not yours   \n",
       "1                         Frequent or repeated calls   \n",
       "2                  Debt was result of identity theft   \n",
       "3  Their investigation did not fix an error on yo...   \n",
       "4  Their investigation did not fix an error on yo...   \n",
       "\n",
       "                        Consumer complaint narrative  \\\n",
       "0  ['transworld systems inc. is trying to collect...   \n",
       "1  ['Over the past 2 weeks, I have been receiving...   \n",
       "2  ['Pioneer has committed several federal violat...   \n",
       "3  ['Previously, on XX/XX/XXXX, XX/XX/XXXX, and X...   \n",
       "4  ['Hello This complaint is against the three cr...   \n",
       "\n",
       "                             Company public response  \\\n",
       "0                                                NaN   \n",
       "1                                                NaN   \n",
       "2                                                NaN   \n",
       "3  Company has responded to the consumer and the ...   \n",
       "4  Company has responded to the consumer and the ...   \n",
       "\n",
       "                                  Company State Tags  \\\n",
       "0                  TRANSWORLD SYSTEMS INC    FL  NaN   \n",
       "1           Diversified Consultants, Inc.    NC  NaN   \n",
       "2           Pioneer Capital Solutions Inc    CA  NaN   \n",
       "3     Experian Information Solutions Inc.    CA  NaN   \n",
       "4  TRANSUNION INTERMEDIATE HOLDINGS, INC.    NY  NaN   \n",
       "\n",
       "  Consumer consent provided? Submitted via Date sent to company  \\\n",
       "0           Consent provided           Web           2019-09-24   \n",
       "1           Consent provided           Web           2019-11-08   \n",
       "2           Consent provided           Web           2019-09-15   \n",
       "3           Consent provided           Web           2019-07-26   \n",
       "4           Consent provided           Web           2019-07-08   \n",
       "\n",
       "  Company response to consumer Timely response? Consumer disputed?  \\\n",
       "0      Closed with explanation              Yes                NaN   \n",
       "1      Closed with explanation              Yes                NaN   \n",
       "2      Closed with explanation              Yes                NaN   \n",
       "3      Closed with explanation              Yes                NaN   \n",
       "4      Closed with explanation              Yes                NaN   \n",
       "\n",
       "   Complaint length  \n",
       "0                18  \n",
       "1                78  \n",
       "2               152  \n",
       "3               171  \n",
       "4               428  "
      ]
     },
     "execution_count": 5,
     "metadata": {},
     "output_type": "execute_result"
    }
   ],
   "source": [
    "df_narr.head()"
   ]
  },
  {
   "cell_type": "code",
   "execution_count": 6,
   "metadata": {
    "colab": {
     "base_uri": "https://localhost:8080/"
    },
    "id": "lI6zed5yr3_3",
    "outputId": "52e6504c-7ec0-4541-ffcb-181f3b0aeb52"
   },
   "outputs": [
    {
     "data": {
      "text/plain": [
       "str"
      ]
     },
     "execution_count": 6,
     "metadata": {},
     "output_type": "execute_result"
    }
   ],
   "source": [
    "type(df_narr['Consumer complaint narrative'][4]) #this is a string#"
   ]
  },
  {
   "cell_type": "code",
   "execution_count": 7,
   "metadata": {
    "id": "4P2FA_7D1MiA"
   },
   "outputs": [],
   "source": [
    "from tqdm import tqdm\n",
    "tqdm.pandas()\n",
    "\n",
    "def number_free(doc):\n",
    "  number_free = re.sub(r\"\\d+\",\"\",doc)\n",
    "  return number_free"
   ]
  },
  {
   "cell_type": "code",
   "execution_count": 8,
   "metadata": {
    "colab": {
     "base_uri": "https://localhost:8080/",
     "height": 66,
     "referenced_widgets": [
      "cdfdcab52961413ba440638a2a4849c8",
      "a8f089cb6d8641f68d589c4786aac94b",
      "51cdf83fee13456091922b161c31a169",
      "1d93eb26ed6a40a4a58e42744a23867f",
      "7a8e059df12343a3a5ca0c1f208dc09b",
      "b88cf8ff6a014689a069958c122a8081",
      "8de7cdf5a1f845b1a079b7b718fc744b",
      "802ca3a8a09a402a8e3d6f67f8e5f5c4"
     ]
    },
    "id": "jmHRIOH23Czd",
    "outputId": "eee7b2f8-5399-4e63-cb97-fe79647c1cb0"
   },
   "outputs": [
    {
     "data": {
      "application/vnd.jupyter.widget-view+json": {
       "model_id": "bf0c41f53eeb4e2e81dd55d8af7afd45",
       "version_major": 2,
       "version_minor": 0
      },
      "text/plain": [
       "HBox(children=(FloatProgress(value=0.0, description='Pandas Apply', max=657719.0, style=ProgressStyle(descript…"
      ]
     },
     "metadata": {},
     "output_type": "display_data"
    },
    {
     "name": "stdout",
     "output_type": "stream",
     "text": [
      "\n"
     ]
    }
   ],
   "source": [
    "df_narr_clean1 = df_narr['Consumer complaint narrative'].swifter.apply(number_free)"
   ]
  },
  {
   "cell_type": "code",
   "execution_count": 9,
   "metadata": {
    "colab": {
     "base_uri": "https://localhost:8080/"
    },
    "id": "Dnz6I7gM3Xdr",
    "outputId": "6fdf314a-c697-483c-df06-8fec25f057b9"
   },
   "outputs": [
    {
     "data": {
      "text/plain": [
       "0         ['transworld systems inc. is trying to collect...\n",
       "1         ['Over the past  weeks, I have been receiving ...\n",
       "2         ['Pioneer has committed several federal violat...\n",
       "3         ['Previously, on XX/XX/XXXX, XX/XX/XXXX, and X...\n",
       "4         ['Hello This complaint is against the three cr...\n",
       "                                ...                        \n",
       "657714    ['I was on automatic payment for my car loan.'...\n",
       "657715    ['I recieved a collections call from an unknow...\n",
       "657716    ['On XXXX XXXX, , I contacted XXXX XXXX, who i...\n",
       "657717    ['I can not get from chase who services my mor...\n",
       "657718    ['I made a payment to CITI XXXX Credit Card on...\n",
       "Name: Consumer complaint narrative, Length: 657719, dtype: object"
      ]
     },
     "execution_count": 9,
     "metadata": {},
     "output_type": "execute_result"
    }
   ],
   "source": [
    "df_narr_clean1"
   ]
  },
  {
   "cell_type": "code",
   "execution_count": 10,
   "metadata": {
    "colab": {
     "base_uri": "https://localhost:8080/"
    },
    "id": "1BVsnyKqD5SQ",
    "outputId": "7f96bee4-f332-4dd3-9ef9-dc7b570dd479"
   },
   "outputs": [
    {
     "data": {
      "text/plain": [
       "str"
      ]
     },
     "execution_count": 10,
     "metadata": {},
     "output_type": "execute_result"
    }
   ],
   "source": [
    "type(df_narr_clean1[4])"
   ]
  },
  {
   "cell_type": "code",
   "execution_count": 90,
   "metadata": {
    "id": "ZBgf2OTc2H7f"
   },
   "outputs": [],
   "source": [
    "def odd_tokens_free(doc):\n",
    "  processed = re.sub(\"(xx|xxxx|XX|XXXX)\",\"\",doc)\n",
    "  return processed"
   ]
  },
  {
   "cell_type": "code",
   "execution_count": 91,
   "metadata": {
    "colab": {
     "base_uri": "https://localhost:8080/",
     "height": 66,
     "referenced_widgets": [
      "add4de72b516486c8e3f813b688acf40",
      "41af9de51a5d4fe582cebbc3bf45fe43",
      "ace2dcf87ec343c48b1c8cd0907d4e08",
      "0bb7e7cc19034765afed79abd229a7e2",
      "6e3805bfd9004b09a23da78c795af690",
      "21e41e23049b42ba99bdd85874370238",
      "f1496c53574541708df4545c9bdfc89c",
      "d095d1fc9c3342968efa2eda344b2715"
     ]
    },
    "id": "cFnh0WGSHS5P",
    "outputId": "29fac615-b623-430e-ac83-38e9fc8c727f"
   },
   "outputs": [
    {
     "data": {
      "application/vnd.jupyter.widget-view+json": {
       "model_id": "4173d6915fcf41be9dec03434f106875",
       "version_major": 2,
       "version_minor": 0
      },
      "text/plain": [
       "HBox(children=(FloatProgress(value=0.0, description='Pandas Apply', max=657719.0, style=ProgressStyle(descript…"
      ]
     },
     "metadata": {},
     "output_type": "display_data"
    },
    {
     "name": "stdout",
     "output_type": "stream",
     "text": [
      "\n"
     ]
    }
   ],
   "source": [
    "df_narr_clean2 = df_narr_clean1.swifter.apply(odd_tokens_free)"
   ]
  },
  {
   "cell_type": "code",
   "execution_count": 92,
   "metadata": {},
   "outputs": [
    {
     "data": {
      "text/plain": [
       "\"['Pioneer has committed several federal violations against me, a Private law abiding Federally Protected Consumer.', 'Each violation is a statutory cost of {$.} each, which does not include my personal cost and fees which shall be determined for taking time to address these issues.', 'Violations committed against me include but not limited to : (  ) Violated  USC c ( a ) ; Communication without prior consent, expressed permission.', '(  ) Violated  USC d ; Harass and oppressive use of intercourse about an alleged debt.', '(  ) Violated  USC d ( l ) ; Attacking my reputation, accusing me of owing an alleged debt to you.', '(  ) Violated  USC e (  ) ; Use/distribution of communication with authorization or approval.', '(  ) Violated  USC f ( l ) ; Attempting to collect a debt unauthorized by an agreement between parties.']\""
      ]
     },
     "execution_count": 92,
     "metadata": {},
     "output_type": "execute_result"
    }
   ],
   "source": [
    "df_narr_clean2[2] "
   ]
  },
  {
   "cell_type": "code",
   "execution_count": 104,
   "metadata": {},
   "outputs": [],
   "source": [
    "def string_to_list(doc):\n",
    "  import ast\n",
    "  lists = ast.literal_eval(doc.replace('\\r','\\\\r').replace('\\n','\\\\n').replace(\"\\\\x\", '').replace(\"\\\\u\", '')) #Resolve unicode errors \n",
    "  return lists"
   ]
  },
  {
   "cell_type": "code",
   "execution_count": 105,
   "metadata": {},
   "outputs": [
    {
     "data": {
      "application/vnd.jupyter.widget-view+json": {
       "model_id": "53ad3ef59e224a30a1091338d9e09d3c",
       "version_major": 2,
       "version_minor": 0
      },
      "text/plain": [
       "HBox(children=(FloatProgress(value=0.0, description='Pandas Apply', max=657719.0, style=ProgressStyle(descript…"
      ]
     },
     "metadata": {},
     "output_type": "display_data"
    },
    {
     "name": "stdout",
     "output_type": "stream",
     "text": [
      "\n"
     ]
    }
   ],
   "source": [
    "df_narr_clean3 = df_narr_clean2.swifter.apply(string_to_list)"
   ]
  },
  {
   "cell_type": "code",
   "execution_count": 106,
   "metadata": {},
   "outputs": [
    {
     "data": {
      "text/plain": [
       "['Pioneer has committed several federal violations against me, a Private law abiding Federally Protected Consumer.',\n",
       " 'Each violation is a statutory cost of {$.} each, which does not include my personal cost and fees which shall be determined for taking time to address these issues.',\n",
       " 'Violations committed against me include but not limited to : (  ) Violated  USC c ( a ) ; Communication without prior consent, expressed permission.',\n",
       " '(  ) Violated  USC d ; Harass and oppressive use of intercourse about an alleged debt.',\n",
       " '(  ) Violated  USC d ( l ) ; Attacking my reputation, accusing me of owing an alleged debt to you.',\n",
       " '(  ) Violated  USC e (  ) ; Use/distribution of communication with authorization or approval.',\n",
       " '(  ) Violated  USC f ( l ) ; Attempting to collect a debt unauthorized by an agreement between parties.']"
      ]
     },
     "execution_count": 106,
     "metadata": {},
     "output_type": "execute_result"
    }
   ],
   "source": [
    "df_narr_clean3[2]"
   ]
  },
  {
   "cell_type": "code",
   "execution_count": 167,
   "metadata": {},
   "outputs": [],
   "source": [
    "def lowering(doc):\n",
    "    lowered = \" \".join([sentence.lower() for sentence in doc])\n",
    "    return lowered"
   ]
  },
  {
   "cell_type": "code",
   "execution_count": 168,
   "metadata": {},
   "outputs": [
    {
     "data": {
      "application/vnd.jupyter.widget-view+json": {
       "model_id": "d9d4d32bd6524057bf4a3b78e32fc11b",
       "version_major": 2,
       "version_minor": 0
      },
      "text/plain": [
       "HBox(children=(FloatProgress(value=0.0, description='Pandas Apply', max=657719.0, style=ProgressStyle(descript…"
      ]
     },
     "metadata": {},
     "output_type": "display_data"
    },
    {
     "name": "stdout",
     "output_type": "stream",
     "text": [
      "\n"
     ]
    }
   ],
   "source": [
    "df_narr_clean4 = df_narr_clean3.progress_apply(lowering)"
   ]
  },
  {
   "cell_type": "code",
   "execution_count": 169,
   "metadata": {},
   "outputs": [
    {
     "data": {
      "text/plain": [
       "'pioneer has committed several federal violations against me, a private law abiding federally protected consumer. each violation is a statutory cost of {$.} each, which does not include my personal cost and fees which shall be determined for taking time to address these issues. violations committed against me include but not limited to : (  ) violated  usc c ( a ) ; communication without prior consent, expressed permission. (  ) violated  usc d ; harass and oppressive use of intercourse about an alleged debt. (  ) violated  usc d ( l ) ; attacking my reputation, accusing me of owing an alleged debt to you. (  ) violated  usc e (  ) ; use/distribution of communication with authorization or approval. (  ) violated  usc f ( l ) ; attempting to collect a debt unauthorized by an agreement between parties.'"
      ]
     },
     "execution_count": 169,
     "metadata": {},
     "output_type": "execute_result"
    }
   ],
   "source": [
    "df_narr_clean4[2]"
   ]
  },
  {
   "cell_type": "code",
   "execution_count": null,
   "metadata": {},
   "outputs": [],
   "source": []
  },
  {
   "cell_type": "code",
   "execution_count": 173,
   "metadata": {},
   "outputs": [],
   "source": [
    "stop_words = set(stopwords.words('english'))\n",
    "\n",
    "def stop_free(doc): \n",
    "  stop_words = set(stopwords.words('english'))\n",
    "  stop_rem = \" \".join([word for word in doc.split() if word not in stop_words])\n",
    "  return stop_rem"
   ]
  },
  {
   "cell_type": "code",
   "execution_count": 174,
   "metadata": {},
   "outputs": [
    {
     "data": {
      "application/vnd.jupyter.widget-view+json": {
       "model_id": "58bbf66d699e4908be896157bb4e96eb",
       "version_major": 2,
       "version_minor": 0
      },
      "text/plain": [
       "HBox(children=(FloatProgress(value=0.0, description='Pandas Apply', max=657719.0, style=ProgressStyle(descript…"
      ]
     },
     "metadata": {},
     "output_type": "display_data"
    },
    {
     "name": "stdout",
     "output_type": "stream",
     "text": [
      "\n"
     ]
    }
   ],
   "source": [
    "df_narr_clean5 = df_narr_clean4.swifter.apply(stop_free)"
   ]
  },
  {
   "cell_type": "code",
   "execution_count": 175,
   "metadata": {},
   "outputs": [
    {
     "data": {
      "text/plain": [
       "'pioneer committed several federal violations me, private law abiding federally protected consumer. violation statutory cost {$.} each, include personal cost fees shall determined taking time address issues. violations committed include limited : ( ) violated usc c ( ) ; communication without prior consent, expressed permission. ( ) violated usc ; harass oppressive use intercourse alleged debt. ( ) violated usc ( l ) ; attacking reputation, accusing owing alleged debt you. ( ) violated usc e ( ) ; use/distribution communication authorization approval. ( ) violated usc f ( l ) ; attempting collect debt unauthorized agreement parties.'"
      ]
     },
     "execution_count": 175,
     "metadata": {},
     "output_type": "execute_result"
    }
   ],
   "source": [
    "df_narr_clean5[2]"
   ]
  },
  {
   "cell_type": "code",
   "execution_count": 176,
   "metadata": {},
   "outputs": [],
   "source": [
    "from nltk.stem import PorterStemmer \n",
    "ps = PorterStemmer()\n",
    "\n",
    "def stemmer(doc):\n",
    "  stemmed = \" \".join([ps.stem(i) for i in doc.split()])\n",
    "  return stemmed"
   ]
  },
  {
   "cell_type": "code",
   "execution_count": 177,
   "metadata": {},
   "outputs": [
    {
     "data": {
      "application/vnd.jupyter.widget-view+json": {
       "model_id": "328e2ea0749f436d8aa6d7fce75760e3",
       "version_major": 2,
       "version_minor": 0
      },
      "text/plain": [
       "HBox(children=(FloatProgress(value=0.0, description='Pandas Apply', max=657719.0, style=ProgressStyle(descript…"
      ]
     },
     "metadata": {},
     "output_type": "display_data"
    },
    {
     "name": "stdout",
     "output_type": "stream",
     "text": [
      "\n"
     ]
    }
   ],
   "source": [
    "df_narr_clean6 = df_narr_clean5.progress_apply(stemmer)"
   ]
  },
  {
   "cell_type": "code",
   "execution_count": 178,
   "metadata": {},
   "outputs": [
    {
     "data": {
      "text/plain": [
       "'pioneer commit sever feder violat me, privat law abid feder protect consumer. violat statutori cost {$.} each, includ person cost fee shall determin take time address issues. violat commit includ limit : ( ) violat usc c ( ) ; commun without prior consent, express permission. ( ) violat usc ; harass oppress use intercours alleg debt. ( ) violat usc ( l ) ; attack reputation, accus owe alleg debt you. ( ) violat usc e ( ) ; use/distribut commun author approval. ( ) violat usc f ( l ) ; attempt collect debt unauthor agreement parties.'"
      ]
     },
     "execution_count": 178,
     "metadata": {},
     "output_type": "execute_result"
    }
   ],
   "source": [
    "df_narr_clean6[2]"
   ]
  },
  {
   "cell_type": "markdown",
   "metadata": {},
   "source": [
    "### Need to sentence tokenize again"
   ]
  },
  {
   "cell_type": "code",
   "execution_count": 179,
   "metadata": {},
   "outputs": [
    {
     "data": {
      "application/vnd.jupyter.widget-view+json": {
       "model_id": "a928b05299164b599e728a18b079ff91",
       "version_major": 2,
       "version_minor": 0
      },
      "text/plain": [
       "HBox(children=(FloatProgress(value=0.0, description='Pandas Apply', max=657719.0, style=ProgressStyle(descript…"
      ]
     },
     "metadata": {},
     "output_type": "display_data"
    },
    {
     "name": "stdout",
     "output_type": "stream",
     "text": [
      "\n"
     ]
    }
   ],
   "source": [
    "narrs_tokenized7 = df_narr_clean6.swifter.apply(sent_tokenize)"
   ]
  },
  {
   "cell_type": "code",
   "execution_count": 180,
   "metadata": {},
   "outputs": [
    {
     "data": {
      "text/plain": [
       "['pioneer commit sever feder violat me, privat law abid feder protect consumer.',\n",
       " 'violat statutori cost {$.}',\n",
       " 'each, includ person cost fee shall determin take time address issues.',\n",
       " 'violat commit includ limit : ( ) violat usc c ( ) ; commun without prior consent, express permission.',\n",
       " '( ) violat usc ; harass oppress use intercours alleg debt.',\n",
       " '( ) violat usc ( l ) ; attack reputation, accus owe alleg debt you.',\n",
       " '( ) violat usc e ( ) ; use/distribut commun author approval.',\n",
       " '( ) violat usc f ( l ) ; attempt collect debt unauthor agreement parties.']"
      ]
     },
     "execution_count": 180,
     "metadata": {},
     "output_type": "execute_result"
    }
   ],
   "source": [
    "narrs_tokenized7[2]"
   ]
  },
  {
   "cell_type": "markdown",
   "metadata": {},
   "source": [
    "### Punctuation"
   ]
  },
  {
   "cell_type": "code",
   "execution_count": 195,
   "metadata": {},
   "outputs": [],
   "source": [
    "def punc_free(doc):\n",
    "  exclude = set(string.punctuation)\n",
    "  punc_free = [''.join(c for c in s if c not in exclude) for s in doc]\n",
    "  return punc_free"
   ]
  },
  {
   "cell_type": "code",
   "execution_count": 196,
   "metadata": {},
   "outputs": [
    {
     "data": {
      "application/vnd.jupyter.widget-view+json": {
       "model_id": "08646221970c4d10ab555ae262f3d991",
       "version_major": 2,
       "version_minor": 0
      },
      "text/plain": [
       "HBox(children=(FloatProgress(value=0.0, description='Pandas Apply', max=657719.0, style=ProgressStyle(descript…"
      ]
     },
     "metadata": {},
     "output_type": "display_data"
    },
    {
     "name": "stdout",
     "output_type": "stream",
     "text": [
      "\n"
     ]
    }
   ],
   "source": [
    "df_narr_clean8 = narrs_tokenized7.swifter.apply(punc_free)"
   ]
  },
  {
   "cell_type": "code",
   "execution_count": 197,
   "metadata": {},
   "outputs": [
    {
     "data": {
      "text/plain": [
       "['pioneer commit sever feder violat me privat law abid feder protect consumer',\n",
       " 'violat statutori cost ',\n",
       " 'each includ person cost fee shall determin take time address issues',\n",
       " 'violat commit includ limit    violat usc c    commun without prior consent express permission',\n",
       " '  violat usc  harass oppress use intercours alleg debt',\n",
       " '  violat usc  l   attack reputation accus owe alleg debt you',\n",
       " '  violat usc e    usedistribut commun author approval',\n",
       " '  violat usc f  l   attempt collect debt unauthor agreement parties']"
      ]
     },
     "execution_count": 197,
     "metadata": {},
     "output_type": "execute_result"
    }
   ],
   "source": [
    "df_narr_clean8[2]"
   ]
  },
  {
   "cell_type": "code",
   "execution_count": 203,
   "metadata": {},
   "outputs": [],
   "source": [
    "def odd_spaces(doc):\n",
    "  well_spaced = [' '.join(foo.split()) for foo in doc]\n",
    "  return well_spaced"
   ]
  },
  {
   "cell_type": "code",
   "execution_count": 204,
   "metadata": {},
   "outputs": [
    {
     "data": {
      "application/vnd.jupyter.widget-view+json": {
       "model_id": "7db182615c8b43dfbf95c94d6afb6fa4",
       "version_major": 2,
       "version_minor": 0
      },
      "text/plain": [
       "HBox(children=(FloatProgress(value=0.0, description='Pandas Apply', max=657719.0, style=ProgressStyle(descript…"
      ]
     },
     "metadata": {},
     "output_type": "display_data"
    },
    {
     "name": "stdout",
     "output_type": "stream",
     "text": [
      "\n"
     ]
    }
   ],
   "source": [
    "df_narr_clean9 = df_narr_clean8.swifter.apply(odd_spaces)"
   ]
  },
  {
   "cell_type": "code",
   "execution_count": 205,
   "metadata": {},
   "outputs": [
    {
     "data": {
      "text/plain": [
       "['pioneer commit sever feder violat me privat law abid feder protect consumer',\n",
       " 'violat statutori cost',\n",
       " 'each includ person cost fee shall determin take time address issues',\n",
       " 'violat commit includ limit violat usc c commun without prior consent express permission',\n",
       " 'violat usc harass oppress use intercours alleg debt',\n",
       " 'violat usc l attack reputation accus owe alleg debt you',\n",
       " 'violat usc e usedistribut commun author approval',\n",
       " 'violat usc f l attempt collect debt unauthor agreement parties']"
      ]
     },
     "execution_count": 205,
     "metadata": {},
     "output_type": "execute_result"
    }
   ],
   "source": [
    "df_narr_clean9[2]"
   ]
  },
  {
   "cell_type": "code",
   "execution_count": 206,
   "metadata": {},
   "outputs": [
    {
     "data": {
      "text/plain": [
       "pandas.core.series.Series"
      ]
     },
     "execution_count": 206,
     "metadata": {},
     "output_type": "execute_result"
    }
   ],
   "source": [
    "type(df_narr_clean9)"
   ]
  },
  {
   "cell_type": "code",
   "execution_count": 207,
   "metadata": {},
   "outputs": [],
   "source": [
    "df_narr['narrs_cleaned_sent_tokenized'] = df_narr_clean9"
   ]
  },
  {
   "cell_type": "code",
   "execution_count": 208,
   "metadata": {},
   "outputs": [
    {
     "data": {
      "text/html": [
       "<div>\n",
       "<style scoped>\n",
       "    .dataframe tbody tr th:only-of-type {\n",
       "        vertical-align: middle;\n",
       "    }\n",
       "\n",
       "    .dataframe tbody tr th {\n",
       "        vertical-align: top;\n",
       "    }\n",
       "\n",
       "    .dataframe thead th {\n",
       "        text-align: right;\n",
       "    }\n",
       "</style>\n",
       "<table border=\"1\" class=\"dataframe\">\n",
       "  <thead>\n",
       "    <tr style=\"text-align: right;\">\n",
       "      <th></th>\n",
       "      <th>Unnamed: 0</th>\n",
       "      <th>Unnamed: 0.1</th>\n",
       "      <th>Unnamed: 0.1.1</th>\n",
       "      <th>Date received</th>\n",
       "      <th>Product</th>\n",
       "      <th>Sub-product</th>\n",
       "      <th>Issue</th>\n",
       "      <th>Sub-issue</th>\n",
       "      <th>Consumer complaint narrative</th>\n",
       "      <th>Company public response</th>\n",
       "      <th>...</th>\n",
       "      <th>State</th>\n",
       "      <th>Tags</th>\n",
       "      <th>Consumer consent provided?</th>\n",
       "      <th>Submitted via</th>\n",
       "      <th>Date sent to company</th>\n",
       "      <th>Company response to consumer</th>\n",
       "      <th>Timely response?</th>\n",
       "      <th>Consumer disputed?</th>\n",
       "      <th>Complaint length</th>\n",
       "      <th>narrs_cleaned_sent_tokenized</th>\n",
       "    </tr>\n",
       "  </thead>\n",
       "  <tbody>\n",
       "    <tr>\n",
       "      <th>0</th>\n",
       "      <td>0</td>\n",
       "      <td>0</td>\n",
       "      <td>0</td>\n",
       "      <td>2019-09-24</td>\n",
       "      <td>Debt collection</td>\n",
       "      <td>I do not know</td>\n",
       "      <td>Attempts to collect debt not owed</td>\n",
       "      <td>Debt is not yours</td>\n",
       "      <td>['transworld systems inc. is trying to collect...</td>\n",
       "      <td>NaN</td>\n",
       "      <td>...</td>\n",
       "      <td>FL</td>\n",
       "      <td>NaN</td>\n",
       "      <td>Consent provided</td>\n",
       "      <td>Web</td>\n",
       "      <td>2019-09-24</td>\n",
       "      <td>Closed with explanation</td>\n",
       "      <td>Yes</td>\n",
       "      <td>NaN</td>\n",
       "      <td>18</td>\n",
       "      <td>[transworld system inc tri collect debt mine o...</td>\n",
       "    </tr>\n",
       "    <tr>\n",
       "      <th>1</th>\n",
       "      <td>1</td>\n",
       "      <td>1</td>\n",
       "      <td>1</td>\n",
       "      <td>2019-11-08</td>\n",
       "      <td>Debt collection</td>\n",
       "      <td>I do not know</td>\n",
       "      <td>Communication tactics</td>\n",
       "      <td>Frequent or repeated calls</td>\n",
       "      <td>['Over the past 2 weeks, I have been receiving...</td>\n",
       "      <td>NaN</td>\n",
       "      <td>...</td>\n",
       "      <td>NC</td>\n",
       "      <td>NaN</td>\n",
       "      <td>Consent provided</td>\n",
       "      <td>Web</td>\n",
       "      <td>2019-11-08</td>\n",
       "      <td>Closed with explanation</td>\n",
       "      <td>Yes</td>\n",
       "      <td>NaN</td>\n",
       "      <td>78</td>\n",
       "      <td>[past weeks receiv excess amount telephon call...</td>\n",
       "    </tr>\n",
       "    <tr>\n",
       "      <th>2</th>\n",
       "      <td>2</td>\n",
       "      <td>2</td>\n",
       "      <td>2</td>\n",
       "      <td>2019-09-15</td>\n",
       "      <td>Debt collection</td>\n",
       "      <td>Other debt</td>\n",
       "      <td>Attempts to collect debt not owed</td>\n",
       "      <td>Debt was result of identity theft</td>\n",
       "      <td>['Pioneer has committed several federal violat...</td>\n",
       "      <td>NaN</td>\n",
       "      <td>...</td>\n",
       "      <td>CA</td>\n",
       "      <td>NaN</td>\n",
       "      <td>Consent provided</td>\n",
       "      <td>Web</td>\n",
       "      <td>2019-09-15</td>\n",
       "      <td>Closed with explanation</td>\n",
       "      <td>Yes</td>\n",
       "      <td>NaN</td>\n",
       "      <td>152</td>\n",
       "      <td>[pioneer commit sever feder violat me privat l...</td>\n",
       "    </tr>\n",
       "    <tr>\n",
       "      <th>3</th>\n",
       "      <td>3</td>\n",
       "      <td>3</td>\n",
       "      <td>3</td>\n",
       "      <td>2019-07-26</td>\n",
       "      <td>Credit reporting, credit repair services, or o...</td>\n",
       "      <td>Credit reporting</td>\n",
       "      <td>Problem with a credit reporting company's inve...</td>\n",
       "      <td>Their investigation did not fix an error on yo...</td>\n",
       "      <td>['Previously, on XX/XX/XXXX, XX/XX/XXXX, and X...</td>\n",
       "      <td>Company has responded to the consumer and the ...</td>\n",
       "      <td>...</td>\n",
       "      <td>CA</td>\n",
       "      <td>NaN</td>\n",
       "      <td>Consent provided</td>\n",
       "      <td>Web</td>\n",
       "      <td>2019-07-26</td>\n",
       "      <td>Closed with explanation</td>\n",
       "      <td>Yes</td>\n",
       "      <td>NaN</td>\n",
       "      <td>171</td>\n",
       "      <td>[previously request experian send copi verifi ...</td>\n",
       "    </tr>\n",
       "    <tr>\n",
       "      <th>4</th>\n",
       "      <td>4</td>\n",
       "      <td>4</td>\n",
       "      <td>4</td>\n",
       "      <td>2019-07-08</td>\n",
       "      <td>Credit reporting, credit repair services, or o...</td>\n",
       "      <td>Credit reporting</td>\n",
       "      <td>Problem with a credit reporting company's inve...</td>\n",
       "      <td>Their investigation did not fix an error on yo...</td>\n",
       "      <td>['Hello This complaint is against the three cr...</td>\n",
       "      <td>Company has responded to the consumer and the ...</td>\n",
       "      <td>...</td>\n",
       "      <td>NY</td>\n",
       "      <td>NaN</td>\n",
       "      <td>Consent provided</td>\n",
       "      <td>Web</td>\n",
       "      <td>2019-07-08</td>\n",
       "      <td>Closed with explanation</td>\n",
       "      <td>Yes</td>\n",
       "      <td>NaN</td>\n",
       "      <td>428</td>\n",
       "      <td>[hello complaint three credit report companies...</td>\n",
       "    </tr>\n",
       "    <tr>\n",
       "      <th>...</th>\n",
       "      <td>...</td>\n",
       "      <td>...</td>\n",
       "      <td>...</td>\n",
       "      <td>...</td>\n",
       "      <td>...</td>\n",
       "      <td>...</td>\n",
       "      <td>...</td>\n",
       "      <td>...</td>\n",
       "      <td>...</td>\n",
       "      <td>...</td>\n",
       "      <td>...</td>\n",
       "      <td>...</td>\n",
       "      <td>...</td>\n",
       "      <td>...</td>\n",
       "      <td>...</td>\n",
       "      <td>...</td>\n",
       "      <td>...</td>\n",
       "      <td>...</td>\n",
       "      <td>...</td>\n",
       "      <td>...</td>\n",
       "      <td>...</td>\n",
       "    </tr>\n",
       "    <tr>\n",
       "      <th>657714</th>\n",
       "      <td>657714</td>\n",
       "      <td>657714</td>\n",
       "      <td>657714</td>\n",
       "      <td>2016-07-11</td>\n",
       "      <td>Consumer Loan</td>\n",
       "      <td>Vehicle loan</td>\n",
       "      <td>Managing the loan or lease</td>\n",
       "      <td>NaN</td>\n",
       "      <td>['I was on automatic payment for my car loan.'...</td>\n",
       "      <td>NaN</td>\n",
       "      <td>...</td>\n",
       "      <td>IL</td>\n",
       "      <td>NaN</td>\n",
       "      <td>Consent provided</td>\n",
       "      <td>Web</td>\n",
       "      <td>2016-07-11</td>\n",
       "      <td>Closed with explanation</td>\n",
       "      <td>Yes</td>\n",
       "      <td>No</td>\n",
       "      <td>100</td>\n",
       "      <td>[automat payment car loan, fine print supposed...</td>\n",
       "    </tr>\n",
       "    <tr>\n",
       "      <th>657715</th>\n",
       "      <td>657715</td>\n",
       "      <td>657715</td>\n",
       "      <td>657715</td>\n",
       "      <td>2017-01-24</td>\n",
       "      <td>Debt collection</td>\n",
       "      <td>I do not know</td>\n",
       "      <td>Communication tactics</td>\n",
       "      <td>Threatened to take legal action</td>\n",
       "      <td>['I recieved a collections call from an unknow...</td>\n",
       "      <td>Company has responded to the consumer and the ...</td>\n",
       "      <td>...</td>\n",
       "      <td>CA</td>\n",
       "      <td>NaN</td>\n",
       "      <td>Consent provided</td>\n",
       "      <td>Web</td>\n",
       "      <td>2017-01-24</td>\n",
       "      <td>Closed with explanation</td>\n",
       "      <td>Yes</td>\n",
       "      <td>No</td>\n",
       "      <td>92</td>\n",
       "      <td>[reciev collect call unknown compani morn hosp...</td>\n",
       "    </tr>\n",
       "    <tr>\n",
       "      <th>657716</th>\n",
       "      <td>657716</td>\n",
       "      <td>657716</td>\n",
       "      <td>657716</td>\n",
       "      <td>2015-03-26</td>\n",
       "      <td>Mortgage</td>\n",
       "      <td>FHA mortgage</td>\n",
       "      <td>Loan servicing, payments, escrow account</td>\n",
       "      <td>NaN</td>\n",
       "      <td>['On XXXX XXXX, 2015, I contacted XXXX XXXX, w...</td>\n",
       "      <td>NaN</td>\n",
       "      <td>...</td>\n",
       "      <td>CA</td>\n",
       "      <td>NaN</td>\n",
       "      <td>Consent provided</td>\n",
       "      <td>Web</td>\n",
       "      <td>2015-03-26</td>\n",
       "      <td>Closed with monetary relief</td>\n",
       "      <td>Yes</td>\n",
       "      <td>No</td>\n",
       "      <td>331</td>\n",
       "      <td>[contact branch manag gateway funding learn lo...</td>\n",
       "    </tr>\n",
       "    <tr>\n",
       "      <th>657717</th>\n",
       "      <td>657717</td>\n",
       "      <td>657717</td>\n",
       "      <td>657717</td>\n",
       "      <td>2015-12-12</td>\n",
       "      <td>Mortgage</td>\n",
       "      <td>Conventional adjustable mortgage (ARM)</td>\n",
       "      <td>Loan servicing, payments, escrow account</td>\n",
       "      <td>NaN</td>\n",
       "      <td>['I can not get from chase who services my mor...</td>\n",
       "      <td>NaN</td>\n",
       "      <td>...</td>\n",
       "      <td>NY</td>\n",
       "      <td>NaN</td>\n",
       "      <td>Consent provided</td>\n",
       "      <td>Web</td>\n",
       "      <td>2015-12-12</td>\n",
       "      <td>Closed with explanation</td>\n",
       "      <td>Yes</td>\n",
       "      <td>No</td>\n",
       "      <td>21</td>\n",
       "      <td>[get chase servic mortgage own origin loan doc...</td>\n",
       "    </tr>\n",
       "    <tr>\n",
       "      <th>657718</th>\n",
       "      <td>657718</td>\n",
       "      <td>657718</td>\n",
       "      <td>657718</td>\n",
       "      <td>2016-08-09</td>\n",
       "      <td>Credit card</td>\n",
       "      <td>NaN</td>\n",
       "      <td>Transaction issue</td>\n",
       "      <td>NaN</td>\n",
       "      <td>['I made a payment to CITI XXXX Credit Card on...</td>\n",
       "      <td>Company has responded to the consumer and the ...</td>\n",
       "      <td>...</td>\n",
       "      <td>WI</td>\n",
       "      <td>NaN</td>\n",
       "      <td>Consent provided</td>\n",
       "      <td>Web</td>\n",
       "      <td>2016-08-09</td>\n",
       "      <td>Closed with non-monetary relief</td>\n",
       "      <td>Yes</td>\n",
       "      <td>No</td>\n",
       "      <td>340</td>\n",
       "      <td>[made payment citi credit card use citi prepai...</td>\n",
       "    </tr>\n",
       "  </tbody>\n",
       "</table>\n",
       "<p>657719 rows × 21 columns</p>\n",
       "</div>"
      ],
      "text/plain": [
       "        Unnamed: 0  Unnamed: 0.1  Unnamed: 0.1.1 Date received  \\\n",
       "0                0             0               0    2019-09-24   \n",
       "1                1             1               1    2019-11-08   \n",
       "2                2             2               2    2019-09-15   \n",
       "3                3             3               3    2019-07-26   \n",
       "4                4             4               4    2019-07-08   \n",
       "...            ...           ...             ...           ...   \n",
       "657714      657714        657714          657714    2016-07-11   \n",
       "657715      657715        657715          657715    2017-01-24   \n",
       "657716      657716        657716          657716    2015-03-26   \n",
       "657717      657717        657717          657717    2015-12-12   \n",
       "657718      657718        657718          657718    2016-08-09   \n",
       "\n",
       "                                                  Product  \\\n",
       "0                                         Debt collection   \n",
       "1                                         Debt collection   \n",
       "2                                         Debt collection   \n",
       "3       Credit reporting, credit repair services, or o...   \n",
       "4       Credit reporting, credit repair services, or o...   \n",
       "...                                                   ...   \n",
       "657714                                      Consumer Loan   \n",
       "657715                                    Debt collection   \n",
       "657716                                           Mortgage   \n",
       "657717                                           Mortgage   \n",
       "657718                                        Credit card   \n",
       "\n",
       "                                   Sub-product  \\\n",
       "0                                I do not know   \n",
       "1                                I do not know   \n",
       "2                                   Other debt   \n",
       "3                             Credit reporting   \n",
       "4                             Credit reporting   \n",
       "...                                        ...   \n",
       "657714                            Vehicle loan   \n",
       "657715                           I do not know   \n",
       "657716                            FHA mortgage   \n",
       "657717  Conventional adjustable mortgage (ARM)   \n",
       "657718                                     NaN   \n",
       "\n",
       "                                                    Issue  \\\n",
       "0                       Attempts to collect debt not owed   \n",
       "1                                   Communication tactics   \n",
       "2                       Attempts to collect debt not owed   \n",
       "3       Problem with a credit reporting company's inve...   \n",
       "4       Problem with a credit reporting company's inve...   \n",
       "...                                                   ...   \n",
       "657714                         Managing the loan or lease   \n",
       "657715                              Communication tactics   \n",
       "657716           Loan servicing, payments, escrow account   \n",
       "657717           Loan servicing, payments, escrow account   \n",
       "657718                                  Transaction issue   \n",
       "\n",
       "                                                Sub-issue  \\\n",
       "0                                       Debt is not yours   \n",
       "1                              Frequent or repeated calls   \n",
       "2                       Debt was result of identity theft   \n",
       "3       Their investigation did not fix an error on yo...   \n",
       "4       Their investigation did not fix an error on yo...   \n",
       "...                                                   ...   \n",
       "657714                                                NaN   \n",
       "657715                    Threatened to take legal action   \n",
       "657716                                                NaN   \n",
       "657717                                                NaN   \n",
       "657718                                                NaN   \n",
       "\n",
       "                             Consumer complaint narrative  \\\n",
       "0       ['transworld systems inc. is trying to collect...   \n",
       "1       ['Over the past 2 weeks, I have been receiving...   \n",
       "2       ['Pioneer has committed several federal violat...   \n",
       "3       ['Previously, on XX/XX/XXXX, XX/XX/XXXX, and X...   \n",
       "4       ['Hello This complaint is against the three cr...   \n",
       "...                                                   ...   \n",
       "657714  ['I was on automatic payment for my car loan.'...   \n",
       "657715  ['I recieved a collections call from an unknow...   \n",
       "657716  ['On XXXX XXXX, 2015, I contacted XXXX XXXX, w...   \n",
       "657717  ['I can not get from chase who services my mor...   \n",
       "657718  ['I made a payment to CITI XXXX Credit Card on...   \n",
       "\n",
       "                                  Company public response  ... State Tags  \\\n",
       "0                                                     NaN  ...    FL  NaN   \n",
       "1                                                     NaN  ...    NC  NaN   \n",
       "2                                                     NaN  ...    CA  NaN   \n",
       "3       Company has responded to the consumer and the ...  ...    CA  NaN   \n",
       "4       Company has responded to the consumer and the ...  ...    NY  NaN   \n",
       "...                                                   ...  ...   ...  ...   \n",
       "657714                                                NaN  ...    IL  NaN   \n",
       "657715  Company has responded to the consumer and the ...  ...    CA  NaN   \n",
       "657716                                                NaN  ...    CA  NaN   \n",
       "657717                                                NaN  ...    NY  NaN   \n",
       "657718  Company has responded to the consumer and the ...  ...    WI  NaN   \n",
       "\n",
       "       Consumer consent provided? Submitted via Date sent to company  \\\n",
       "0                Consent provided           Web           2019-09-24   \n",
       "1                Consent provided           Web           2019-11-08   \n",
       "2                Consent provided           Web           2019-09-15   \n",
       "3                Consent provided           Web           2019-07-26   \n",
       "4                Consent provided           Web           2019-07-08   \n",
       "...                           ...           ...                  ...   \n",
       "657714           Consent provided           Web           2016-07-11   \n",
       "657715           Consent provided           Web           2017-01-24   \n",
       "657716           Consent provided           Web           2015-03-26   \n",
       "657717           Consent provided           Web           2015-12-12   \n",
       "657718           Consent provided           Web           2016-08-09   \n",
       "\n",
       "           Company response to consumer Timely response? Consumer disputed?  \\\n",
       "0               Closed with explanation              Yes                NaN   \n",
       "1               Closed with explanation              Yes                NaN   \n",
       "2               Closed with explanation              Yes                NaN   \n",
       "3               Closed with explanation              Yes                NaN   \n",
       "4               Closed with explanation              Yes                NaN   \n",
       "...                                 ...              ...                ...   \n",
       "657714          Closed with explanation              Yes                 No   \n",
       "657715          Closed with explanation              Yes                 No   \n",
       "657716      Closed with monetary relief              Yes                 No   \n",
       "657717          Closed with explanation              Yes                 No   \n",
       "657718  Closed with non-monetary relief              Yes                 No   \n",
       "\n",
       "       Complaint length                       narrs_cleaned_sent_tokenized  \n",
       "0                    18  [transworld system inc tri collect debt mine o...  \n",
       "1                    78  [past weeks receiv excess amount telephon call...  \n",
       "2                   152  [pioneer commit sever feder violat me privat l...  \n",
       "3                   171  [previously request experian send copi verifi ...  \n",
       "4                   428  [hello complaint three credit report companies...  \n",
       "...                 ...                                                ...  \n",
       "657714              100  [automat payment car loan, fine print supposed...  \n",
       "657715               92  [reciev collect call unknown compani morn hosp...  \n",
       "657716              331  [contact branch manag gateway funding learn lo...  \n",
       "657717               21  [get chase servic mortgage own origin loan doc...  \n",
       "657718              340  [made payment citi credit card use citi prepai...  \n",
       "\n",
       "[657719 rows x 21 columns]"
      ]
     },
     "execution_count": 208,
     "metadata": {},
     "output_type": "execute_result"
    }
   ],
   "source": [
    "df_narr"
   ]
  },
  {
   "cell_type": "code",
   "execution_count": 210,
   "metadata": {},
   "outputs": [
    {
     "data": {
      "text/plain": [
       "['pioneer commit sever feder violat me privat law abid feder protect consumer',\n",
       " 'violat statutori cost',\n",
       " 'each includ person cost fee shall determin take time address issues',\n",
       " 'violat commit includ limit violat usc c commun without prior consent express permission',\n",
       " 'violat usc harass oppress use intercours alleg debt',\n",
       " 'violat usc l attack reputation accus owe alleg debt you',\n",
       " 'violat usc e usedistribut commun author approval',\n",
       " 'violat usc f l attempt collect debt unauthor agreement parties']"
      ]
     },
     "execution_count": 210,
     "metadata": {},
     "output_type": "execute_result"
    }
   ],
   "source": [
    "df_narr['narrs_cleaned_sent_tokenized'][2]"
   ]
  },
  {
   "cell_type": "code",
   "execution_count": 212,
   "metadata": {},
   "outputs": [
    {
     "data": {
      "text/plain": [
       "(657719, 21)"
      ]
     },
     "execution_count": 212,
     "metadata": {},
     "output_type": "execute_result"
    }
   ],
   "source": [
    "df_narr.shape"
   ]
  },
  {
   "cell_type": "code",
   "execution_count": 211,
   "metadata": {
    "id": "FfekZpNZGZyB"
   },
   "outputs": [
    {
     "name": "stdout",
     "output_type": "stream",
     "text": [
      "Saved to Local\n"
     ]
    }
   ],
   "source": [
    "df_narr.to_csv('/Users/kagenlim/Documents/data_files/narrs_cleaned_sent_tokenized.csv')\n",
    "print('Saved to Local')"
   ]
  },
  {
   "cell_type": "markdown",
   "metadata": {
    "id": "kXwL6J3qQDoG"
   },
   "source": [
    "## Partial Data"
   ]
  },
  {
   "cell_type": "code",
   "execution_count": null,
   "metadata": {
    "id": "pV3xpA1JBS6v"
   },
   "outputs": [],
   "source": [
    "def loadGloveModel(gloveFile):\n",
    "    word_embeddings = {}\n",
    "    f = open(gloveFile, encoding='utf-8')\n",
    "    for line in f:\n",
    "        values = line.split()\n",
    "        word = values[0]\n",
    "        coefs = np.asarray(values[1:], dtype='float32')\n",
    "        word_embeddings[word] = coefs\n",
    "    f.close()\n",
    "    return word_embeddings"
   ]
  },
  {
   "cell_type": "code",
   "execution_count": null,
   "metadata": {
    "id": "5cp08P0NBgQr"
   },
   "outputs": [],
   "source": [
    "word_embeddings = loadGloveModel(gloveFile)\n",
    "print(\"Vocab Size = \",len(word_embeddings))"
   ]
  },
  {
   "cell_type": "markdown",
   "metadata": {
    "id": "-P6NCMONAwA7"
   },
   "source": [
    "## Full Model"
   ]
  },
  {
   "cell_type": "code",
   "execution_count": null,
   "metadata": {
    "id": "pII6urnU_2-w"
   },
   "outputs": [],
   "source": []
  }
 ],
 "metadata": {
  "colab": {
   "collapsed_sections": [],
   "name": "Text_Sum_Trial.ipynb",
   "provenance": [],
   "toc_visible": true
  },
  "kernelspec": {
   "display_name": "Python 3",
   "language": "python",
   "name": "python3"
  },
  "language_info": {
   "codemirror_mode": {
    "name": "ipython",
    "version": 3
   },
   "file_extension": ".py",
   "mimetype": "text/x-python",
   "name": "python",
   "nbconvert_exporter": "python",
   "pygments_lexer": "ipython3",
   "version": "3.7.6"
  },
  "widgets": {
   "application/vnd.jupyter.widget-state+json": {
    "0bb7e7cc19034765afed79abd229a7e2": {
     "model_module": "@jupyter-widgets/controls",
     "model_name": "HTMLModel",
     "state": {
      "_dom_classes": [],
      "_model_module": "@jupyter-widgets/controls",
      "_model_module_version": "1.5.0",
      "_model_name": "HTMLModel",
      "_view_count": null,
      "_view_module": "@jupyter-widgets/controls",
      "_view_module_version": "1.5.0",
      "_view_name": "HTMLView",
      "description": "",
      "description_tooltip": null,
      "layout": "IPY_MODEL_d095d1fc9c3342968efa2eda344b2715",
      "placeholder": "​",
      "style": "IPY_MODEL_f1496c53574541708df4545c9bdfc89c",
      "value": " 657719/657719 [00:20&lt;00:00, 31789.35it/s]"
     }
    },
    "18555c8c21c24ccb83bd73366af18498": {
     "model_module": "@jupyter-widgets/controls",
     "model_name": "ProgressStyleModel",
     "state": {
      "_model_module": "@jupyter-widgets/controls",
      "_model_module_version": "1.5.0",
      "_model_name": "ProgressStyleModel",
      "_view_count": null,
      "_view_module": "@jupyter-widgets/base",
      "_view_module_version": "1.2.0",
      "_view_name": "StyleView",
      "bar_color": null,
      "description_width": "initial"
     }
    },
    "1d93eb26ed6a40a4a58e42744a23867f": {
     "model_module": "@jupyter-widgets/controls",
     "model_name": "HTMLModel",
     "state": {
      "_dom_classes": [],
      "_model_module": "@jupyter-widgets/controls",
      "_model_module_version": "1.5.0",
      "_model_name": "HTMLModel",
      "_view_count": null,
      "_view_module": "@jupyter-widgets/controls",
      "_view_module_version": "1.5.0",
      "_view_name": "HTMLView",
      "description": "",
      "description_tooltip": null,
      "layout": "IPY_MODEL_802ca3a8a09a402a8e3d6f67f8e5f5c4",
      "placeholder": "​",
      "style": "IPY_MODEL_8de7cdf5a1f845b1a079b7b718fc744b",
      "value": " 657719/657719 [00:32&lt;00:00, 20375.34it/s]"
     }
    },
    "21e41e23049b42ba99bdd85874370238": {
     "model_module": "@jupyter-widgets/base",
     "model_name": "LayoutModel",
     "state": {
      "_model_module": "@jupyter-widgets/base",
      "_model_module_version": "1.2.0",
      "_model_name": "LayoutModel",
      "_view_count": null,
      "_view_module": "@jupyter-widgets/base",
      "_view_module_version": "1.2.0",
      "_view_name": "LayoutView",
      "align_content": null,
      "align_items": null,
      "align_self": null,
      "border": null,
      "bottom": null,
      "display": null,
      "flex": null,
      "flex_flow": null,
      "grid_area": null,
      "grid_auto_columns": null,
      "grid_auto_flow": null,
      "grid_auto_rows": null,
      "grid_column": null,
      "grid_gap": null,
      "grid_row": null,
      "grid_template_areas": null,
      "grid_template_columns": null,
      "grid_template_rows": null,
      "height": null,
      "justify_content": null,
      "justify_items": null,
      "left": null,
      "margin": null,
      "max_height": null,
      "max_width": null,
      "min_height": null,
      "min_width": null,
      "object_fit": null,
      "object_position": null,
      "order": null,
      "overflow": null,
      "overflow_x": null,
      "overflow_y": null,
      "padding": null,
      "right": null,
      "top": null,
      "visibility": null,
      "width": null
     }
    },
    "322634b3387542ddbe73b5289e8ac419": {
     "model_module": "@jupyter-widgets/base",
     "model_name": "LayoutModel",
     "state": {
      "_model_module": "@jupyter-widgets/base",
      "_model_module_version": "1.2.0",
      "_model_name": "LayoutModel",
      "_view_count": null,
      "_view_module": "@jupyter-widgets/base",
      "_view_module_version": "1.2.0",
      "_view_name": "LayoutView",
      "align_content": null,
      "align_items": null,
      "align_self": null,
      "border": null,
      "bottom": null,
      "display": null,
      "flex": null,
      "flex_flow": null,
      "grid_area": null,
      "grid_auto_columns": null,
      "grid_auto_flow": null,
      "grid_auto_rows": null,
      "grid_column": null,
      "grid_gap": null,
      "grid_row": null,
      "grid_template_areas": null,
      "grid_template_columns": null,
      "grid_template_rows": null,
      "height": null,
      "justify_content": null,
      "justify_items": null,
      "left": null,
      "margin": null,
      "max_height": null,
      "max_width": null,
      "min_height": null,
      "min_width": null,
      "object_fit": null,
      "object_position": null,
      "order": null,
      "overflow": null,
      "overflow_x": null,
      "overflow_y": null,
      "padding": null,
      "right": null,
      "top": null,
      "visibility": null,
      "width": null
     }
    },
    "411f573cc91c4dde97e46cb078f6b6c8": {
     "model_module": "@jupyter-widgets/controls",
     "model_name": "DescriptionStyleModel",
     "state": {
      "_model_module": "@jupyter-widgets/controls",
      "_model_module_version": "1.5.0",
      "_model_name": "DescriptionStyleModel",
      "_view_count": null,
      "_view_module": "@jupyter-widgets/base",
      "_view_module_version": "1.2.0",
      "_view_name": "StyleView",
      "description_width": ""
     }
    },
    "41af9de51a5d4fe582cebbc3bf45fe43": {
     "model_module": "@jupyter-widgets/base",
     "model_name": "LayoutModel",
     "state": {
      "_model_module": "@jupyter-widgets/base",
      "_model_module_version": "1.2.0",
      "_model_name": "LayoutModel",
      "_view_count": null,
      "_view_module": "@jupyter-widgets/base",
      "_view_module_version": "1.2.0",
      "_view_name": "LayoutView",
      "align_content": null,
      "align_items": null,
      "align_self": null,
      "border": null,
      "bottom": null,
      "display": null,
      "flex": null,
      "flex_flow": null,
      "grid_area": null,
      "grid_auto_columns": null,
      "grid_auto_flow": null,
      "grid_auto_rows": null,
      "grid_column": null,
      "grid_gap": null,
      "grid_row": null,
      "grid_template_areas": null,
      "grid_template_columns": null,
      "grid_template_rows": null,
      "height": null,
      "justify_content": null,
      "justify_items": null,
      "left": null,
      "margin": null,
      "max_height": null,
      "max_width": null,
      "min_height": null,
      "min_width": null,
      "object_fit": null,
      "object_position": null,
      "order": null,
      "overflow": null,
      "overflow_x": null,
      "overflow_y": null,
      "padding": null,
      "right": null,
      "top": null,
      "visibility": null,
      "width": null
     }
    },
    "4200a1312250459da69c538b961f9bb6": {
     "model_module": "@jupyter-widgets/controls",
     "model_name": "ProgressStyleModel",
     "state": {
      "_model_module": "@jupyter-widgets/controls",
      "_model_module_version": "1.5.0",
      "_model_name": "ProgressStyleModel",
      "_view_count": null,
      "_view_module": "@jupyter-widgets/base",
      "_view_module_version": "1.2.0",
      "_view_name": "StyleView",
      "bar_color": null,
      "description_width": "initial"
     }
    },
    "51cdf83fee13456091922b161c31a169": {
     "model_module": "@jupyter-widgets/controls",
     "model_name": "FloatProgressModel",
     "state": {
      "_dom_classes": [],
      "_model_module": "@jupyter-widgets/controls",
      "_model_module_version": "1.5.0",
      "_model_name": "FloatProgressModel",
      "_view_count": null,
      "_view_module": "@jupyter-widgets/controls",
      "_view_module_version": "1.5.0",
      "_view_name": "ProgressView",
      "bar_style": "success",
      "description": "Pandas Apply: 100%",
      "description_tooltip": null,
      "layout": "IPY_MODEL_b88cf8ff6a014689a069958c122a8081",
      "max": 657719,
      "min": 0,
      "orientation": "horizontal",
      "style": "IPY_MODEL_7a8e059df12343a3a5ca0c1f208dc09b",
      "value": 657719
     }
    },
    "57e39dad8e744557b379fd61544724a3": {
     "model_module": "@jupyter-widgets/base",
     "model_name": "LayoutModel",
     "state": {
      "_model_module": "@jupyter-widgets/base",
      "_model_module_version": "1.2.0",
      "_model_name": "LayoutModel",
      "_view_count": null,
      "_view_module": "@jupyter-widgets/base",
      "_view_module_version": "1.2.0",
      "_view_name": "LayoutView",
      "align_content": null,
      "align_items": null,
      "align_self": null,
      "border": null,
      "bottom": null,
      "display": null,
      "flex": null,
      "flex_flow": null,
      "grid_area": null,
      "grid_auto_columns": null,
      "grid_auto_flow": null,
      "grid_auto_rows": null,
      "grid_column": null,
      "grid_gap": null,
      "grid_row": null,
      "grid_template_areas": null,
      "grid_template_columns": null,
      "grid_template_rows": null,
      "height": null,
      "justify_content": null,
      "justify_items": null,
      "left": null,
      "margin": null,
      "max_height": null,
      "max_width": null,
      "min_height": null,
      "min_width": null,
      "object_fit": null,
      "object_position": null,
      "order": null,
      "overflow": null,
      "overflow_x": null,
      "overflow_y": null,
      "padding": null,
      "right": null,
      "top": null,
      "visibility": null,
      "width": null
     }
    },
    "6e3805bfd9004b09a23da78c795af690": {
     "model_module": "@jupyter-widgets/controls",
     "model_name": "ProgressStyleModel",
     "state": {
      "_model_module": "@jupyter-widgets/controls",
      "_model_module_version": "1.5.0",
      "_model_name": "ProgressStyleModel",
      "_view_count": null,
      "_view_module": "@jupyter-widgets/base",
      "_view_module_version": "1.2.0",
      "_view_name": "StyleView",
      "bar_color": null,
      "description_width": "initial"
     }
    },
    "7a8e059df12343a3a5ca0c1f208dc09b": {
     "model_module": "@jupyter-widgets/controls",
     "model_name": "ProgressStyleModel",
     "state": {
      "_model_module": "@jupyter-widgets/controls",
      "_model_module_version": "1.5.0",
      "_model_name": "ProgressStyleModel",
      "_view_count": null,
      "_view_module": "@jupyter-widgets/base",
      "_view_module_version": "1.2.0",
      "_view_name": "StyleView",
      "bar_color": null,
      "description_width": "initial"
     }
    },
    "802ca3a8a09a402a8e3d6f67f8e5f5c4": {
     "model_module": "@jupyter-widgets/base",
     "model_name": "LayoutModel",
     "state": {
      "_model_module": "@jupyter-widgets/base",
      "_model_module_version": "1.2.0",
      "_model_name": "LayoutModel",
      "_view_count": null,
      "_view_module": "@jupyter-widgets/base",
      "_view_module_version": "1.2.0",
      "_view_name": "LayoutView",
      "align_content": null,
      "align_items": null,
      "align_self": null,
      "border": null,
      "bottom": null,
      "display": null,
      "flex": null,
      "flex_flow": null,
      "grid_area": null,
      "grid_auto_columns": null,
      "grid_auto_flow": null,
      "grid_auto_rows": null,
      "grid_column": null,
      "grid_gap": null,
      "grid_row": null,
      "grid_template_areas": null,
      "grid_template_columns": null,
      "grid_template_rows": null,
      "height": null,
      "justify_content": null,
      "justify_items": null,
      "left": null,
      "margin": null,
      "max_height": null,
      "max_width": null,
      "min_height": null,
      "min_width": null,
      "object_fit": null,
      "object_position": null,
      "order": null,
      "overflow": null,
      "overflow_x": null,
      "overflow_y": null,
      "padding": null,
      "right": null,
      "top": null,
      "visibility": null,
      "width": null
     }
    },
    "8de7cdf5a1f845b1a079b7b718fc744b": {
     "model_module": "@jupyter-widgets/controls",
     "model_name": "DescriptionStyleModel",
     "state": {
      "_model_module": "@jupyter-widgets/controls",
      "_model_module_version": "1.5.0",
      "_model_name": "DescriptionStyleModel",
      "_view_count": null,
      "_view_module": "@jupyter-widgets/base",
      "_view_module_version": "1.2.0",
      "_view_name": "StyleView",
      "description_width": ""
     }
    },
    "94968a774ed441788dc5716aa0ad54dd": {
     "model_module": "@jupyter-widgets/base",
     "model_name": "LayoutModel",
     "state": {
      "_model_module": "@jupyter-widgets/base",
      "_model_module_version": "1.2.0",
      "_model_name": "LayoutModel",
      "_view_count": null,
      "_view_module": "@jupyter-widgets/base",
      "_view_module_version": "1.2.0",
      "_view_name": "LayoutView",
      "align_content": null,
      "align_items": null,
      "align_self": null,
      "border": null,
      "bottom": null,
      "display": null,
      "flex": null,
      "flex_flow": null,
      "grid_area": null,
      "grid_auto_columns": null,
      "grid_auto_flow": null,
      "grid_auto_rows": null,
      "grid_column": null,
      "grid_gap": null,
      "grid_row": null,
      "grid_template_areas": null,
      "grid_template_columns": null,
      "grid_template_rows": null,
      "height": null,
      "justify_content": null,
      "justify_items": null,
      "left": null,
      "margin": null,
      "max_height": null,
      "max_width": null,
      "min_height": null,
      "min_width": null,
      "object_fit": null,
      "object_position": null,
      "order": null,
      "overflow": null,
      "overflow_x": null,
      "overflow_y": null,
      "padding": null,
      "right": null,
      "top": null,
      "visibility": null,
      "width": null
     }
    },
    "9f4d64c32c5e4406b097d52bad59731c": {
     "model_module": "@jupyter-widgets/controls",
     "model_name": "HTMLModel",
     "state": {
      "_dom_classes": [],
      "_model_module": "@jupyter-widgets/controls",
      "_model_module_version": "1.5.0",
      "_model_name": "HTMLModel",
      "_view_count": null,
      "_view_module": "@jupyter-widgets/controls",
      "_view_module_version": "1.5.0",
      "_view_name": "HTMLView",
      "description": "",
      "description_tooltip": null,
      "layout": "IPY_MODEL_94968a774ed441788dc5716aa0ad54dd",
      "placeholder": "​",
      "style": "IPY_MODEL_411f573cc91c4dde97e46cb078f6b6c8",
      "value": " 4/4 [41:04&lt;00:00, 616.02s/it]"
     }
    },
    "a75c964543c042a1b25b1e80b7c36f08": {
     "model_module": "@jupyter-widgets/controls",
     "model_name": "HBoxModel",
     "state": {
      "_dom_classes": [],
      "_model_module": "@jupyter-widgets/controls",
      "_model_module_version": "1.5.0",
      "_model_name": "HBoxModel",
      "_view_count": null,
      "_view_module": "@jupyter-widgets/controls",
      "_view_module_version": "1.5.0",
      "_view_name": "HBoxView",
      "box_style": "",
      "children": [
       "IPY_MODEL_c039eee9908e4b31be39556f10267a85",
       "IPY_MODEL_dbf41dbb48f74a0192147dfdba3790a6"
      ],
      "layout": "IPY_MODEL_caa3fb5243964734bf0895735017a5a5"
     }
    },
    "a8f089cb6d8641f68d589c4786aac94b": {
     "model_module": "@jupyter-widgets/base",
     "model_name": "LayoutModel",
     "state": {
      "_model_module": "@jupyter-widgets/base",
      "_model_module_version": "1.2.0",
      "_model_name": "LayoutModel",
      "_view_count": null,
      "_view_module": "@jupyter-widgets/base",
      "_view_module_version": "1.2.0",
      "_view_name": "LayoutView",
      "align_content": null,
      "align_items": null,
      "align_self": null,
      "border": null,
      "bottom": null,
      "display": null,
      "flex": null,
      "flex_flow": null,
      "grid_area": null,
      "grid_auto_columns": null,
      "grid_auto_flow": null,
      "grid_auto_rows": null,
      "grid_column": null,
      "grid_gap": null,
      "grid_row": null,
      "grid_template_areas": null,
      "grid_template_columns": null,
      "grid_template_rows": null,
      "height": null,
      "justify_content": null,
      "justify_items": null,
      "left": null,
      "margin": null,
      "max_height": null,
      "max_width": null,
      "min_height": null,
      "min_width": null,
      "object_fit": null,
      "object_position": null,
      "order": null,
      "overflow": null,
      "overflow_x": null,
      "overflow_y": null,
      "padding": null,
      "right": null,
      "top": null,
      "visibility": null,
      "width": null
     }
    },
    "ace2dcf87ec343c48b1c8cd0907d4e08": {
     "model_module": "@jupyter-widgets/controls",
     "model_name": "FloatProgressModel",
     "state": {
      "_dom_classes": [],
      "_model_module": "@jupyter-widgets/controls",
      "_model_module_version": "1.5.0",
      "_model_name": "FloatProgressModel",
      "_view_count": null,
      "_view_module": "@jupyter-widgets/controls",
      "_view_module_version": "1.5.0",
      "_view_name": "ProgressView",
      "bar_style": "success",
      "description": "Pandas Apply: 100%",
      "description_tooltip": null,
      "layout": "IPY_MODEL_21e41e23049b42ba99bdd85874370238",
      "max": 657719,
      "min": 0,
      "orientation": "horizontal",
      "style": "IPY_MODEL_6e3805bfd9004b09a23da78c795af690",
      "value": 657719
     }
    },
    "add4de72b516486c8e3f813b688acf40": {
     "model_module": "@jupyter-widgets/controls",
     "model_name": "HBoxModel",
     "state": {
      "_dom_classes": [],
      "_model_module": "@jupyter-widgets/controls",
      "_model_module_version": "1.5.0",
      "_model_name": "HBoxModel",
      "_view_count": null,
      "_view_module": "@jupyter-widgets/controls",
      "_view_module_version": "1.5.0",
      "_view_name": "HBoxView",
      "box_style": "",
      "children": [
       "IPY_MODEL_ace2dcf87ec343c48b1c8cd0907d4e08",
       "IPY_MODEL_0bb7e7cc19034765afed79abd229a7e2"
      ],
      "layout": "IPY_MODEL_41af9de51a5d4fe582cebbc3bf45fe43"
     }
    },
    "aefc166599a844509cfe81ceb3f4032f": {
     "model_module": "@jupyter-widgets/controls",
     "model_name": "DescriptionStyleModel",
     "state": {
      "_model_module": "@jupyter-widgets/controls",
      "_model_module_version": "1.5.0",
      "_model_name": "DescriptionStyleModel",
      "_view_count": null,
      "_view_module": "@jupyter-widgets/base",
      "_view_module_version": "1.2.0",
      "_view_name": "StyleView",
      "description_width": ""
     }
    },
    "b88cf8ff6a014689a069958c122a8081": {
     "model_module": "@jupyter-widgets/base",
     "model_name": "LayoutModel",
     "state": {
      "_model_module": "@jupyter-widgets/base",
      "_model_module_version": "1.2.0",
      "_model_name": "LayoutModel",
      "_view_count": null,
      "_view_module": "@jupyter-widgets/base",
      "_view_module_version": "1.2.0",
      "_view_name": "LayoutView",
      "align_content": null,
      "align_items": null,
      "align_self": null,
      "border": null,
      "bottom": null,
      "display": null,
      "flex": null,
      "flex_flow": null,
      "grid_area": null,
      "grid_auto_columns": null,
      "grid_auto_flow": null,
      "grid_auto_rows": null,
      "grid_column": null,
      "grid_gap": null,
      "grid_row": null,
      "grid_template_areas": null,
      "grid_template_columns": null,
      "grid_template_rows": null,
      "height": null,
      "justify_content": null,
      "justify_items": null,
      "left": null,
      "margin": null,
      "max_height": null,
      "max_width": null,
      "min_height": null,
      "min_width": null,
      "object_fit": null,
      "object_position": null,
      "order": null,
      "overflow": null,
      "overflow_x": null,
      "overflow_y": null,
      "padding": null,
      "right": null,
      "top": null,
      "visibility": null,
      "width": null
     }
    },
    "c039eee9908e4b31be39556f10267a85": {
     "model_module": "@jupyter-widgets/controls",
     "model_name": "FloatProgressModel",
     "state": {
      "_dom_classes": [],
      "_model_module": "@jupyter-widgets/controls",
      "_model_module_version": "1.5.0",
      "_model_name": "FloatProgressModel",
      "_view_count": null,
      "_view_module": "@jupyter-widgets/controls",
      "_view_module_version": "1.5.0",
      "_view_name": "ProgressView",
      "bar_style": "",
      "description": "Pandas Apply:  15%",
      "description_tooltip": null,
      "layout": "IPY_MODEL_d8051e822b63499781459ed6c98c09fa",
      "max": 657719,
      "min": 0,
      "orientation": "horizontal",
      "style": "IPY_MODEL_18555c8c21c24ccb83bd73366af18498",
      "value": 97900
     }
    },
    "c100dd1182e34870b345b6434646d472": {
     "model_module": "@jupyter-widgets/base",
     "model_name": "LayoutModel",
     "state": {
      "_model_module": "@jupyter-widgets/base",
      "_model_module_version": "1.2.0",
      "_model_name": "LayoutModel",
      "_view_count": null,
      "_view_module": "@jupyter-widgets/base",
      "_view_module_version": "1.2.0",
      "_view_name": "LayoutView",
      "align_content": null,
      "align_items": null,
      "align_self": null,
      "border": null,
      "bottom": null,
      "display": null,
      "flex": null,
      "flex_flow": null,
      "grid_area": null,
      "grid_auto_columns": null,
      "grid_auto_flow": null,
      "grid_auto_rows": null,
      "grid_column": null,
      "grid_gap": null,
      "grid_row": null,
      "grid_template_areas": null,
      "grid_template_columns": null,
      "grid_template_rows": null,
      "height": null,
      "justify_content": null,
      "justify_items": null,
      "left": null,
      "margin": null,
      "max_height": null,
      "max_width": null,
      "min_height": null,
      "min_width": null,
      "object_fit": null,
      "object_position": null,
      "order": null,
      "overflow": null,
      "overflow_x": null,
      "overflow_y": null,
      "padding": null,
      "right": null,
      "top": null,
      "visibility": null,
      "width": null
     }
    },
    "caa3fb5243964734bf0895735017a5a5": {
     "model_module": "@jupyter-widgets/base",
     "model_name": "LayoutModel",
     "state": {
      "_model_module": "@jupyter-widgets/base",
      "_model_module_version": "1.2.0",
      "_model_name": "LayoutModel",
      "_view_count": null,
      "_view_module": "@jupyter-widgets/base",
      "_view_module_version": "1.2.0",
      "_view_name": "LayoutView",
      "align_content": null,
      "align_items": null,
      "align_self": null,
      "border": null,
      "bottom": null,
      "display": null,
      "flex": null,
      "flex_flow": null,
      "grid_area": null,
      "grid_auto_columns": null,
      "grid_auto_flow": null,
      "grid_auto_rows": null,
      "grid_column": null,
      "grid_gap": null,
      "grid_row": null,
      "grid_template_areas": null,
      "grid_template_columns": null,
      "grid_template_rows": null,
      "height": null,
      "justify_content": null,
      "justify_items": null,
      "left": null,
      "margin": null,
      "max_height": null,
      "max_width": null,
      "min_height": null,
      "min_width": null,
      "object_fit": null,
      "object_position": null,
      "order": null,
      "overflow": null,
      "overflow_x": null,
      "overflow_y": null,
      "padding": null,
      "right": null,
      "top": null,
      "visibility": null,
      "width": null
     }
    },
    "cdfdcab52961413ba440638a2a4849c8": {
     "model_module": "@jupyter-widgets/controls",
     "model_name": "HBoxModel",
     "state": {
      "_dom_classes": [],
      "_model_module": "@jupyter-widgets/controls",
      "_model_module_version": "1.5.0",
      "_model_name": "HBoxModel",
      "_view_count": null,
      "_view_module": "@jupyter-widgets/controls",
      "_view_module_version": "1.5.0",
      "_view_name": "HBoxView",
      "box_style": "",
      "children": [
       "IPY_MODEL_51cdf83fee13456091922b161c31a169",
       "IPY_MODEL_1d93eb26ed6a40a4a58e42744a23867f"
      ],
      "layout": "IPY_MODEL_a8f089cb6d8641f68d589c4786aac94b"
     }
    },
    "ce3689f41c1349119da0b0b10319644b": {
     "model_module": "@jupyter-widgets/controls",
     "model_name": "FloatProgressModel",
     "state": {
      "_dom_classes": [],
      "_model_module": "@jupyter-widgets/controls",
      "_model_module_version": "1.5.0",
      "_model_name": "FloatProgressModel",
      "_view_count": null,
      "_view_module": "@jupyter-widgets/controls",
      "_view_module_version": "1.5.0",
      "_view_name": "ProgressView",
      "bar_style": "success",
      "description": "Dask Apply: 100%",
      "description_tooltip": null,
      "layout": "IPY_MODEL_c100dd1182e34870b345b6434646d472",
      "max": 4,
      "min": 0,
      "orientation": "horizontal",
      "style": "IPY_MODEL_4200a1312250459da69c538b961f9bb6",
      "value": 4
     }
    },
    "d095d1fc9c3342968efa2eda344b2715": {
     "model_module": "@jupyter-widgets/base",
     "model_name": "LayoutModel",
     "state": {
      "_model_module": "@jupyter-widgets/base",
      "_model_module_version": "1.2.0",
      "_model_name": "LayoutModel",
      "_view_count": null,
      "_view_module": "@jupyter-widgets/base",
      "_view_module_version": "1.2.0",
      "_view_name": "LayoutView",
      "align_content": null,
      "align_items": null,
      "align_self": null,
      "border": null,
      "bottom": null,
      "display": null,
      "flex": null,
      "flex_flow": null,
      "grid_area": null,
      "grid_auto_columns": null,
      "grid_auto_flow": null,
      "grid_auto_rows": null,
      "grid_column": null,
      "grid_gap": null,
      "grid_row": null,
      "grid_template_areas": null,
      "grid_template_columns": null,
      "grid_template_rows": null,
      "height": null,
      "justify_content": null,
      "justify_items": null,
      "left": null,
      "margin": null,
      "max_height": null,
      "max_width": null,
      "min_height": null,
      "min_width": null,
      "object_fit": null,
      "object_position": null,
      "order": null,
      "overflow": null,
      "overflow_x": null,
      "overflow_y": null,
      "padding": null,
      "right": null,
      "top": null,
      "visibility": null,
      "width": null
     }
    },
    "d11a11e03ccc425c9efa42c8c63f038d": {
     "model_module": "@jupyter-widgets/controls",
     "model_name": "HBoxModel",
     "state": {
      "_dom_classes": [],
      "_model_module": "@jupyter-widgets/controls",
      "_model_module_version": "1.5.0",
      "_model_name": "HBoxModel",
      "_view_count": null,
      "_view_module": "@jupyter-widgets/controls",
      "_view_module_version": "1.5.0",
      "_view_name": "HBoxView",
      "box_style": "",
      "children": [
       "IPY_MODEL_ce3689f41c1349119da0b0b10319644b",
       "IPY_MODEL_9f4d64c32c5e4406b097d52bad59731c"
      ],
      "layout": "IPY_MODEL_57e39dad8e744557b379fd61544724a3"
     }
    },
    "d8051e822b63499781459ed6c98c09fa": {
     "model_module": "@jupyter-widgets/base",
     "model_name": "LayoutModel",
     "state": {
      "_model_module": "@jupyter-widgets/base",
      "_model_module_version": "1.2.0",
      "_model_name": "LayoutModel",
      "_view_count": null,
      "_view_module": "@jupyter-widgets/base",
      "_view_module_version": "1.2.0",
      "_view_name": "LayoutView",
      "align_content": null,
      "align_items": null,
      "align_self": null,
      "border": null,
      "bottom": null,
      "display": null,
      "flex": null,
      "flex_flow": null,
      "grid_area": null,
      "grid_auto_columns": null,
      "grid_auto_flow": null,
      "grid_auto_rows": null,
      "grid_column": null,
      "grid_gap": null,
      "grid_row": null,
      "grid_template_areas": null,
      "grid_template_columns": null,
      "grid_template_rows": null,
      "height": null,
      "justify_content": null,
      "justify_items": null,
      "left": null,
      "margin": null,
      "max_height": null,
      "max_width": null,
      "min_height": null,
      "min_width": null,
      "object_fit": null,
      "object_position": null,
      "order": null,
      "overflow": null,
      "overflow_x": null,
      "overflow_y": null,
      "padding": null,
      "right": null,
      "top": null,
      "visibility": null,
      "width": null
     }
    },
    "dbf41dbb48f74a0192147dfdba3790a6": {
     "model_module": "@jupyter-widgets/controls",
     "model_name": "HTMLModel",
     "state": {
      "_dom_classes": [],
      "_model_module": "@jupyter-widgets/controls",
      "_model_module_version": "1.5.0",
      "_model_name": "HTMLModel",
      "_view_count": null,
      "_view_module": "@jupyter-widgets/controls",
      "_view_module_version": "1.5.0",
      "_view_name": "HTMLView",
      "description": "",
      "description_tooltip": null,
      "layout": "IPY_MODEL_322634b3387542ddbe73b5289e8ac419",
      "placeholder": "​",
      "style": "IPY_MODEL_aefc166599a844509cfe81ceb3f4032f",
      "value": " 97900/657719 [01:35&lt;09:20, 999.53it/s]"
     }
    },
    "f1496c53574541708df4545c9bdfc89c": {
     "model_module": "@jupyter-widgets/controls",
     "model_name": "DescriptionStyleModel",
     "state": {
      "_model_module": "@jupyter-widgets/controls",
      "_model_module_version": "1.5.0",
      "_model_name": "DescriptionStyleModel",
      "_view_count": null,
      "_view_module": "@jupyter-widgets/base",
      "_view_module_version": "1.2.0",
      "_view_name": "StyleView",
      "description_width": ""
     }
    }
   }
  }
 },
 "nbformat": 4,
 "nbformat_minor": 4
}
